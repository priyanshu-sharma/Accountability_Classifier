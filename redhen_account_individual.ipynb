{
 "cells": [
  {
   "cell_type": "markdown",
   "metadata": {},
   "source": [
    "# REDHEN DATA ANALYSIS "
   ]
  },
  {
   "cell_type": "markdown",
   "metadata": {},
   "source": [
    "## LIBRARIES "
   ]
  },
  {
   "cell_type": "code",
   "execution_count": 1,
   "metadata": {},
   "outputs": [],
   "source": [
    "%load_ext autoreload\n",
    "%autoreload 2\n",
    "%matplotlib inline"
   ]
  },
  {
   "cell_type": "code",
   "execution_count": 2,
   "metadata": {},
   "outputs": [],
   "source": [
    "# DataFrame\n",
    "import pandas as pd\n",
    "\n",
    "# Matplotlib\n",
    "import matplotlib.pyplot as plt\n",
    "%matplotlib inline\n",
    "\n",
    "# Scikit-learn\n",
    "from sklearn.model_selection import train_test_split\n",
    "from sklearn.preprocessing import LabelEncoder\n",
    "from sklearn.metrics import confusion_matrix, classification_report, accuracy_score\n",
    "from sklearn.manifold import TSNE\n",
    "from sklearn.feature_extraction.text import TfidfVectorizer"
   ]
  },
  {
   "cell_type": "code",
   "execution_count": 3,
   "metadata": {},
   "outputs": [
    {
     "name": "stderr",
     "output_type": "stream",
     "text": [
      "Using TensorFlow backend.\n"
     ]
    }
   ],
   "source": [
    "# Keras\n",
    "from keras.preprocessing.text import Tokenizer\n",
    "from keras.preprocessing.sequence import pad_sequences\n",
    "from keras.models import Sequential\n",
    "from keras.layers import Activation, Dense, Dropout, Embedding, Flatten, Conv1D, MaxPooling1D, LSTM\n",
    "from keras import utils\n",
    "from keras.callbacks import ReduceLROnPlateau, EarlyStopping"
   ]
  },
  {
   "cell_type": "code",
   "execution_count": 4,
   "metadata": {},
   "outputs": [],
   "source": [
    "# nltk\n",
    "import nltk\n",
    "from nltk.corpus import stopwords\n",
    "from  nltk.stem import SnowballStemmer\n",
    "\n",
    "# Word2vec\n",
    "import gensim"
   ]
  },
  {
   "cell_type": "code",
   "execution_count": 5,
   "metadata": {},
   "outputs": [],
   "source": [
    "# Utility\n",
    "import re\n",
    "import numpy as np\n",
    "import os\n",
    "from collections import Counter\n",
    "import logging\n",
    "import time\n",
    "import pickle\n",
    "import itertools"
   ]
  },
  {
   "cell_type": "code",
   "execution_count": 6,
   "metadata": {},
   "outputs": [],
   "source": [
    "# Set log\n",
    "logging.basicConfig(format='%(asctime)s : %(levelname)s : %(message)s', level=logging.INFO)"
   ]
  },
  {
   "cell_type": "markdown",
   "metadata": {},
   "source": [
    "## SETTINGS "
   ]
  },
  {
   "cell_type": "code",
   "execution_count": 7,
   "metadata": {},
   "outputs": [],
   "source": [
    "# DATASET\n",
    "DATASET_ENCODING = \"ISO-8859-1\"\n",
    "TRAIN_SIZE = 0.8\n",
    "\n",
    "# TEXT CLENAING\n",
    "TEXT_CLEANING_RE = \"@\\S+|https?:\\S+|http?:\\S|[^A-Za-z0-9]+\"\n",
    "\n",
    "# WORD2VEC \n",
    "W2V_SIZE = 300\n",
    "W2V_WINDOW = 7\n",
    "W2V_EPOCH = 32\n",
    "W2V_MIN_COUNT = 10\n",
    "\n",
    "# KERAS\n",
    "SEQUENCE_LENGTH = 300\n",
    "EPOCHS = 8\n",
    "BATCH_SIZE = 1024\n",
    "\n",
    "# EXPORT\n",
    "KERAS_MODEL = \"model_individual.h5\"\n",
    "WORD2VEC_MODEL = \"model_individual.w2v\"\n",
    "TOKENIZER_MODEL = \"tokenizer_individual.pkl\"\n",
    "ENCODER_MODEL = \"encoder_individual.pkl\""
   ]
  },
  {
   "cell_type": "markdown",
   "metadata": {},
   "source": [
    "## READING DATASET "
   ]
  },
  {
   "cell_type": "code",
   "execution_count": 8,
   "metadata": {},
   "outputs": [
    {
     "data": {
      "text/html": [
       "<div>\n",
       "<style scoped>\n",
       "    .dataframe tbody tr th:only-of-type {\n",
       "        vertical-align: middle;\n",
       "    }\n",
       "\n",
       "    .dataframe tbody tr th {\n",
       "        vertical-align: top;\n",
       "    }\n",
       "\n",
       "    .dataframe thead th {\n",
       "        text-align: right;\n",
       "    }\n",
       "</style>\n",
       "<table border=\"1\" class=\"dataframe\">\n",
       "  <thead>\n",
       "    <tr style=\"text-align: right;\">\n",
       "      <th></th>\n",
       "      <th>Unnamed: 0</th>\n",
       "      <th>StoryID</th>\n",
       "      <th>Excerpt</th>\n",
       "      <th>CodesApplied_Combined</th>\n",
       "      <th>ACCOUNT</th>\n",
       "      <th>ACCOUNT_Cultural</th>\n",
       "      <th>ACCOUNT_Individual</th>\n",
       "      <th>ACCOUNT_Other</th>\n",
       "      <th>COMMUNITYRECOVERY</th>\n",
       "      <th>EVENT</th>\n",
       "      <th>...</th>\n",
       "      <th>TRAUMA_Societal</th>\n",
       "      <th>VICTIMS</th>\n",
       "      <th>word_count</th>\n",
       "      <th>char_count</th>\n",
       "      <th>Excerpt_pre</th>\n",
       "      <th>Excerpt_tokenized</th>\n",
       "      <th>Excerpt_nonstop</th>\n",
       "      <th>Excerpt_stemmed</th>\n",
       "      <th>Excerpt_lemmatized</th>\n",
       "      <th>Excerpt_clean</th>\n",
       "    </tr>\n",
       "  </thead>\n",
       "  <tbody>\n",
       "    <tr>\n",
       "      <th>0</th>\n",
       "      <td>7992</td>\n",
       "      <td>NI3079</td>\n",
       "      <td>Elliot Rodger Wangs roommate stabbed Wang and ...</td>\n",
       "      <td>EVENT</td>\n",
       "      <td>0</td>\n",
       "      <td>0</td>\n",
       "      <td>0</td>\n",
       "      <td>0</td>\n",
       "      <td>99</td>\n",
       "      <td>1</td>\n",
       "      <td>...</td>\n",
       "      <td>99</td>\n",
       "      <td>0</td>\n",
       "      <td>34</td>\n",
       "      <td>215.0</td>\n",
       "      <td>elliot rodger wangs roommate stabbed wang two ...</td>\n",
       "      <td>['elliot', 'rodger', 'wangs', 'roommate', 'sta...</td>\n",
       "      <td>['elliot', 'rodger', 'wangs', 'roommate', 'sta...</td>\n",
       "      <td>['elliot', 'rodger', 'wang', 'roommat', 'stab'...</td>\n",
       "      <td>['elliot', 'rodger', 'wangs', 'roommate', 'sta...</td>\n",
       "      <td>['elliot', 'rodger', 'wang', 'roommat', 'stab'...</td>\n",
       "    </tr>\n",
       "    <tr>\n",
       "      <th>1</th>\n",
       "      <td>4686</td>\n",
       "      <td>NI2689</td>\n",
       "      <td>Because the tragedy unfolded at the start of a...</td>\n",
       "      <td>RESOURCES</td>\n",
       "      <td>0</td>\n",
       "      <td>0</td>\n",
       "      <td>0</td>\n",
       "      <td>0</td>\n",
       "      <td>99</td>\n",
       "      <td>0</td>\n",
       "      <td>...</td>\n",
       "      <td>99</td>\n",
       "      <td>0</td>\n",
       "      <td>32</td>\n",
       "      <td>228.0</td>\n",
       "      <td>tragedy unfolded start holiday weekend school ...</td>\n",
       "      <td>['tragedy', 'unfolded', 'start', 'holiday', 'w...</td>\n",
       "      <td>['tragedy', 'unfolded', 'start', 'holiday', 'w...</td>\n",
       "      <td>['tragedi', 'unfold', 'start', 'holiday', 'wee...</td>\n",
       "      <td>['tragedy', 'unfolded', 'start', 'holiday', 'w...</td>\n",
       "      <td>['tragedi', 'unfold', 'start', 'holiday', 'wee...</td>\n",
       "    </tr>\n",
       "    <tr>\n",
       "      <th>2</th>\n",
       "      <td>6130</td>\n",
       "      <td>NI2400</td>\n",
       "      <td>Gunrelated restraining orders Also passed in r...</td>\n",
       "      <td>POLICY, POLICY- Guns, POLICY- Mental health</td>\n",
       "      <td>0</td>\n",
       "      <td>0</td>\n",
       "      <td>0</td>\n",
       "      <td>0</td>\n",
       "      <td>99</td>\n",
       "      <td>0</td>\n",
       "      <td>...</td>\n",
       "      <td>99</td>\n",
       "      <td>0</td>\n",
       "      <td>122</td>\n",
       "      <td>734.0</td>\n",
       "      <td>gunrelated restraining orders also passed resp...</td>\n",
       "      <td>['gunrelated', 'restraining', 'orders', 'also'...</td>\n",
       "      <td>['gunrelated', 'restraining', 'orders', 'also'...</td>\n",
       "      <td>['gunrel', 'restrain', 'order', 'also', 'pass'...</td>\n",
       "      <td>['gunrelated', 'restraining', 'order', 'also',...</td>\n",
       "      <td>['gunrel', 'restrain', 'order', 'also', 'pass'...</td>\n",
       "    </tr>\n",
       "    <tr>\n",
       "      <th>3</th>\n",
       "      <td>5876</td>\n",
       "      <td>NI1393</td>\n",
       "      <td>Linder said she will also remember Weiss for h...</td>\n",
       "      <td>VICTIMS, GRIEF/LOSS</td>\n",
       "      <td>0</td>\n",
       "      <td>0</td>\n",
       "      <td>0</td>\n",
       "      <td>0</td>\n",
       "      <td>99</td>\n",
       "      <td>0</td>\n",
       "      <td>...</td>\n",
       "      <td>99</td>\n",
       "      <td>1</td>\n",
       "      <td>100</td>\n",
       "      <td>499.0</td>\n",
       "      <td>linder said also remember weiss epic shot pool...</td>\n",
       "      <td>['linder', 'said', 'also', 'remember', 'weiss'...</td>\n",
       "      <td>['linder', 'said', 'also', 'remember', 'weiss'...</td>\n",
       "      <td>['linder', 'said', 'also', 'rememb', 'weiss', ...</td>\n",
       "      <td>['linder', 'said', 'also', 'remember', 'wei', ...</td>\n",
       "      <td>['linder', 'said', 'also', 'rememb', 'weiss', ...</td>\n",
       "    </tr>\n",
       "    <tr>\n",
       "      <th>4</th>\n",
       "      <td>4126</td>\n",
       "      <td>NI3259</td>\n",
       "      <td>I mean I know how this goes We all do Werent y...</td>\n",
       "      <td>ACCOUNTABILITY, ACCOUNT- Culture/societal risk...</td>\n",
       "      <td>1</td>\n",
       "      <td>1</td>\n",
       "      <td>0</td>\n",
       "      <td>0</td>\n",
       "      <td>99</td>\n",
       "      <td>0</td>\n",
       "      <td>...</td>\n",
       "      <td>99</td>\n",
       "      <td>0</td>\n",
       "      <td>85</td>\n",
       "      <td>425.0</td>\n",
       "      <td>mean know goes werent sort expecting father on...</td>\n",
       "      <td>['mean', 'know', 'goes', 'werent', 'sort', 'ex...</td>\n",
       "      <td>['mean', 'know', 'goes', 'werent', 'sort', 'ex...</td>\n",
       "      <td>['mean', 'know', 'goe', 'werent', 'sort', 'exp...</td>\n",
       "      <td>['mean', 'know', 'go', 'werent', 'sort', 'expe...</td>\n",
       "      <td>['mean', 'know', 'goe', 'werent', 'sort', 'exp...</td>\n",
       "    </tr>\n",
       "  </tbody>\n",
       "</table>\n",
       "<p>5 rows × 62 columns</p>\n",
       "</div>"
      ],
      "text/plain": [
       "   Unnamed: 0 StoryID                                            Excerpt  \\\n",
       "0        7992  NI3079  Elliot Rodger Wangs roommate stabbed Wang and ...   \n",
       "1        4686  NI2689  Because the tragedy unfolded at the start of a...   \n",
       "2        6130  NI2400  Gunrelated restraining orders Also passed in r...   \n",
       "3        5876  NI1393  Linder said she will also remember Weiss for h...   \n",
       "4        4126  NI3259  I mean I know how this goes We all do Werent y...   \n",
       "\n",
       "                               CodesApplied_Combined  ACCOUNT  \\\n",
       "0                                              EVENT        0   \n",
       "1                                          RESOURCES        0   \n",
       "2        POLICY, POLICY- Guns, POLICY- Mental health        0   \n",
       "3                                VICTIMS, GRIEF/LOSS        0   \n",
       "4  ACCOUNTABILITY, ACCOUNT- Culture/societal risk...        1   \n",
       "\n",
       "   ACCOUNT_Cultural  ACCOUNT_Individual  ACCOUNT_Other  COMMUNITYRECOVERY  \\\n",
       "0                 0                   0              0                 99   \n",
       "1                 0                   0              0                 99   \n",
       "2                 0                   0              0                 99   \n",
       "3                 0                   0              0                 99   \n",
       "4                 1                   0              0                 99   \n",
       "\n",
       "   EVENT  ...  TRAUMA_Societal  VICTIMS  word_count  char_count  \\\n",
       "0      1  ...               99        0          34       215.0   \n",
       "1      0  ...               99        0          32       228.0   \n",
       "2      0  ...               99        0         122       734.0   \n",
       "3      0  ...               99        1         100       499.0   \n",
       "4      0  ...               99        0          85       425.0   \n",
       "\n",
       "                                         Excerpt_pre  \\\n",
       "0  elliot rodger wangs roommate stabbed wang two ...   \n",
       "1  tragedy unfolded start holiday weekend school ...   \n",
       "2  gunrelated restraining orders also passed resp...   \n",
       "3  linder said also remember weiss epic shot pool...   \n",
       "4  mean know goes werent sort expecting father on...   \n",
       "\n",
       "                                   Excerpt_tokenized  \\\n",
       "0  ['elliot', 'rodger', 'wangs', 'roommate', 'sta...   \n",
       "1  ['tragedy', 'unfolded', 'start', 'holiday', 'w...   \n",
       "2  ['gunrelated', 'restraining', 'orders', 'also'...   \n",
       "3  ['linder', 'said', 'also', 'remember', 'weiss'...   \n",
       "4  ['mean', 'know', 'goes', 'werent', 'sort', 'ex...   \n",
       "\n",
       "                                     Excerpt_nonstop  \\\n",
       "0  ['elliot', 'rodger', 'wangs', 'roommate', 'sta...   \n",
       "1  ['tragedy', 'unfolded', 'start', 'holiday', 'w...   \n",
       "2  ['gunrelated', 'restraining', 'orders', 'also'...   \n",
       "3  ['linder', 'said', 'also', 'remember', 'weiss'...   \n",
       "4  ['mean', 'know', 'goes', 'werent', 'sort', 'ex...   \n",
       "\n",
       "                                     Excerpt_stemmed  \\\n",
       "0  ['elliot', 'rodger', 'wang', 'roommat', 'stab'...   \n",
       "1  ['tragedi', 'unfold', 'start', 'holiday', 'wee...   \n",
       "2  ['gunrel', 'restrain', 'order', 'also', 'pass'...   \n",
       "3  ['linder', 'said', 'also', 'rememb', 'weiss', ...   \n",
       "4  ['mean', 'know', 'goe', 'werent', 'sort', 'exp...   \n",
       "\n",
       "                                  Excerpt_lemmatized  \\\n",
       "0  ['elliot', 'rodger', 'wangs', 'roommate', 'sta...   \n",
       "1  ['tragedy', 'unfolded', 'start', 'holiday', 'w...   \n",
       "2  ['gunrelated', 'restraining', 'order', 'also',...   \n",
       "3  ['linder', 'said', 'also', 'remember', 'wei', ...   \n",
       "4  ['mean', 'know', 'go', 'werent', 'sort', 'expe...   \n",
       "\n",
       "                                       Excerpt_clean  \n",
       "0  ['elliot', 'rodger', 'wang', 'roommat', 'stab'...  \n",
       "1  ['tragedi', 'unfold', 'start', 'holiday', 'wee...  \n",
       "2  ['gunrel', 'restrain', 'order', 'also', 'pass'...  \n",
       "3  ['linder', 'said', 'also', 'rememb', 'weiss', ...  \n",
       "4  ['mean', 'know', 'goe', 'werent', 'sort', 'exp...  \n",
       "\n",
       "[5 rows x 62 columns]"
      ]
     },
     "execution_count": 8,
     "metadata": {},
     "output_type": "execute_result"
    }
   ],
   "source": [
    "data = pd.read_csv('redhen_preprocessed.csv')\n",
    "data.head()"
   ]
  },
  {
   "cell_type": "code",
   "execution_count": 9,
   "metadata": {},
   "outputs": [
    {
     "data": {
      "text/plain": [
       "(8131, 62)"
      ]
     },
     "execution_count": 9,
     "metadata": {},
     "output_type": "execute_result"
    }
   ],
   "source": [
    "data.shape"
   ]
  },
  {
   "cell_type": "code",
   "execution_count": 10,
   "metadata": {},
   "outputs": [
    {
     "data": {
      "text/html": [
       "<div>\n",
       "<style scoped>\n",
       "    .dataframe tbody tr th:only-of-type {\n",
       "        vertical-align: middle;\n",
       "    }\n",
       "\n",
       "    .dataframe tbody tr th {\n",
       "        vertical-align: top;\n",
       "    }\n",
       "\n",
       "    .dataframe thead th {\n",
       "        text-align: right;\n",
       "    }\n",
       "</style>\n",
       "<table border=\"1\" class=\"dataframe\">\n",
       "  <thead>\n",
       "    <tr style=\"text-align: right;\">\n",
       "      <th></th>\n",
       "      <th>Unnamed: 0</th>\n",
       "      <th>StoryID</th>\n",
       "      <th>Excerpt</th>\n",
       "      <th>CodesApplied_Combined</th>\n",
       "      <th>ACCOUNT</th>\n",
       "      <th>ACCOUNT_Cultural</th>\n",
       "      <th>target</th>\n",
       "      <th>ACCOUNT_Other</th>\n",
       "      <th>COMMUNITYRECOVERY</th>\n",
       "      <th>EVENT</th>\n",
       "      <th>...</th>\n",
       "      <th>TRAUMA_Societal</th>\n",
       "      <th>VICTIMS</th>\n",
       "      <th>word_count</th>\n",
       "      <th>char_count</th>\n",
       "      <th>Excerpt_pre</th>\n",
       "      <th>Excerpt_tokenized</th>\n",
       "      <th>Excerpt_nonstop</th>\n",
       "      <th>Excerpt_stemmed</th>\n",
       "      <th>Excerpt_lemmatized</th>\n",
       "      <th>Excerpt_clean</th>\n",
       "    </tr>\n",
       "  </thead>\n",
       "  <tbody>\n",
       "    <tr>\n",
       "      <th>0</th>\n",
       "      <td>7992</td>\n",
       "      <td>NI3079</td>\n",
       "      <td>Elliot Rodger Wangs roommate stabbed Wang and ...</td>\n",
       "      <td>EVENT</td>\n",
       "      <td>0</td>\n",
       "      <td>0</td>\n",
       "      <td>0</td>\n",
       "      <td>0</td>\n",
       "      <td>99</td>\n",
       "      <td>1</td>\n",
       "      <td>...</td>\n",
       "      <td>99</td>\n",
       "      <td>0</td>\n",
       "      <td>34</td>\n",
       "      <td>215.0</td>\n",
       "      <td>elliot rodger wangs roommate stabbed wang two ...</td>\n",
       "      <td>['elliot', 'rodger', 'wangs', 'roommate', 'sta...</td>\n",
       "      <td>['elliot', 'rodger', 'wangs', 'roommate', 'sta...</td>\n",
       "      <td>['elliot', 'rodger', 'wang', 'roommat', 'stab'...</td>\n",
       "      <td>['elliot', 'rodger', 'wangs', 'roommate', 'sta...</td>\n",
       "      <td>['elliot', 'rodger', 'wang', 'roommat', 'stab'...</td>\n",
       "    </tr>\n",
       "    <tr>\n",
       "      <th>1</th>\n",
       "      <td>4686</td>\n",
       "      <td>NI2689</td>\n",
       "      <td>Because the tragedy unfolded at the start of a...</td>\n",
       "      <td>RESOURCES</td>\n",
       "      <td>0</td>\n",
       "      <td>0</td>\n",
       "      <td>0</td>\n",
       "      <td>0</td>\n",
       "      <td>99</td>\n",
       "      <td>0</td>\n",
       "      <td>...</td>\n",
       "      <td>99</td>\n",
       "      <td>0</td>\n",
       "      <td>32</td>\n",
       "      <td>228.0</td>\n",
       "      <td>tragedy unfolded start holiday weekend school ...</td>\n",
       "      <td>['tragedy', 'unfolded', 'start', 'holiday', 'w...</td>\n",
       "      <td>['tragedy', 'unfolded', 'start', 'holiday', 'w...</td>\n",
       "      <td>['tragedi', 'unfold', 'start', 'holiday', 'wee...</td>\n",
       "      <td>['tragedy', 'unfolded', 'start', 'holiday', 'w...</td>\n",
       "      <td>['tragedi', 'unfold', 'start', 'holiday', 'wee...</td>\n",
       "    </tr>\n",
       "    <tr>\n",
       "      <th>2</th>\n",
       "      <td>6130</td>\n",
       "      <td>NI2400</td>\n",
       "      <td>Gunrelated restraining orders Also passed in r...</td>\n",
       "      <td>POLICY, POLICY- Guns, POLICY- Mental health</td>\n",
       "      <td>0</td>\n",
       "      <td>0</td>\n",
       "      <td>0</td>\n",
       "      <td>0</td>\n",
       "      <td>99</td>\n",
       "      <td>0</td>\n",
       "      <td>...</td>\n",
       "      <td>99</td>\n",
       "      <td>0</td>\n",
       "      <td>122</td>\n",
       "      <td>734.0</td>\n",
       "      <td>gunrelated restraining orders also passed resp...</td>\n",
       "      <td>['gunrelated', 'restraining', 'orders', 'also'...</td>\n",
       "      <td>['gunrelated', 'restraining', 'orders', 'also'...</td>\n",
       "      <td>['gunrel', 'restrain', 'order', 'also', 'pass'...</td>\n",
       "      <td>['gunrelated', 'restraining', 'order', 'also',...</td>\n",
       "      <td>['gunrel', 'restrain', 'order', 'also', 'pass'...</td>\n",
       "    </tr>\n",
       "    <tr>\n",
       "      <th>3</th>\n",
       "      <td>5876</td>\n",
       "      <td>NI1393</td>\n",
       "      <td>Linder said she will also remember Weiss for h...</td>\n",
       "      <td>VICTIMS, GRIEF/LOSS</td>\n",
       "      <td>0</td>\n",
       "      <td>0</td>\n",
       "      <td>0</td>\n",
       "      <td>0</td>\n",
       "      <td>99</td>\n",
       "      <td>0</td>\n",
       "      <td>...</td>\n",
       "      <td>99</td>\n",
       "      <td>1</td>\n",
       "      <td>100</td>\n",
       "      <td>499.0</td>\n",
       "      <td>linder said also remember weiss epic shot pool...</td>\n",
       "      <td>['linder', 'said', 'also', 'remember', 'weiss'...</td>\n",
       "      <td>['linder', 'said', 'also', 'remember', 'weiss'...</td>\n",
       "      <td>['linder', 'said', 'also', 'rememb', 'weiss', ...</td>\n",
       "      <td>['linder', 'said', 'also', 'remember', 'wei', ...</td>\n",
       "      <td>['linder', 'said', 'also', 'rememb', 'weiss', ...</td>\n",
       "    </tr>\n",
       "    <tr>\n",
       "      <th>4</th>\n",
       "      <td>4126</td>\n",
       "      <td>NI3259</td>\n",
       "      <td>I mean I know how this goes We all do Werent y...</td>\n",
       "      <td>ACCOUNTABILITY, ACCOUNT- Culture/societal risk...</td>\n",
       "      <td>1</td>\n",
       "      <td>1</td>\n",
       "      <td>0</td>\n",
       "      <td>0</td>\n",
       "      <td>99</td>\n",
       "      <td>0</td>\n",
       "      <td>...</td>\n",
       "      <td>99</td>\n",
       "      <td>0</td>\n",
       "      <td>85</td>\n",
       "      <td>425.0</td>\n",
       "      <td>mean know goes werent sort expecting father on...</td>\n",
       "      <td>['mean', 'know', 'goes', 'werent', 'sort', 'ex...</td>\n",
       "      <td>['mean', 'know', 'goes', 'werent', 'sort', 'ex...</td>\n",
       "      <td>['mean', 'know', 'goe', 'werent', 'sort', 'exp...</td>\n",
       "      <td>['mean', 'know', 'go', 'werent', 'sort', 'expe...</td>\n",
       "      <td>['mean', 'know', 'goe', 'werent', 'sort', 'exp...</td>\n",
       "    </tr>\n",
       "  </tbody>\n",
       "</table>\n",
       "<p>5 rows × 62 columns</p>\n",
       "</div>"
      ],
      "text/plain": [
       "   Unnamed: 0 StoryID                                            Excerpt  \\\n",
       "0        7992  NI3079  Elliot Rodger Wangs roommate stabbed Wang and ...   \n",
       "1        4686  NI2689  Because the tragedy unfolded at the start of a...   \n",
       "2        6130  NI2400  Gunrelated restraining orders Also passed in r...   \n",
       "3        5876  NI1393  Linder said she will also remember Weiss for h...   \n",
       "4        4126  NI3259  I mean I know how this goes We all do Werent y...   \n",
       "\n",
       "                               CodesApplied_Combined  ACCOUNT  \\\n",
       "0                                              EVENT        0   \n",
       "1                                          RESOURCES        0   \n",
       "2        POLICY, POLICY- Guns, POLICY- Mental health        0   \n",
       "3                                VICTIMS, GRIEF/LOSS        0   \n",
       "4  ACCOUNTABILITY, ACCOUNT- Culture/societal risk...        1   \n",
       "\n",
       "   ACCOUNT_Cultural  target  ACCOUNT_Other  COMMUNITYRECOVERY  EVENT  ...  \\\n",
       "0                 0       0              0                 99      1  ...   \n",
       "1                 0       0              0                 99      0  ...   \n",
       "2                 0       0              0                 99      0  ...   \n",
       "3                 0       0              0                 99      0  ...   \n",
       "4                 1       0              0                 99      0  ...   \n",
       "\n",
       "   TRAUMA_Societal  VICTIMS  word_count  char_count  \\\n",
       "0               99        0          34       215.0   \n",
       "1               99        0          32       228.0   \n",
       "2               99        0         122       734.0   \n",
       "3               99        1         100       499.0   \n",
       "4               99        0          85       425.0   \n",
       "\n",
       "                                         Excerpt_pre  \\\n",
       "0  elliot rodger wangs roommate stabbed wang two ...   \n",
       "1  tragedy unfolded start holiday weekend school ...   \n",
       "2  gunrelated restraining orders also passed resp...   \n",
       "3  linder said also remember weiss epic shot pool...   \n",
       "4  mean know goes werent sort expecting father on...   \n",
       "\n",
       "                                   Excerpt_tokenized  \\\n",
       "0  ['elliot', 'rodger', 'wangs', 'roommate', 'sta...   \n",
       "1  ['tragedy', 'unfolded', 'start', 'holiday', 'w...   \n",
       "2  ['gunrelated', 'restraining', 'orders', 'also'...   \n",
       "3  ['linder', 'said', 'also', 'remember', 'weiss'...   \n",
       "4  ['mean', 'know', 'goes', 'werent', 'sort', 'ex...   \n",
       "\n",
       "                                     Excerpt_nonstop  \\\n",
       "0  ['elliot', 'rodger', 'wangs', 'roommate', 'sta...   \n",
       "1  ['tragedy', 'unfolded', 'start', 'holiday', 'w...   \n",
       "2  ['gunrelated', 'restraining', 'orders', 'also'...   \n",
       "3  ['linder', 'said', 'also', 'remember', 'weiss'...   \n",
       "4  ['mean', 'know', 'goes', 'werent', 'sort', 'ex...   \n",
       "\n",
       "                                     Excerpt_stemmed  \\\n",
       "0  ['elliot', 'rodger', 'wang', 'roommat', 'stab'...   \n",
       "1  ['tragedi', 'unfold', 'start', 'holiday', 'wee...   \n",
       "2  ['gunrel', 'restrain', 'order', 'also', 'pass'...   \n",
       "3  ['linder', 'said', 'also', 'rememb', 'weiss', ...   \n",
       "4  ['mean', 'know', 'goe', 'werent', 'sort', 'exp...   \n",
       "\n",
       "                                  Excerpt_lemmatized  \\\n",
       "0  ['elliot', 'rodger', 'wangs', 'roommate', 'sta...   \n",
       "1  ['tragedy', 'unfolded', 'start', 'holiday', 'w...   \n",
       "2  ['gunrelated', 'restraining', 'order', 'also',...   \n",
       "3  ['linder', 'said', 'also', 'remember', 'wei', ...   \n",
       "4  ['mean', 'know', 'go', 'werent', 'sort', 'expe...   \n",
       "\n",
       "                                       Excerpt_clean  \n",
       "0  ['elliot', 'rodger', 'wang', 'roommat', 'stab'...  \n",
       "1  ['tragedi', 'unfold', 'start', 'holiday', 'wee...  \n",
       "2  ['gunrel', 'restrain', 'order', 'also', 'pass'...  \n",
       "3  ['linder', 'said', 'also', 'rememb', 'weiss', ...  \n",
       "4  ['mean', 'know', 'goe', 'werent', 'sort', 'exp...  \n",
       "\n",
       "[5 rows x 62 columns]"
      ]
     },
     "execution_count": 10,
     "metadata": {},
     "output_type": "execute_result"
    }
   ],
   "source": [
    "data.rename(columns={'ACCOUNT_Individual': 'target'}, inplace=True)\n",
    "data.head()"
   ]
  },
  {
   "cell_type": "code",
   "execution_count": 14,
   "metadata": {},
   "outputs": [
    {
     "data": {
      "text/plain": [
       "Index(['Unnamed: 0', 'StoryID', 'Excerpt', 'CodesApplied_Combined', 'ACCOUNT',\n",
       "       'ACCOUNT_Cultural', 'target', 'ACCOUNT_Other', 'COMMUNITYRECOVERY',\n",
       "       'EVENT', 'GRIEF', 'GRIEF_Individual', 'GRIEF_Community',\n",
       "       'GRIEF_Societal', 'HERO', 'INVESTIGATION', 'JOURNEY', 'JOURNEY_Mental',\n",
       "       'JOURNEY_Physical', 'LEGAL', 'MEDIA', 'MISCELLANEOUS', 'MOURNING',\n",
       "       'MOURNING_Individual', 'MOURNING_Community', 'MOURNING_Societal',\n",
       "       'PERPETRATOR', 'PHOTO', 'POLICY', 'POLICY_Guns', 'POLICY_InfoSharing',\n",
       "       'POLICY_MentalHealth', 'POLICY_Other', 'POLICY_VictimAdv',\n",
       "       'POLICY_OtherAdv', 'POLICY_Practice', 'PRIVATESECTOR', 'RACECULTURE',\n",
       "       'RESOURCES', 'SAFETY', 'SAFETY_Community', 'SAFETY_Individual',\n",
       "       'SAFETY_SchoolOrg', 'SAFETY_Societal', 'SOCIALSUPPORT', 'THREAT',\n",
       "       'THREAT_Assessment', 'TRAUMA', 'TRAUMA_Physical',\n",
       "       'TRAUMA_Psychological', 'TRAUMA_Individual', 'TRAUMA_Community',\n",
       "       'TRAUMA_Societal', 'VICTIMS', 'word_count', 'char_count', 'Excerpt_pre',\n",
       "       'Excerpt_tokenized', 'Excerpt_nonstop', 'Excerpt_stemmed',\n",
       "       'Excerpt_lemmatized', 'Excerpt_clean'],\n",
       "      dtype='object')"
      ]
     },
     "execution_count": 14,
     "metadata": {},
     "output_type": "execute_result"
    }
   ],
   "source": [
    "data.columns"
   ]
  },
  {
   "cell_type": "code",
   "execution_count": 15,
   "metadata": {},
   "outputs": [
    {
     "data": {
      "text/html": [
       "<div>\n",
       "<style scoped>\n",
       "    .dataframe tbody tr th:only-of-type {\n",
       "        vertical-align: middle;\n",
       "    }\n",
       "\n",
       "    .dataframe tbody tr th {\n",
       "        vertical-align: top;\n",
       "    }\n",
       "\n",
       "    .dataframe thead th {\n",
       "        text-align: right;\n",
       "    }\n",
       "</style>\n",
       "<table border=\"1\" class=\"dataframe\">\n",
       "  <thead>\n",
       "    <tr style=\"text-align: right;\">\n",
       "      <th></th>\n",
       "      <th>StoryID</th>\n",
       "      <th>Excerpt</th>\n",
       "      <th>Excerpt_pre</th>\n",
       "      <th>Excerpt_tokenized</th>\n",
       "      <th>Excerpt_nonstop</th>\n",
       "      <th>Excerpt_stemmed</th>\n",
       "      <th>Excerpt_lemmatized</th>\n",
       "      <th>Excerpt_clean</th>\n",
       "      <th>target</th>\n",
       "    </tr>\n",
       "  </thead>\n",
       "  <tbody>\n",
       "    <tr>\n",
       "      <th>0</th>\n",
       "      <td>NI3079</td>\n",
       "      <td>Elliot Rodger Wangs roommate stabbed Wang and ...</td>\n",
       "      <td>elliot rodger wangs roommate stabbed wang two ...</td>\n",
       "      <td>['elliot', 'rodger', 'wangs', 'roommate', 'sta...</td>\n",
       "      <td>['elliot', 'rodger', 'wangs', 'roommate', 'sta...</td>\n",
       "      <td>['elliot', 'rodger', 'wang', 'roommat', 'stab'...</td>\n",
       "      <td>['elliot', 'rodger', 'wangs', 'roommate', 'sta...</td>\n",
       "      <td>['elliot', 'rodger', 'wang', 'roommat', 'stab'...</td>\n",
       "      <td>0</td>\n",
       "    </tr>\n",
       "    <tr>\n",
       "      <th>1</th>\n",
       "      <td>NI2689</td>\n",
       "      <td>Because the tragedy unfolded at the start of a...</td>\n",
       "      <td>tragedy unfolded start holiday weekend school ...</td>\n",
       "      <td>['tragedy', 'unfolded', 'start', 'holiday', 'w...</td>\n",
       "      <td>['tragedy', 'unfolded', 'start', 'holiday', 'w...</td>\n",
       "      <td>['tragedi', 'unfold', 'start', 'holiday', 'wee...</td>\n",
       "      <td>['tragedy', 'unfolded', 'start', 'holiday', 'w...</td>\n",
       "      <td>['tragedi', 'unfold', 'start', 'holiday', 'wee...</td>\n",
       "      <td>0</td>\n",
       "    </tr>\n",
       "    <tr>\n",
       "      <th>2</th>\n",
       "      <td>NI2400</td>\n",
       "      <td>Gunrelated restraining orders Also passed in r...</td>\n",
       "      <td>gunrelated restraining orders also passed resp...</td>\n",
       "      <td>['gunrelated', 'restraining', 'orders', 'also'...</td>\n",
       "      <td>['gunrelated', 'restraining', 'orders', 'also'...</td>\n",
       "      <td>['gunrel', 'restrain', 'order', 'also', 'pass'...</td>\n",
       "      <td>['gunrelated', 'restraining', 'order', 'also',...</td>\n",
       "      <td>['gunrel', 'restrain', 'order', 'also', 'pass'...</td>\n",
       "      <td>0</td>\n",
       "    </tr>\n",
       "    <tr>\n",
       "      <th>3</th>\n",
       "      <td>NI1393</td>\n",
       "      <td>Linder said she will also remember Weiss for h...</td>\n",
       "      <td>linder said also remember weiss epic shot pool...</td>\n",
       "      <td>['linder', 'said', 'also', 'remember', 'weiss'...</td>\n",
       "      <td>['linder', 'said', 'also', 'remember', 'weiss'...</td>\n",
       "      <td>['linder', 'said', 'also', 'rememb', 'weiss', ...</td>\n",
       "      <td>['linder', 'said', 'also', 'remember', 'wei', ...</td>\n",
       "      <td>['linder', 'said', 'also', 'rememb', 'weiss', ...</td>\n",
       "      <td>0</td>\n",
       "    </tr>\n",
       "    <tr>\n",
       "      <th>4</th>\n",
       "      <td>NI3259</td>\n",
       "      <td>I mean I know how this goes We all do Werent y...</td>\n",
       "      <td>mean know goes werent sort expecting father on...</td>\n",
       "      <td>['mean', 'know', 'goes', 'werent', 'sort', 'ex...</td>\n",
       "      <td>['mean', 'know', 'goes', 'werent', 'sort', 'ex...</td>\n",
       "      <td>['mean', 'know', 'goe', 'werent', 'sort', 'exp...</td>\n",
       "      <td>['mean', 'know', 'go', 'werent', 'sort', 'expe...</td>\n",
       "      <td>['mean', 'know', 'goe', 'werent', 'sort', 'exp...</td>\n",
       "      <td>0</td>\n",
       "    </tr>\n",
       "  </tbody>\n",
       "</table>\n",
       "</div>"
      ],
      "text/plain": [
       "  StoryID                                            Excerpt  \\\n",
       "0  NI3079  Elliot Rodger Wangs roommate stabbed Wang and ...   \n",
       "1  NI2689  Because the tragedy unfolded at the start of a...   \n",
       "2  NI2400  Gunrelated restraining orders Also passed in r...   \n",
       "3  NI1393  Linder said she will also remember Weiss for h...   \n",
       "4  NI3259  I mean I know how this goes We all do Werent y...   \n",
       "\n",
       "                                         Excerpt_pre  \\\n",
       "0  elliot rodger wangs roommate stabbed wang two ...   \n",
       "1  tragedy unfolded start holiday weekend school ...   \n",
       "2  gunrelated restraining orders also passed resp...   \n",
       "3  linder said also remember weiss epic shot pool...   \n",
       "4  mean know goes werent sort expecting father on...   \n",
       "\n",
       "                                   Excerpt_tokenized  \\\n",
       "0  ['elliot', 'rodger', 'wangs', 'roommate', 'sta...   \n",
       "1  ['tragedy', 'unfolded', 'start', 'holiday', 'w...   \n",
       "2  ['gunrelated', 'restraining', 'orders', 'also'...   \n",
       "3  ['linder', 'said', 'also', 'remember', 'weiss'...   \n",
       "4  ['mean', 'know', 'goes', 'werent', 'sort', 'ex...   \n",
       "\n",
       "                                     Excerpt_nonstop  \\\n",
       "0  ['elliot', 'rodger', 'wangs', 'roommate', 'sta...   \n",
       "1  ['tragedy', 'unfolded', 'start', 'holiday', 'w...   \n",
       "2  ['gunrelated', 'restraining', 'orders', 'also'...   \n",
       "3  ['linder', 'said', 'also', 'remember', 'weiss'...   \n",
       "4  ['mean', 'know', 'goes', 'werent', 'sort', 'ex...   \n",
       "\n",
       "                                     Excerpt_stemmed  \\\n",
       "0  ['elliot', 'rodger', 'wang', 'roommat', 'stab'...   \n",
       "1  ['tragedi', 'unfold', 'start', 'holiday', 'wee...   \n",
       "2  ['gunrel', 'restrain', 'order', 'also', 'pass'...   \n",
       "3  ['linder', 'said', 'also', 'rememb', 'weiss', ...   \n",
       "4  ['mean', 'know', 'goe', 'werent', 'sort', 'exp...   \n",
       "\n",
       "                                  Excerpt_lemmatized  \\\n",
       "0  ['elliot', 'rodger', 'wangs', 'roommate', 'sta...   \n",
       "1  ['tragedy', 'unfolded', 'start', 'holiday', 'w...   \n",
       "2  ['gunrelated', 'restraining', 'order', 'also',...   \n",
       "3  ['linder', 'said', 'also', 'remember', 'wei', ...   \n",
       "4  ['mean', 'know', 'go', 'werent', 'sort', 'expe...   \n",
       "\n",
       "                                       Excerpt_clean  target  \n",
       "0  ['elliot', 'rodger', 'wang', 'roommat', 'stab'...       0  \n",
       "1  ['tragedi', 'unfold', 'start', 'holiday', 'wee...       0  \n",
       "2  ['gunrel', 'restrain', 'order', 'also', 'pass'...       0  \n",
       "3  ['linder', 'said', 'also', 'rememb', 'weiss', ...       0  \n",
       "4  ['mean', 'know', 'goe', 'werent', 'sort', 'exp...       0  "
      ]
     },
     "execution_count": 15,
     "metadata": {},
     "output_type": "execute_result"
    }
   ],
   "source": [
    "data = data[['StoryID', 'Excerpt','Excerpt_pre',\n",
    "       'Excerpt_tokenized', 'Excerpt_nonstop', 'Excerpt_stemmed',\n",
    "       'Excerpt_lemmatized', 'Excerpt_clean', 'target']]\n",
    "data.head()"
   ]
  },
  {
   "cell_type": "code",
   "execution_count": 16,
   "metadata": {},
   "outputs": [
    {
     "data": {
      "text/plain": [
       "(8131, 9)"
      ]
     },
     "execution_count": 16,
     "metadata": {},
     "output_type": "execute_result"
    }
   ],
   "source": [
    "data.shape"
   ]
  },
  {
   "cell_type": "code",
   "execution_count": 17,
   "metadata": {},
   "outputs": [
    {
     "data": {
      "text/html": [
       "<div>\n",
       "<style scoped>\n",
       "    .dataframe tbody tr th:only-of-type {\n",
       "        vertical-align: middle;\n",
       "    }\n",
       "\n",
       "    .dataframe tbody tr th {\n",
       "        vertical-align: top;\n",
       "    }\n",
       "\n",
       "    .dataframe thead th {\n",
       "        text-align: right;\n",
       "    }\n",
       "</style>\n",
       "<table border=\"1\" class=\"dataframe\">\n",
       "  <thead>\n",
       "    <tr style=\"text-align: right;\">\n",
       "      <th></th>\n",
       "      <th>StoryID</th>\n",
       "      <th>Excerpt</th>\n",
       "      <th>Excerpt_pre</th>\n",
       "      <th>Excerpt_tokenized</th>\n",
       "      <th>Excerpt_nonstop</th>\n",
       "      <th>Excerpt_stemmed</th>\n",
       "      <th>Excerpt_lemmatized</th>\n",
       "      <th>Excerpt_clean</th>\n",
       "      <th>target</th>\n",
       "    </tr>\n",
       "  </thead>\n",
       "  <tbody>\n",
       "    <tr>\n",
       "      <th>65</th>\n",
       "      <td>NI2577</td>\n",
       "      <td>One thing for sure Every legal expert agrees t...</td>\n",
       "      <td>one thing sure every legal expert agrees rodge...</td>\n",
       "      <td>['one', 'thing', 'sure', 'every', 'legal', 'ex...</td>\n",
       "      <td>['one', 'thing', 'sure', 'every', 'legal', 'ex...</td>\n",
       "      <td>['one', 'thing', 'sure', 'everi', 'legal', 'ex...</td>\n",
       "      <td>['one', 'thing', 'sure', 'every', 'legal', 'ex...</td>\n",
       "      <td>['one', 'thing', 'sure', 'everi', 'legal', 'ex...</td>\n",
       "      <td>1</td>\n",
       "    </tr>\n",
       "    <tr>\n",
       "      <th>73</th>\n",
       "      <td>NI3119</td>\n",
       "      <td>Certainly the latest murderous rampage carried...</td>\n",
       "      <td>certainly latest murderous rampage carried you...</td>\n",
       "      <td>['certainly', 'latest', 'murderous', 'rampage'...</td>\n",
       "      <td>['certainly', 'latest', 'murderous', 'rampage'...</td>\n",
       "      <td>['certainli', 'latest', 'murder', 'rampag', 'c...</td>\n",
       "      <td>['certainly', 'latest', 'murderous', 'rampage'...</td>\n",
       "      <td>['certainli', 'latest', 'murder', 'rampag', 'c...</td>\n",
       "      <td>1</td>\n",
       "    </tr>\n",
       "    <tr>\n",
       "      <th>74</th>\n",
       "      <td>NI1605</td>\n",
       "      <td>In a 137page manifesto Rodger wrote that he wo...</td>\n",
       "      <td>137page manifesto rodger wrote would commit ma...</td>\n",
       "      <td>['137page', 'manifesto', 'rodger', 'wrote', 'w...</td>\n",
       "      <td>['137page', 'manifesto', 'rodger', 'wrote', 'w...</td>\n",
       "      <td>['137page', 'manifesto', 'rodger', 'wrote', 'w...</td>\n",
       "      <td>['137page', 'manifesto', 'rodger', 'wrote', 'w...</td>\n",
       "      <td>['page', 'manifesto', 'rodger', 'wrote', 'woul...</td>\n",
       "      <td>1</td>\n",
       "    </tr>\n",
       "    <tr>\n",
       "      <th>76</th>\n",
       "      <td>NI2957</td>\n",
       "      <td>Some crackpot who couldnt get a date stabs and...</td>\n",
       "      <td>crackpot couldnt get date stabs shoots way acr...</td>\n",
       "      <td>['crackpot', 'couldnt', 'get', 'date', 'stabs'...</td>\n",
       "      <td>['crackpot', 'couldnt', 'get', 'date', 'stabs'...</td>\n",
       "      <td>['crackpot', 'couldnt', 'get', 'date', 'stab',...</td>\n",
       "      <td>['crackpot', 'couldnt', 'get', 'date', 'stab',...</td>\n",
       "      <td>['crackpot', 'couldnt', 'get', 'date', 'stab',...</td>\n",
       "      <td>1</td>\n",
       "    </tr>\n",
       "    <tr>\n",
       "      <th>83</th>\n",
       "      <td>NI2915</td>\n",
       "      <td>I got into an online debate recently with Lind...</td>\n",
       "      <td>got online debate recently lindsay beyerstein ...</td>\n",
       "      <td>['got', 'online', 'debate', 'recently', 'linds...</td>\n",
       "      <td>['got', 'online', 'debate', 'recently', 'linds...</td>\n",
       "      <td>['got', 'onlin', 'debat', 'recent', 'lindsay',...</td>\n",
       "      <td>['got', 'online', 'debate', 'recently', 'linds...</td>\n",
       "      <td>['got', 'onlin', 'debat', 'recent', 'lindsay',...</td>\n",
       "      <td>1</td>\n",
       "    </tr>\n",
       "  </tbody>\n",
       "</table>\n",
       "</div>"
      ],
      "text/plain": [
       "   StoryID                                            Excerpt  \\\n",
       "65  NI2577  One thing for sure Every legal expert agrees t...   \n",
       "73  NI3119  Certainly the latest murderous rampage carried...   \n",
       "74  NI1605  In a 137page manifesto Rodger wrote that he wo...   \n",
       "76  NI2957  Some crackpot who couldnt get a date stabs and...   \n",
       "83  NI2915  I got into an online debate recently with Lind...   \n",
       "\n",
       "                                          Excerpt_pre  \\\n",
       "65  one thing sure every legal expert agrees rodge...   \n",
       "73  certainly latest murderous rampage carried you...   \n",
       "74  137page manifesto rodger wrote would commit ma...   \n",
       "76  crackpot couldnt get date stabs shoots way acr...   \n",
       "83  got online debate recently lindsay beyerstein ...   \n",
       "\n",
       "                                    Excerpt_tokenized  \\\n",
       "65  ['one', 'thing', 'sure', 'every', 'legal', 'ex...   \n",
       "73  ['certainly', 'latest', 'murderous', 'rampage'...   \n",
       "74  ['137page', 'manifesto', 'rodger', 'wrote', 'w...   \n",
       "76  ['crackpot', 'couldnt', 'get', 'date', 'stabs'...   \n",
       "83  ['got', 'online', 'debate', 'recently', 'linds...   \n",
       "\n",
       "                                      Excerpt_nonstop  \\\n",
       "65  ['one', 'thing', 'sure', 'every', 'legal', 'ex...   \n",
       "73  ['certainly', 'latest', 'murderous', 'rampage'...   \n",
       "74  ['137page', 'manifesto', 'rodger', 'wrote', 'w...   \n",
       "76  ['crackpot', 'couldnt', 'get', 'date', 'stabs'...   \n",
       "83  ['got', 'online', 'debate', 'recently', 'linds...   \n",
       "\n",
       "                                      Excerpt_stemmed  \\\n",
       "65  ['one', 'thing', 'sure', 'everi', 'legal', 'ex...   \n",
       "73  ['certainli', 'latest', 'murder', 'rampag', 'c...   \n",
       "74  ['137page', 'manifesto', 'rodger', 'wrote', 'w...   \n",
       "76  ['crackpot', 'couldnt', 'get', 'date', 'stab',...   \n",
       "83  ['got', 'onlin', 'debat', 'recent', 'lindsay',...   \n",
       "\n",
       "                                   Excerpt_lemmatized  \\\n",
       "65  ['one', 'thing', 'sure', 'every', 'legal', 'ex...   \n",
       "73  ['certainly', 'latest', 'murderous', 'rampage'...   \n",
       "74  ['137page', 'manifesto', 'rodger', 'wrote', 'w...   \n",
       "76  ['crackpot', 'couldnt', 'get', 'date', 'stab',...   \n",
       "83  ['got', 'online', 'debate', 'recently', 'linds...   \n",
       "\n",
       "                                        Excerpt_clean  target  \n",
       "65  ['one', 'thing', 'sure', 'everi', 'legal', 'ex...       1  \n",
       "73  ['certainli', 'latest', 'murder', 'rampag', 'c...       1  \n",
       "74  ['page', 'manifesto', 'rodger', 'wrote', 'woul...       1  \n",
       "76  ['crackpot', 'couldnt', 'get', 'date', 'stab',...       1  \n",
       "83  ['got', 'onlin', 'debat', 'recent', 'lindsay',...       1  "
      ]
     },
     "execution_count": 17,
     "metadata": {},
     "output_type": "execute_result"
    }
   ],
   "source": [
    "data_in = data.loc[data['target'] == 1]\n",
    "data_in.head()"
   ]
  },
  {
   "cell_type": "code",
   "execution_count": 18,
   "metadata": {},
   "outputs": [
    {
     "data": {
      "text/plain": [
       "(788, 9)"
      ]
     },
     "execution_count": 18,
     "metadata": {},
     "output_type": "execute_result"
    }
   ],
   "source": [
    "data_in.shape"
   ]
  },
  {
   "cell_type": "code",
   "execution_count": 19,
   "metadata": {},
   "outputs": [
    {
     "data": {
      "text/html": [
       "<div>\n",
       "<style scoped>\n",
       "    .dataframe tbody tr th:only-of-type {\n",
       "        vertical-align: middle;\n",
       "    }\n",
       "\n",
       "    .dataframe tbody tr th {\n",
       "        vertical-align: top;\n",
       "    }\n",
       "\n",
       "    .dataframe thead th {\n",
       "        text-align: right;\n",
       "    }\n",
       "</style>\n",
       "<table border=\"1\" class=\"dataframe\">\n",
       "  <thead>\n",
       "    <tr style=\"text-align: right;\">\n",
       "      <th></th>\n",
       "      <th>StoryID</th>\n",
       "      <th>Excerpt</th>\n",
       "      <th>Excerpt_pre</th>\n",
       "      <th>Excerpt_tokenized</th>\n",
       "      <th>Excerpt_nonstop</th>\n",
       "      <th>Excerpt_stemmed</th>\n",
       "      <th>Excerpt_lemmatized</th>\n",
       "      <th>Excerpt_clean</th>\n",
       "      <th>target</th>\n",
       "    </tr>\n",
       "  </thead>\n",
       "  <tbody>\n",
       "    <tr>\n",
       "      <th>0</th>\n",
       "      <td>NI3079</td>\n",
       "      <td>Elliot Rodger Wangs roommate stabbed Wang and ...</td>\n",
       "      <td>elliot rodger wangs roommate stabbed wang two ...</td>\n",
       "      <td>['elliot', 'rodger', 'wangs', 'roommate', 'sta...</td>\n",
       "      <td>['elliot', 'rodger', 'wangs', 'roommate', 'sta...</td>\n",
       "      <td>['elliot', 'rodger', 'wang', 'roommat', 'stab'...</td>\n",
       "      <td>['elliot', 'rodger', 'wangs', 'roommate', 'sta...</td>\n",
       "      <td>['elliot', 'rodger', 'wang', 'roommat', 'stab'...</td>\n",
       "      <td>0</td>\n",
       "    </tr>\n",
       "    <tr>\n",
       "      <th>1</th>\n",
       "      <td>NI2689</td>\n",
       "      <td>Because the tragedy unfolded at the start of a...</td>\n",
       "      <td>tragedy unfolded start holiday weekend school ...</td>\n",
       "      <td>['tragedy', 'unfolded', 'start', 'holiday', 'w...</td>\n",
       "      <td>['tragedy', 'unfolded', 'start', 'holiday', 'w...</td>\n",
       "      <td>['tragedi', 'unfold', 'start', 'holiday', 'wee...</td>\n",
       "      <td>['tragedy', 'unfolded', 'start', 'holiday', 'w...</td>\n",
       "      <td>['tragedi', 'unfold', 'start', 'holiday', 'wee...</td>\n",
       "      <td>0</td>\n",
       "    </tr>\n",
       "    <tr>\n",
       "      <th>2</th>\n",
       "      <td>NI2400</td>\n",
       "      <td>Gunrelated restraining orders Also passed in r...</td>\n",
       "      <td>gunrelated restraining orders also passed resp...</td>\n",
       "      <td>['gunrelated', 'restraining', 'orders', 'also'...</td>\n",
       "      <td>['gunrelated', 'restraining', 'orders', 'also'...</td>\n",
       "      <td>['gunrel', 'restrain', 'order', 'also', 'pass'...</td>\n",
       "      <td>['gunrelated', 'restraining', 'order', 'also',...</td>\n",
       "      <td>['gunrel', 'restrain', 'order', 'also', 'pass'...</td>\n",
       "      <td>0</td>\n",
       "    </tr>\n",
       "    <tr>\n",
       "      <th>3</th>\n",
       "      <td>NI1393</td>\n",
       "      <td>Linder said she will also remember Weiss for h...</td>\n",
       "      <td>linder said also remember weiss epic shot pool...</td>\n",
       "      <td>['linder', 'said', 'also', 'remember', 'weiss'...</td>\n",
       "      <td>['linder', 'said', 'also', 'remember', 'weiss'...</td>\n",
       "      <td>['linder', 'said', 'also', 'rememb', 'weiss', ...</td>\n",
       "      <td>['linder', 'said', 'also', 'remember', 'wei', ...</td>\n",
       "      <td>['linder', 'said', 'also', 'rememb', 'weiss', ...</td>\n",
       "      <td>0</td>\n",
       "    </tr>\n",
       "    <tr>\n",
       "      <th>4</th>\n",
       "      <td>NI3259</td>\n",
       "      <td>I mean I know how this goes We all do Werent y...</td>\n",
       "      <td>mean know goes werent sort expecting father on...</td>\n",
       "      <td>['mean', 'know', 'goes', 'werent', 'sort', 'ex...</td>\n",
       "      <td>['mean', 'know', 'goes', 'werent', 'sort', 'ex...</td>\n",
       "      <td>['mean', 'know', 'goe', 'werent', 'sort', 'exp...</td>\n",
       "      <td>['mean', 'know', 'go', 'werent', 'sort', 'expe...</td>\n",
       "      <td>['mean', 'know', 'goe', 'werent', 'sort', 'exp...</td>\n",
       "      <td>0</td>\n",
       "    </tr>\n",
       "  </tbody>\n",
       "</table>\n",
       "</div>"
      ],
      "text/plain": [
       "  StoryID                                            Excerpt  \\\n",
       "0  NI3079  Elliot Rodger Wangs roommate stabbed Wang and ...   \n",
       "1  NI2689  Because the tragedy unfolded at the start of a...   \n",
       "2  NI2400  Gunrelated restraining orders Also passed in r...   \n",
       "3  NI1393  Linder said she will also remember Weiss for h...   \n",
       "4  NI3259  I mean I know how this goes We all do Werent y...   \n",
       "\n",
       "                                         Excerpt_pre  \\\n",
       "0  elliot rodger wangs roommate stabbed wang two ...   \n",
       "1  tragedy unfolded start holiday weekend school ...   \n",
       "2  gunrelated restraining orders also passed resp...   \n",
       "3  linder said also remember weiss epic shot pool...   \n",
       "4  mean know goes werent sort expecting father on...   \n",
       "\n",
       "                                   Excerpt_tokenized  \\\n",
       "0  ['elliot', 'rodger', 'wangs', 'roommate', 'sta...   \n",
       "1  ['tragedy', 'unfolded', 'start', 'holiday', 'w...   \n",
       "2  ['gunrelated', 'restraining', 'orders', 'also'...   \n",
       "3  ['linder', 'said', 'also', 'remember', 'weiss'...   \n",
       "4  ['mean', 'know', 'goes', 'werent', 'sort', 'ex...   \n",
       "\n",
       "                                     Excerpt_nonstop  \\\n",
       "0  ['elliot', 'rodger', 'wangs', 'roommate', 'sta...   \n",
       "1  ['tragedy', 'unfolded', 'start', 'holiday', 'w...   \n",
       "2  ['gunrelated', 'restraining', 'orders', 'also'...   \n",
       "3  ['linder', 'said', 'also', 'remember', 'weiss'...   \n",
       "4  ['mean', 'know', 'goes', 'werent', 'sort', 'ex...   \n",
       "\n",
       "                                     Excerpt_stemmed  \\\n",
       "0  ['elliot', 'rodger', 'wang', 'roommat', 'stab'...   \n",
       "1  ['tragedi', 'unfold', 'start', 'holiday', 'wee...   \n",
       "2  ['gunrel', 'restrain', 'order', 'also', 'pass'...   \n",
       "3  ['linder', 'said', 'also', 'rememb', 'weiss', ...   \n",
       "4  ['mean', 'know', 'goe', 'werent', 'sort', 'exp...   \n",
       "\n",
       "                                  Excerpt_lemmatized  \\\n",
       "0  ['elliot', 'rodger', 'wangs', 'roommate', 'sta...   \n",
       "1  ['tragedy', 'unfolded', 'start', 'holiday', 'w...   \n",
       "2  ['gunrelated', 'restraining', 'order', 'also',...   \n",
       "3  ['linder', 'said', 'also', 'remember', 'wei', ...   \n",
       "4  ['mean', 'know', 'go', 'werent', 'sort', 'expe...   \n",
       "\n",
       "                                       Excerpt_clean  target  \n",
       "0  ['elliot', 'rodger', 'wang', 'roommat', 'stab'...       0  \n",
       "1  ['tragedi', 'unfold', 'start', 'holiday', 'wee...       0  \n",
       "2  ['gunrel', 'restrain', 'order', 'also', 'pass'...       0  \n",
       "3  ['linder', 'said', 'also', 'rememb', 'weiss', ...       0  \n",
       "4  ['mean', 'know', 'goe', 'werent', 'sort', 'exp...       0  "
      ]
     },
     "execution_count": 19,
     "metadata": {},
     "output_type": "execute_result"
    }
   ],
   "source": [
    "data_unin = data.loc[data['target'] == 0]\n",
    "data_unin.head()"
   ]
  },
  {
   "cell_type": "code",
   "execution_count": 21,
   "metadata": {},
   "outputs": [
    {
     "data": {
      "text/plain": [
       "(7343, 9)"
      ]
     },
     "execution_count": 21,
     "metadata": {},
     "output_type": "execute_result"
    }
   ],
   "source": [
    "data_unin.shape"
   ]
  },
  {
   "cell_type": "code",
   "execution_count": 22,
   "metadata": {},
   "outputs": [
    {
     "data": {
      "text/plain": [
       "(788, 9)"
      ]
     },
     "execution_count": 22,
     "metadata": {},
     "output_type": "execute_result"
    }
   ],
   "source": [
    "data_unin = data_unin.sample(788)\n",
    "data_unin.shape"
   ]
  },
  {
   "cell_type": "code",
   "execution_count": 24,
   "metadata": {},
   "outputs": [
    {
     "data": {
      "text/html": [
       "<div>\n",
       "<style scoped>\n",
       "    .dataframe tbody tr th:only-of-type {\n",
       "        vertical-align: middle;\n",
       "    }\n",
       "\n",
       "    .dataframe tbody tr th {\n",
       "        vertical-align: top;\n",
       "    }\n",
       "\n",
       "    .dataframe thead th {\n",
       "        text-align: right;\n",
       "    }\n",
       "</style>\n",
       "<table border=\"1\" class=\"dataframe\">\n",
       "  <thead>\n",
       "    <tr style=\"text-align: right;\">\n",
       "      <th></th>\n",
       "      <th>StoryID</th>\n",
       "      <th>Excerpt</th>\n",
       "      <th>Excerpt_pre</th>\n",
       "      <th>Excerpt_tokenized</th>\n",
       "      <th>Excerpt_nonstop</th>\n",
       "      <th>Excerpt_stemmed</th>\n",
       "      <th>Excerpt_lemmatized</th>\n",
       "      <th>Excerpt_clean</th>\n",
       "      <th>target</th>\n",
       "    </tr>\n",
       "  </thead>\n",
       "  <tbody>\n",
       "    <tr>\n",
       "      <th>3661</th>\n",
       "      <td>NI2857</td>\n",
       "      <td>I dont know why you girls arent attracted to m...</td>\n",
       "      <td>dont know girls arent attracted punish elliot ...</td>\n",
       "      <td>['dont', 'know', 'girls', 'arent', 'attracted'...</td>\n",
       "      <td>['dont', 'know', 'girls', 'arent', 'attracted'...</td>\n",
       "      <td>['dont', 'know', 'girl', 'arent', 'attract', '...</td>\n",
       "      <td>['dont', 'know', 'girl', 'arent', 'attracted',...</td>\n",
       "      <td>['dont', 'know', 'girl', 'arent', 'attract', '...</td>\n",
       "      <td>1</td>\n",
       "    </tr>\n",
       "    <tr>\n",
       "      <th>2833</th>\n",
       "      <td>NI2087</td>\n",
       "      <td>My clients mission in life will be to try to p...</td>\n",
       "      <td>clients mission life try prevent tragedies eve...</td>\n",
       "      <td>['clients', 'mission', 'life', 'try', 'prevent...</td>\n",
       "      <td>['clients', 'mission', 'life', 'try', 'prevent...</td>\n",
       "      <td>['client', 'mission', 'life', 'tri', 'prevent'...</td>\n",
       "      <td>['client', 'mission', 'life', 'try', 'prevent'...</td>\n",
       "      <td>['client', 'mission', 'life', 'tri', 'prevent'...</td>\n",
       "      <td>0</td>\n",
       "    </tr>\n",
       "    <tr>\n",
       "      <th>2612</th>\n",
       "      <td>NI1124</td>\n",
       "      <td>\\nShifman said the family called police severa...</td>\n",
       "      <td>shifman said family called police several week...</td>\n",
       "      <td>['shifman', 'said', 'family', 'called', 'polic...</td>\n",
       "      <td>['shifman', 'said', 'family', 'called', 'polic...</td>\n",
       "      <td>['shifman', 'said', 'famili', 'call', 'polic',...</td>\n",
       "      <td>['shifman', 'said', 'family', 'called', 'polic...</td>\n",
       "      <td>['shifman', 'said', 'famili', 'call', 'polic',...</td>\n",
       "      <td>1</td>\n",
       "    </tr>\n",
       "    <tr>\n",
       "      <th>4900</th>\n",
       "      <td>NI2924</td>\n",
       "      <td>Without doubt 22yearold Elliot Rodger was a si...</td>\n",
       "      <td>without doubt 22yearold elliot rodger sick you...</td>\n",
       "      <td>['without', 'doubt', '22yearold', 'elliot', 'r...</td>\n",
       "      <td>['without', 'doubt', '22yearold', 'elliot', 'r...</td>\n",
       "      <td>['without', 'doubt', '22yearold', 'elliot', 'r...</td>\n",
       "      <td>['without', 'doubt', '22yearold', 'elliot', 'r...</td>\n",
       "      <td>['without', 'doubt', 'yearold', 'elliot', 'rod...</td>\n",
       "      <td>1</td>\n",
       "    </tr>\n",
       "    <tr>\n",
       "      <th>1547</th>\n",
       "      <td>NI2940</td>\n",
       "      <td>A 22yearold student last Friday killed six peo...</td>\n",
       "      <td>22yearold student last friday killed six peopl...</td>\n",
       "      <td>['22yearold', 'student', 'last', 'friday', 'ki...</td>\n",
       "      <td>['22yearold', 'student', 'last', 'friday', 'ki...</td>\n",
       "      <td>['22yearold', 'student', 'last', 'friday', 'ki...</td>\n",
       "      <td>['22yearold', 'student', 'last', 'friday', 'ki...</td>\n",
       "      <td>['yearold', 'student', 'last', 'friday', 'kill...</td>\n",
       "      <td>0</td>\n",
       "    </tr>\n",
       "  </tbody>\n",
       "</table>\n",
       "</div>"
      ],
      "text/plain": [
       "     StoryID                                            Excerpt  \\\n",
       "3661  NI2857  I dont know why you girls arent attracted to m...   \n",
       "2833  NI2087  My clients mission in life will be to try to p...   \n",
       "2612  NI1124  \\nShifman said the family called police severa...   \n",
       "4900  NI2924  Without doubt 22yearold Elliot Rodger was a si...   \n",
       "1547  NI2940  A 22yearold student last Friday killed six peo...   \n",
       "\n",
       "                                            Excerpt_pre  \\\n",
       "3661  dont know girls arent attracted punish elliot ...   \n",
       "2833  clients mission life try prevent tragedies eve...   \n",
       "2612  shifman said family called police several week...   \n",
       "4900  without doubt 22yearold elliot rodger sick you...   \n",
       "1547  22yearold student last friday killed six peopl...   \n",
       "\n",
       "                                      Excerpt_tokenized  \\\n",
       "3661  ['dont', 'know', 'girls', 'arent', 'attracted'...   \n",
       "2833  ['clients', 'mission', 'life', 'try', 'prevent...   \n",
       "2612  ['shifman', 'said', 'family', 'called', 'polic...   \n",
       "4900  ['without', 'doubt', '22yearold', 'elliot', 'r...   \n",
       "1547  ['22yearold', 'student', 'last', 'friday', 'ki...   \n",
       "\n",
       "                                        Excerpt_nonstop  \\\n",
       "3661  ['dont', 'know', 'girls', 'arent', 'attracted'...   \n",
       "2833  ['clients', 'mission', 'life', 'try', 'prevent...   \n",
       "2612  ['shifman', 'said', 'family', 'called', 'polic...   \n",
       "4900  ['without', 'doubt', '22yearold', 'elliot', 'r...   \n",
       "1547  ['22yearold', 'student', 'last', 'friday', 'ki...   \n",
       "\n",
       "                                        Excerpt_stemmed  \\\n",
       "3661  ['dont', 'know', 'girl', 'arent', 'attract', '...   \n",
       "2833  ['client', 'mission', 'life', 'tri', 'prevent'...   \n",
       "2612  ['shifman', 'said', 'famili', 'call', 'polic',...   \n",
       "4900  ['without', 'doubt', '22yearold', 'elliot', 'r...   \n",
       "1547  ['22yearold', 'student', 'last', 'friday', 'ki...   \n",
       "\n",
       "                                     Excerpt_lemmatized  \\\n",
       "3661  ['dont', 'know', 'girl', 'arent', 'attracted',...   \n",
       "2833  ['client', 'mission', 'life', 'try', 'prevent'...   \n",
       "2612  ['shifman', 'said', 'family', 'called', 'polic...   \n",
       "4900  ['without', 'doubt', '22yearold', 'elliot', 'r...   \n",
       "1547  ['22yearold', 'student', 'last', 'friday', 'ki...   \n",
       "\n",
       "                                          Excerpt_clean  target  \n",
       "3661  ['dont', 'know', 'girl', 'arent', 'attract', '...       1  \n",
       "2833  ['client', 'mission', 'life', 'tri', 'prevent'...       0  \n",
       "2612  ['shifman', 'said', 'famili', 'call', 'polic',...       1  \n",
       "4900  ['without', 'doubt', 'yearold', 'elliot', 'rod...       1  \n",
       "1547  ['yearold', 'student', 'last', 'friday', 'kill...       0  "
      ]
     },
     "execution_count": 24,
     "metadata": {},
     "output_type": "execute_result"
    }
   ],
   "source": [
    "from sklearn.utils import shuffle\n",
    "dataframe = [data_in, data_unin]\n",
    "data = pd.concat(dataframe)\n",
    "data = shuffle(data)\n",
    "data.head()"
   ]
  },
  {
   "cell_type": "code",
   "execution_count": 25,
   "metadata": {},
   "outputs": [
    {
     "data": {
      "text/plain": [
       "(1576, 9)"
      ]
     },
     "execution_count": 25,
     "metadata": {},
     "output_type": "execute_result"
    }
   ],
   "source": [
    "data.shape"
   ]
  },
  {
   "cell_type": "code",
   "execution_count": 27,
   "metadata": {},
   "outputs": [],
   "source": [
    "decode_map = {0: \"NO\", 1: \"YES\"}\n",
    "def decode_sentiment(label):\n",
    "    return decode_map[int(label)]"
   ]
  },
  {
   "cell_type": "code",
   "execution_count": 28,
   "metadata": {},
   "outputs": [
    {
     "name": "stdout",
     "output_type": "stream",
     "text": [
      "CPU times: user 231 ms, sys: 0 ns, total: 231 ms\n",
      "Wall time: 230 ms\n"
     ]
    }
   ],
   "source": [
    "%%time\n",
    "data.target = data.target.apply(lambda x: decode_sentiment(x))"
   ]
  },
  {
   "cell_type": "code",
   "execution_count": 29,
   "metadata": {},
   "outputs": [
    {
     "data": {
      "text/html": [
       "<div>\n",
       "<style scoped>\n",
       "    .dataframe tbody tr th:only-of-type {\n",
       "        vertical-align: middle;\n",
       "    }\n",
       "\n",
       "    .dataframe tbody tr th {\n",
       "        vertical-align: top;\n",
       "    }\n",
       "\n",
       "    .dataframe thead th {\n",
       "        text-align: right;\n",
       "    }\n",
       "</style>\n",
       "<table border=\"1\" class=\"dataframe\">\n",
       "  <thead>\n",
       "    <tr style=\"text-align: right;\">\n",
       "      <th></th>\n",
       "      <th>StoryID</th>\n",
       "      <th>Excerpt</th>\n",
       "      <th>Excerpt_pre</th>\n",
       "      <th>Excerpt_tokenized</th>\n",
       "      <th>Excerpt_nonstop</th>\n",
       "      <th>Excerpt_stemmed</th>\n",
       "      <th>Excerpt_lemmatized</th>\n",
       "      <th>Excerpt_clean</th>\n",
       "      <th>target</th>\n",
       "    </tr>\n",
       "  </thead>\n",
       "  <tbody>\n",
       "    <tr>\n",
       "      <th>3661</th>\n",
       "      <td>NI2857</td>\n",
       "      <td>I dont know why you girls arent attracted to m...</td>\n",
       "      <td>dont know girls arent attracted punish elliot ...</td>\n",
       "      <td>['dont', 'know', 'girls', 'arent', 'attracted'...</td>\n",
       "      <td>['dont', 'know', 'girls', 'arent', 'attracted'...</td>\n",
       "      <td>['dont', 'know', 'girl', 'arent', 'attract', '...</td>\n",
       "      <td>['dont', 'know', 'girl', 'arent', 'attracted',...</td>\n",
       "      <td>['dont', 'know', 'girl', 'arent', 'attract', '...</td>\n",
       "      <td>YES</td>\n",
       "    </tr>\n",
       "    <tr>\n",
       "      <th>2833</th>\n",
       "      <td>NI2087</td>\n",
       "      <td>My clients mission in life will be to try to p...</td>\n",
       "      <td>clients mission life try prevent tragedies eve...</td>\n",
       "      <td>['clients', 'mission', 'life', 'try', 'prevent...</td>\n",
       "      <td>['clients', 'mission', 'life', 'try', 'prevent...</td>\n",
       "      <td>['client', 'mission', 'life', 'tri', 'prevent'...</td>\n",
       "      <td>['client', 'mission', 'life', 'try', 'prevent'...</td>\n",
       "      <td>['client', 'mission', 'life', 'tri', 'prevent'...</td>\n",
       "      <td>NO</td>\n",
       "    </tr>\n",
       "    <tr>\n",
       "      <th>2612</th>\n",
       "      <td>NI1124</td>\n",
       "      <td>\\nShifman said the family called police severa...</td>\n",
       "      <td>shifman said family called police several week...</td>\n",
       "      <td>['shifman', 'said', 'family', 'called', 'polic...</td>\n",
       "      <td>['shifman', 'said', 'family', 'called', 'polic...</td>\n",
       "      <td>['shifman', 'said', 'famili', 'call', 'polic',...</td>\n",
       "      <td>['shifman', 'said', 'family', 'called', 'polic...</td>\n",
       "      <td>['shifman', 'said', 'famili', 'call', 'polic',...</td>\n",
       "      <td>YES</td>\n",
       "    </tr>\n",
       "    <tr>\n",
       "      <th>4900</th>\n",
       "      <td>NI2924</td>\n",
       "      <td>Without doubt 22yearold Elliot Rodger was a si...</td>\n",
       "      <td>without doubt 22yearold elliot rodger sick you...</td>\n",
       "      <td>['without', 'doubt', '22yearold', 'elliot', 'r...</td>\n",
       "      <td>['without', 'doubt', '22yearold', 'elliot', 'r...</td>\n",
       "      <td>['without', 'doubt', '22yearold', 'elliot', 'r...</td>\n",
       "      <td>['without', 'doubt', '22yearold', 'elliot', 'r...</td>\n",
       "      <td>['without', 'doubt', 'yearold', 'elliot', 'rod...</td>\n",
       "      <td>YES</td>\n",
       "    </tr>\n",
       "    <tr>\n",
       "      <th>1547</th>\n",
       "      <td>NI2940</td>\n",
       "      <td>A 22yearold student last Friday killed six peo...</td>\n",
       "      <td>22yearold student last friday killed six peopl...</td>\n",
       "      <td>['22yearold', 'student', 'last', 'friday', 'ki...</td>\n",
       "      <td>['22yearold', 'student', 'last', 'friday', 'ki...</td>\n",
       "      <td>['22yearold', 'student', 'last', 'friday', 'ki...</td>\n",
       "      <td>['22yearold', 'student', 'last', 'friday', 'ki...</td>\n",
       "      <td>['yearold', 'student', 'last', 'friday', 'kill...</td>\n",
       "      <td>NO</td>\n",
       "    </tr>\n",
       "  </tbody>\n",
       "</table>\n",
       "</div>"
      ],
      "text/plain": [
       "     StoryID                                            Excerpt  \\\n",
       "3661  NI2857  I dont know why you girls arent attracted to m...   \n",
       "2833  NI2087  My clients mission in life will be to try to p...   \n",
       "2612  NI1124  \\nShifman said the family called police severa...   \n",
       "4900  NI2924  Without doubt 22yearold Elliot Rodger was a si...   \n",
       "1547  NI2940  A 22yearold student last Friday killed six peo...   \n",
       "\n",
       "                                            Excerpt_pre  \\\n",
       "3661  dont know girls arent attracted punish elliot ...   \n",
       "2833  clients mission life try prevent tragedies eve...   \n",
       "2612  shifman said family called police several week...   \n",
       "4900  without doubt 22yearold elliot rodger sick you...   \n",
       "1547  22yearold student last friday killed six peopl...   \n",
       "\n",
       "                                      Excerpt_tokenized  \\\n",
       "3661  ['dont', 'know', 'girls', 'arent', 'attracted'...   \n",
       "2833  ['clients', 'mission', 'life', 'try', 'prevent...   \n",
       "2612  ['shifman', 'said', 'family', 'called', 'polic...   \n",
       "4900  ['without', 'doubt', '22yearold', 'elliot', 'r...   \n",
       "1547  ['22yearold', 'student', 'last', 'friday', 'ki...   \n",
       "\n",
       "                                        Excerpt_nonstop  \\\n",
       "3661  ['dont', 'know', 'girls', 'arent', 'attracted'...   \n",
       "2833  ['clients', 'mission', 'life', 'try', 'prevent...   \n",
       "2612  ['shifman', 'said', 'family', 'called', 'polic...   \n",
       "4900  ['without', 'doubt', '22yearold', 'elliot', 'r...   \n",
       "1547  ['22yearold', 'student', 'last', 'friday', 'ki...   \n",
       "\n",
       "                                        Excerpt_stemmed  \\\n",
       "3661  ['dont', 'know', 'girl', 'arent', 'attract', '...   \n",
       "2833  ['client', 'mission', 'life', 'tri', 'prevent'...   \n",
       "2612  ['shifman', 'said', 'famili', 'call', 'polic',...   \n",
       "4900  ['without', 'doubt', '22yearold', 'elliot', 'r...   \n",
       "1547  ['22yearold', 'student', 'last', 'friday', 'ki...   \n",
       "\n",
       "                                     Excerpt_lemmatized  \\\n",
       "3661  ['dont', 'know', 'girl', 'arent', 'attracted',...   \n",
       "2833  ['client', 'mission', 'life', 'try', 'prevent'...   \n",
       "2612  ['shifman', 'said', 'family', 'called', 'polic...   \n",
       "4900  ['without', 'doubt', '22yearold', 'elliot', 'r...   \n",
       "1547  ['22yearold', 'student', 'last', 'friday', 'ki...   \n",
       "\n",
       "                                          Excerpt_clean target  \n",
       "3661  ['dont', 'know', 'girl', 'arent', 'attract', '...    YES  \n",
       "2833  ['client', 'mission', 'life', 'tri', 'prevent'...     NO  \n",
       "2612  ['shifman', 'said', 'famili', 'call', 'polic',...    YES  \n",
       "4900  ['without', 'doubt', 'yearold', 'elliot', 'rod...    YES  \n",
       "1547  ['yearold', 'student', 'last', 'friday', 'kill...     NO  "
      ]
     },
     "execution_count": 29,
     "metadata": {},
     "output_type": "execute_result"
    }
   ],
   "source": [
    "data.head()"
   ]
  },
  {
   "cell_type": "code",
   "execution_count": 30,
   "metadata": {},
   "outputs": [
    {
     "data": {
      "text/plain": [
       "<matplotlib.axes._subplots.AxesSubplot at 0x7f69700f1b00>"
      ]
     },
     "execution_count": 30,
     "metadata": {},
     "output_type": "execute_result"
    },
    {
     "data": {
      "image/png": "[encoded data removed]",
      "text/plain": [
       "<Figure size 432x288 with 1 Axes>"
      ]
     },
     "metadata": {
      "needs_background": "light"
     },
     "output_type": "display_data"
    }
   ],
   "source": [
    "import seaborn as sns\n",
    "sns.countplot(x = 'target', data = data)"
   ]
  },
  {
   "cell_type": "markdown",
   "metadata": {},
   "source": [
    "## PREPROCESS DATASET "
   ]
  },
  {
   "cell_type": "code",
   "execution_count": 31,
   "metadata": {},
   "outputs": [],
   "source": [
    "stop_words = stopwords.words(\"english\")\n",
    "stemmer = SnowballStemmer(\"english\")"
   ]
  },
  {
   "cell_type": "code",
   "execution_count": 32,
   "metadata": {},
   "outputs": [],
   "source": [
    "def preprocess(text, stem=False):\n",
    "    # Remove link,user and special characters\n",
    "    text = re.sub(TEXT_CLEANING_RE, ' ', str(text).lower()).strip()\n",
    "    tokens = []\n",
    "    for token in text.split():\n",
    "        if token not in stop_words:\n",
    "            if stem:\n",
    "                tokens.append(stemmer.stem(token))\n",
    "            else:\n",
    "                tokens.append(token)\n",
    "    return \" \".join(tokens)"
   ]
  },
  {
   "cell_type": "code",
   "execution_count": 33,
   "metadata": {},
   "outputs": [
    {
     "name": "stdout",
     "output_type": "stream",
     "text": [
      "CPU times: user 334 ms, sys: 0 ns, total: 334 ms\n",
      "Wall time: 333 ms\n"
     ]
    }
   ],
   "source": [
    "%%time\n",
    "data.Excerpt = data.Excerpt.apply(lambda x: preprocess(x))"
   ]
  },
  {
   "cell_type": "code",
   "execution_count": 34,
   "metadata": {},
   "outputs": [
    {
     "data": {
      "text/plain": [
       "Index(['StoryID', 'Excerpt', 'Excerpt_pre', 'Excerpt_tokenized',\n",
       "       'Excerpt_nonstop', 'Excerpt_stemmed', 'Excerpt_lemmatized',\n",
       "       'Excerpt_clean', 'target'],\n",
       "      dtype='object')"
      ]
     },
     "execution_count": 34,
     "metadata": {},
     "output_type": "execute_result"
    }
   ],
   "source": [
    "data.columns"
   ]
  },
  {
   "cell_type": "markdown",
   "metadata": {},
   "source": [
    "## SPLITTING TRAINING AND TESTING "
   ]
  },
  {
   "cell_type": "code",
   "execution_count": 35,
   "metadata": {},
   "outputs": [
    {
     "name": "stdout",
     "output_type": "stream",
     "text": [
      "TRAIN size: 1260\n",
      "TEST size: 316\n"
     ]
    }
   ],
   "source": [
    "df_train, df_test = train_test_split(data, test_size=1-TRAIN_SIZE, random_state=42)\n",
    "print(\"TRAIN size:\", len(df_train))\n",
    "print(\"TEST size:\", len(df_test))"
   ]
  },
  {
   "cell_type": "markdown",
   "metadata": {},
   "source": [
    "## WORD2VEC "
   ]
  },
  {
   "cell_type": "code",
   "execution_count": 36,
   "metadata": {},
   "outputs": [
    {
     "name": "stdout",
     "output_type": "stream",
     "text": [
      "CPU times: user 5.06 ms, sys: 131 µs, total: 5.19 ms\n",
      "Wall time: 5.12 ms\n"
     ]
    }
   ],
   "source": [
    "%%time\n",
    "documents = [_text.split() for _text in df_train.Excerpt] "
   ]
  },
  {
   "cell_type": "code",
   "execution_count": 37,
   "metadata": {},
   "outputs": [],
   "source": [
    "w2v_model = gensim.models.word2vec.Word2Vec(size=W2V_SIZE, \n",
    "                                            window=W2V_WINDOW, \n",
    "                                            min_count=W2V_MIN_COUNT, \n",
    "                                            workers=8)"
   ]
  },
  {
   "cell_type": "code",
   "execution_count": 38,
   "metadata": {},
   "outputs": [
    {
     "name": "stderr",
     "output_type": "stream",
     "text": [
      "2019-04-06 17:45:39,286 : INFO : collecting all words and their counts\n",
      "2019-04-06 17:45:39,287 : INFO : PROGRESS: at sentence #0, processed 0 words, keeping 0 word types\n",
      "2019-04-06 17:45:39,300 : INFO : collected 6840 word types from a corpus of 63631 raw words and 1260 sentences\n",
      "2019-04-06 17:45:39,302 : INFO : Loading a fresh vocabulary\n",
      "2019-04-06 17:45:39,315 : INFO : effective_min_count=10 retains 1322 unique words (19% of original 6840, drops 5518)\n",
      "2019-04-06 17:45:39,316 : INFO : effective_min_count=10 leaves 49763 word corpus (78% of original 63631, drops 13868)\n",
      "2019-04-06 17:45:39,321 : INFO : deleting the raw counts dictionary of 6840 items\n",
      "2019-04-06 17:45:39,322 : INFO : sample=0.001 downsamples 61 most-common words\n",
      "2019-04-06 17:45:39,323 : INFO : downsampling leaves estimated 44549 word corpus (89.5% of prior 49763)\n",
      "2019-04-06 17:45:39,326 : INFO : estimated required memory for 1322 words and 300 dimensions: 3833800 bytes\n",
      "2019-04-06 17:45:39,327 : INFO : resetting layer weights\n"
     ]
    }
   ],
   "source": [
    "w2v_model.build_vocab(documents)"
   ]
  },
  {
   "cell_type": "code",
   "execution_count": 39,
   "metadata": {},
   "outputs": [
    {
     "name": "stdout",
     "output_type": "stream",
     "text": [
      "Vocab size 1322\n"
     ]
    }
   ],
   "source": [
    "words = w2v_model.wv.vocab.keys()\n",
    "vocab_size = len(words)\n",
    "print(\"Vocab size\", vocab_size)"
   ]
  },
  {
   "cell_type": "code",
   "execution_count": 40,
   "metadata": {},
   "outputs": [
    {
     "name": "stderr",
     "output_type": "stream",
     "text": [
      "2019-04-06 17:45:57,588 : INFO : training model with 8 workers on 1322 vocabulary and 300 features, using sg=0 hs=0 sample=0.001 negative=5 window=7\n",
      "2019-04-06 17:45:57,604 : INFO : worker thread finished; awaiting finish of 7 more threads\n",
      "2019-04-06 17:45:57,628 : INFO : worker thread finished; awaiting finish of 6 more threads\n",
      "2019-04-06 17:45:57,633 : INFO : worker thread finished; awaiting finish of 5 more threads\n",
      "2019-04-06 17:45:57,642 : INFO : worker thread finished; awaiting finish of 4 more threads\n",
      "2019-04-06 17:45:57,650 : INFO : worker thread finished; awaiting finish of 3 more threads\n",
      "2019-04-06 17:45:57,653 : INFO : worker thread finished; awaiting finish of 2 more threads\n",
      "2019-04-06 17:45:57,655 : INFO : worker thread finished; awaiting finish of 1 more threads\n",
      "2019-04-06 17:45:57,656 : INFO : worker thread finished; awaiting finish of 0 more threads\n",
      "2019-04-06 17:45:57,657 : INFO : EPOCH - 1 : training on 63631 raw words (44565 effective words) took 0.1s, 792464 effective words/s\n",
      "2019-04-06 17:45:57,668 : INFO : worker thread finished; awaiting finish of 7 more threads\n",
      "2019-04-06 17:45:57,688 : INFO : worker thread finished; awaiting finish of 6 more threads\n",
      "2019-04-06 17:45:57,693 : INFO : worker thread finished; awaiting finish of 5 more threads\n",
      "2019-04-06 17:45:57,703 : INFO : worker thread finished; awaiting finish of 4 more threads\n",
      "2019-04-06 17:45:57,715 : INFO : worker thread finished; awaiting finish of 3 more threads\n",
      "2019-04-06 17:45:57,716 : INFO : worker thread finished; awaiting finish of 2 more threads\n",
      "2019-04-06 17:45:57,717 : INFO : worker thread finished; awaiting finish of 1 more threads\n",
      "2019-04-06 17:45:57,719 : INFO : worker thread finished; awaiting finish of 0 more threads\n",
      "2019-04-06 17:45:57,719 : INFO : EPOCH - 2 : training on 63631 raw words (44540 effective words) took 0.1s, 812428 effective words/s\n",
      "2019-04-06 17:45:57,727 : INFO : worker thread finished; awaiting finish of 7 more threads\n",
      "2019-04-06 17:45:57,748 : INFO : worker thread finished; awaiting finish of 6 more threads\n",
      "2019-04-06 17:45:57,759 : INFO : worker thread finished; awaiting finish of 5 more threads\n",
      "2019-04-06 17:45:57,774 : INFO : worker thread finished; awaiting finish of 4 more threads\n",
      "2019-04-06 17:45:57,776 : INFO : worker thread finished; awaiting finish of 3 more threads\n",
      "2019-04-06 17:45:57,777 : INFO : worker thread finished; awaiting finish of 2 more threads\n",
      "2019-04-06 17:45:57,779 : INFO : worker thread finished; awaiting finish of 1 more threads\n",
      "2019-04-06 17:45:57,782 : INFO : worker thread finished; awaiting finish of 0 more threads\n",
      "2019-04-06 17:45:57,783 : INFO : EPOCH - 3 : training on 63631 raw words (44577 effective words) took 0.1s, 760879 effective words/s\n",
      "2019-04-06 17:45:57,792 : INFO : worker thread finished; awaiting finish of 7 more threads\n",
      "2019-04-06 17:45:57,816 : INFO : worker thread finished; awaiting finish of 6 more threads\n",
      "2019-04-06 17:45:57,821 : INFO : worker thread finished; awaiting finish of 5 more threads\n",
      "2019-04-06 17:45:57,831 : INFO : worker thread finished; awaiting finish of 4 more threads\n",
      "2019-04-06 17:45:57,836 : INFO : worker thread finished; awaiting finish of 3 more threads\n",
      "2019-04-06 17:45:57,839 : INFO : worker thread finished; awaiting finish of 2 more threads\n",
      "2019-04-06 17:45:57,843 : INFO : worker thread finished; awaiting finish of 1 more threads\n",
      "2019-04-06 17:45:57,844 : INFO : worker thread finished; awaiting finish of 0 more threads\n",
      "2019-04-06 17:45:57,845 : INFO : EPOCH - 4 : training on 63631 raw words (44481 effective words) took 0.1s, 786219 effective words/s\n",
      "2019-04-06 17:45:57,853 : INFO : worker thread finished; awaiting finish of 7 more threads\n",
      "2019-04-06 17:45:57,873 : INFO : worker thread finished; awaiting finish of 6 more threads\n",
      "2019-04-06 17:45:57,879 : INFO : worker thread finished; awaiting finish of 5 more threads\n",
      "2019-04-06 17:45:57,899 : INFO : worker thread finished; awaiting finish of 4 more threads\n",
      "2019-04-06 17:45:57,900 : INFO : worker thread finished; awaiting finish of 3 more threads\n",
      "2019-04-06 17:45:57,904 : INFO : worker thread finished; awaiting finish of 2 more threads\n",
      "2019-04-06 17:45:57,907 : INFO : worker thread finished; awaiting finish of 1 more threads\n",
      "2019-04-06 17:45:57,910 : INFO : worker thread finished; awaiting finish of 0 more threads\n",
      "2019-04-06 17:45:57,911 : INFO : EPOCH - 5 : training on 63631 raw words (44615 effective words) took 0.1s, 770171 effective words/s\n",
      "2019-04-06 17:45:57,919 : INFO : worker thread finished; awaiting finish of 7 more threads\n",
      "2019-04-06 17:45:57,942 : INFO : worker thread finished; awaiting finish of 6 more threads\n",
      "2019-04-06 17:45:57,950 : INFO : worker thread finished; awaiting finish of 5 more threads\n",
      "2019-04-06 17:45:57,965 : INFO : worker thread finished; awaiting finish of 4 more threads\n",
      "2019-04-06 17:45:57,966 : INFO : worker thread finished; awaiting finish of 3 more threads\n",
      "2019-04-06 17:45:57,969 : INFO : worker thread finished; awaiting finish of 2 more threads\n",
      "2019-04-06 17:45:57,969 : INFO : worker thread finished; awaiting finish of 1 more threads\n",
      "2019-04-06 17:45:57,973 : INFO : worker thread finished; awaiting finish of 0 more threads\n",
      "2019-04-06 17:45:57,974 : INFO : EPOCH - 6 : training on 63631 raw words (44696 effective words) took 0.1s, 778256 effective words/s\n",
      "2019-04-06 17:45:57,982 : INFO : worker thread finished; awaiting finish of 7 more threads\n",
      "2019-04-06 17:45:58,002 : INFO : worker thread finished; awaiting finish of 6 more threads\n",
      "2019-04-06 17:45:58,014 : INFO : worker thread finished; awaiting finish of 5 more threads\n",
      "2019-04-06 17:45:58,028 : INFO : worker thread finished; awaiting finish of 4 more threads\n",
      "2019-04-06 17:45:58,029 : INFO : worker thread finished; awaiting finish of 3 more threads\n",
      "2019-04-06 17:45:58,030 : INFO : worker thread finished; awaiting finish of 2 more threads\n",
      "2019-04-06 17:45:58,032 : INFO : worker thread finished; awaiting finish of 1 more threads\n",
      "2019-04-06 17:45:58,034 : INFO : worker thread finished; awaiting finish of 0 more threads\n",
      "2019-04-06 17:45:58,034 : INFO : EPOCH - 7 : training on 63631 raw words (44490 effective words) took 0.1s, 804406 effective words/s\n",
      "2019-04-06 17:45:58,042 : INFO : worker thread finished; awaiting finish of 7 more threads\n",
      "2019-04-06 17:45:58,068 : INFO : worker thread finished; awaiting finish of 6 more threads\n",
      "2019-04-06 17:45:58,072 : INFO : worker thread finished; awaiting finish of 5 more threads\n",
      "2019-04-06 17:45:58,084 : INFO : worker thread finished; awaiting finish of 4 more threads\n",
      "2019-04-06 17:45:58,087 : INFO : worker thread finished; awaiting finish of 3 more threads\n",
      "2019-04-06 17:45:58,089 : INFO : worker thread finished; awaiting finish of 2 more threads\n",
      "2019-04-06 17:45:58,090 : INFO : worker thread finished; awaiting finish of 1 more threads\n",
      "2019-04-06 17:45:58,092 : INFO : worker thread finished; awaiting finish of 0 more threads\n",
      "2019-04-06 17:45:58,092 : INFO : EPOCH - 8 : training on 63631 raw words (44546 effective words) took 0.1s, 838910 effective words/s\n",
      "2019-04-06 17:45:58,099 : INFO : worker thread finished; awaiting finish of 7 more threads\n",
      "2019-04-06 17:45:58,129 : INFO : worker thread finished; awaiting finish of 6 more threads\n",
      "2019-04-06 17:45:58,130 : INFO : worker thread finished; awaiting finish of 5 more threads\n",
      "2019-04-06 17:45:58,138 : INFO : worker thread finished; awaiting finish of 4 more threads\n",
      "2019-04-06 17:45:58,143 : INFO : worker thread finished; awaiting finish of 3 more threads\n",
      "2019-04-06 17:45:58,144 : INFO : worker thread finished; awaiting finish of 2 more threads\n",
      "2019-04-06 17:45:58,149 : INFO : worker thread finished; awaiting finish of 1 more threads\n",
      "2019-04-06 17:45:58,151 : INFO : worker thread finished; awaiting finish of 0 more threads\n",
      "2019-04-06 17:45:58,152 : INFO : EPOCH - 9 : training on 63631 raw words (44579 effective words) took 0.1s, 845121 effective words/s\n",
      "2019-04-06 17:45:58,159 : INFO : worker thread finished; awaiting finish of 7 more threads\n",
      "2019-04-06 17:45:58,182 : INFO : worker thread finished; awaiting finish of 6 more threads\n",
      "2019-04-06 17:45:58,188 : INFO : worker thread finished; awaiting finish of 5 more threads\n",
      "2019-04-06 17:45:58,206 : INFO : worker thread finished; awaiting finish of 4 more threads\n"
     ]
    },
    {
     "name": "stderr",
     "output_type": "stream",
     "text": [
      "2019-04-06 17:45:58,207 : INFO : worker thread finished; awaiting finish of 3 more threads\n",
      "2019-04-06 17:45:58,210 : INFO : worker thread finished; awaiting finish of 2 more threads\n",
      "2019-04-06 17:45:58,211 : INFO : worker thread finished; awaiting finish of 1 more threads\n",
      "2019-04-06 17:45:58,213 : INFO : worker thread finished; awaiting finish of 0 more threads\n",
      "2019-04-06 17:45:58,214 : INFO : EPOCH - 10 : training on 63631 raw words (44487 effective words) took 0.1s, 782331 effective words/s\n",
      "2019-04-06 17:45:58,222 : INFO : worker thread finished; awaiting finish of 7 more threads\n",
      "2019-04-06 17:45:58,249 : INFO : worker thread finished; awaiting finish of 6 more threads\n",
      "2019-04-06 17:45:58,259 : INFO : worker thread finished; awaiting finish of 5 more threads\n",
      "2019-04-06 17:45:58,267 : INFO : worker thread finished; awaiting finish of 4 more threads\n",
      "2019-04-06 17:45:58,269 : INFO : worker thread finished; awaiting finish of 3 more threads\n",
      "2019-04-06 17:45:58,270 : INFO : worker thread finished; awaiting finish of 2 more threads\n",
      "2019-04-06 17:45:58,271 : INFO : worker thread finished; awaiting finish of 1 more threads\n",
      "2019-04-06 17:45:58,275 : INFO : worker thread finished; awaiting finish of 0 more threads\n",
      "2019-04-06 17:45:58,276 : INFO : EPOCH - 11 : training on 63631 raw words (44606 effective words) took 0.1s, 786633 effective words/s\n",
      "2019-04-06 17:45:58,285 : INFO : worker thread finished; awaiting finish of 7 more threads\n",
      "2019-04-06 17:45:58,305 : INFO : worker thread finished; awaiting finish of 6 more threads\n",
      "2019-04-06 17:45:58,311 : INFO : worker thread finished; awaiting finish of 5 more threads\n",
      "2019-04-06 17:45:58,327 : INFO : worker thread finished; awaiting finish of 4 more threads\n",
      "2019-04-06 17:45:58,333 : INFO : worker thread finished; awaiting finish of 3 more threads\n",
      "2019-04-06 17:45:58,334 : INFO : worker thread finished; awaiting finish of 2 more threads\n",
      "2019-04-06 17:45:58,337 : INFO : worker thread finished; awaiting finish of 1 more threads\n",
      "2019-04-06 17:45:58,338 : INFO : worker thread finished; awaiting finish of 0 more threads\n",
      "2019-04-06 17:45:58,339 : INFO : EPOCH - 12 : training on 63631 raw words (44525 effective words) took 0.1s, 776207 effective words/s\n",
      "2019-04-06 17:45:58,347 : INFO : worker thread finished; awaiting finish of 7 more threads\n",
      "2019-04-06 17:45:58,371 : INFO : worker thread finished; awaiting finish of 6 more threads\n",
      "2019-04-06 17:45:58,374 : INFO : worker thread finished; awaiting finish of 5 more threads\n",
      "2019-04-06 17:45:58,389 : INFO : worker thread finished; awaiting finish of 4 more threads\n",
      "2019-04-06 17:45:58,394 : INFO : worker thread finished; awaiting finish of 3 more threads\n",
      "2019-04-06 17:45:58,396 : INFO : worker thread finished; awaiting finish of 2 more threads\n",
      "2019-04-06 17:45:58,397 : INFO : worker thread finished; awaiting finish of 1 more threads\n",
      "2019-04-06 17:45:58,401 : INFO : worker thread finished; awaiting finish of 0 more threads\n",
      "2019-04-06 17:45:58,402 : INFO : EPOCH - 13 : training on 63631 raw words (44541 effective words) took 0.1s, 772962 effective words/s\n",
      "2019-04-06 17:45:58,410 : INFO : worker thread finished; awaiting finish of 7 more threads\n",
      "2019-04-06 17:45:58,436 : INFO : worker thread finished; awaiting finish of 6 more threads\n",
      "2019-04-06 17:45:58,442 : INFO : worker thread finished; awaiting finish of 5 more threads\n",
      "2019-04-06 17:45:58,458 : INFO : worker thread finished; awaiting finish of 4 more threads\n",
      "2019-04-06 17:45:58,459 : INFO : worker thread finished; awaiting finish of 3 more threads\n",
      "2019-04-06 17:45:58,460 : INFO : worker thread finished; awaiting finish of 2 more threads\n",
      "2019-04-06 17:45:58,462 : INFO : worker thread finished; awaiting finish of 1 more threads\n",
      "2019-04-06 17:45:58,465 : INFO : worker thread finished; awaiting finish of 0 more threads\n",
      "2019-04-06 17:45:58,465 : INFO : EPOCH - 14 : training on 63631 raw words (44682 effective words) took 0.1s, 766726 effective words/s\n",
      "2019-04-06 17:45:58,474 : INFO : worker thread finished; awaiting finish of 7 more threads\n",
      "2019-04-06 17:45:58,496 : INFO : worker thread finished; awaiting finish of 6 more threads\n",
      "2019-04-06 17:45:58,502 : INFO : worker thread finished; awaiting finish of 5 more threads\n",
      "2019-04-06 17:45:58,512 : INFO : worker thread finished; awaiting finish of 4 more threads\n",
      "2019-04-06 17:45:58,513 : INFO : worker thread finished; awaiting finish of 3 more threads\n",
      "2019-04-06 17:45:58,524 : INFO : worker thread finished; awaiting finish of 2 more threads\n",
      "2019-04-06 17:45:58,525 : INFO : worker thread finished; awaiting finish of 1 more threads\n",
      "2019-04-06 17:45:58,526 : INFO : worker thread finished; awaiting finish of 0 more threads\n",
      "2019-04-06 17:45:58,527 : INFO : EPOCH - 15 : training on 63631 raw words (44542 effective words) took 0.1s, 785985 effective words/s\n",
      "2019-04-06 17:45:58,536 : INFO : worker thread finished; awaiting finish of 7 more threads\n",
      "2019-04-06 17:45:58,559 : INFO : worker thread finished; awaiting finish of 6 more threads\n",
      "2019-04-06 17:45:58,568 : INFO : worker thread finished; awaiting finish of 5 more threads\n",
      "2019-04-06 17:45:58,575 : INFO : worker thread finished; awaiting finish of 4 more threads\n",
      "2019-04-06 17:45:58,581 : INFO : worker thread finished; awaiting finish of 3 more threads\n",
      "2019-04-06 17:45:58,582 : INFO : worker thread finished; awaiting finish of 2 more threads\n",
      "2019-04-06 17:45:58,584 : INFO : worker thread finished; awaiting finish of 1 more threads\n",
      "2019-04-06 17:45:58,589 : INFO : worker thread finished; awaiting finish of 0 more threads\n",
      "2019-04-06 17:45:58,590 : INFO : EPOCH - 16 : training on 63631 raw words (44494 effective words) took 0.1s, 774339 effective words/s\n",
      "2019-04-06 17:45:58,598 : INFO : worker thread finished; awaiting finish of 7 more threads\n",
      "2019-04-06 17:45:58,621 : INFO : worker thread finished; awaiting finish of 6 more threads\n",
      "2019-04-06 17:45:58,631 : INFO : worker thread finished; awaiting finish of 5 more threads\n",
      "2019-04-06 17:45:58,644 : INFO : worker thread finished; awaiting finish of 4 more threads\n",
      "2019-04-06 17:45:58,647 : INFO : worker thread finished; awaiting finish of 3 more threads\n",
      "2019-04-06 17:45:58,653 : INFO : worker thread finished; awaiting finish of 2 more threads\n",
      "2019-04-06 17:45:58,654 : INFO : worker thread finished; awaiting finish of 1 more threads\n",
      "2019-04-06 17:45:58,658 : INFO : worker thread finished; awaiting finish of 0 more threads\n",
      "2019-04-06 17:45:58,659 : INFO : EPOCH - 17 : training on 63631 raw words (44572 effective words) took 0.1s, 701204 effective words/s\n",
      "2019-04-06 17:45:58,667 : INFO : worker thread finished; awaiting finish of 7 more threads\n",
      "2019-04-06 17:45:58,691 : INFO : worker thread finished; awaiting finish of 6 more threads\n",
      "2019-04-06 17:45:58,698 : INFO : worker thread finished; awaiting finish of 5 more threads\n",
      "2019-04-06 17:45:58,711 : INFO : worker thread finished; awaiting finish of 4 more threads\n",
      "2019-04-06 17:45:58,713 : INFO : worker thread finished; awaiting finish of 3 more threads\n",
      "2019-04-06 17:45:58,714 : INFO : worker thread finished; awaiting finish of 2 more threads\n",
      "2019-04-06 17:45:58,717 : INFO : worker thread finished; awaiting finish of 1 more threads\n",
      "2019-04-06 17:45:58,720 : INFO : worker thread finished; awaiting finish of 0 more threads\n",
      "2019-04-06 17:45:58,721 : INFO : EPOCH - 18 : training on 63631 raw words (44526 effective words) took 0.1s, 784158 effective words/s\n",
      "2019-04-06 17:45:58,728 : INFO : worker thread finished; awaiting finish of 7 more threads\n",
      "2019-04-06 17:45:58,754 : INFO : worker thread finished; awaiting finish of 6 more threads\n",
      "2019-04-06 17:45:58,760 : INFO : worker thread finished; awaiting finish of 5 more threads\n",
      "2019-04-06 17:45:58,768 : INFO : worker thread finished; awaiting finish of 4 more threads\n",
      "2019-04-06 17:45:58,771 : INFO : worker thread finished; awaiting finish of 3 more threads\n",
      "2019-04-06 17:45:58,781 : INFO : worker thread finished; awaiting finish of 2 more threads\n",
      "2019-04-06 17:45:58,782 : INFO : worker thread finished; awaiting finish of 1 more threads\n",
      "2019-04-06 17:45:58,783 : INFO : worker thread finished; awaiting finish of 0 more threads\n",
      "2019-04-06 17:45:58,784 : INFO : EPOCH - 19 : training on 63631 raw words (44449 effective words) took 0.1s, 761283 effective words/s\n"
     ]
    },
    {
     "name": "stderr",
     "output_type": "stream",
     "text": [
      "2019-04-06 17:45:58,793 : INFO : worker thread finished; awaiting finish of 7 more threads\n",
      "2019-04-06 17:45:58,812 : INFO : worker thread finished; awaiting finish of 6 more threads\n",
      "2019-04-06 17:45:58,830 : INFO : worker thread finished; awaiting finish of 5 more threads\n",
      "2019-04-06 17:45:58,832 : INFO : worker thread finished; awaiting finish of 4 more threads\n",
      "2019-04-06 17:45:58,834 : INFO : worker thread finished; awaiting finish of 3 more threads\n",
      "2019-04-06 17:45:58,842 : INFO : worker thread finished; awaiting finish of 2 more threads\n",
      "2019-04-06 17:45:58,843 : INFO : worker thread finished; awaiting finish of 1 more threads\n",
      "2019-04-06 17:45:58,847 : INFO : worker thread finished; awaiting finish of 0 more threads\n",
      "2019-04-06 17:45:58,847 : INFO : EPOCH - 20 : training on 63631 raw words (44555 effective words) took 0.1s, 767686 effective words/s\n",
      "2019-04-06 17:45:58,855 : INFO : worker thread finished; awaiting finish of 7 more threads\n",
      "2019-04-06 17:45:58,877 : INFO : worker thread finished; awaiting finish of 6 more threads\n",
      "2019-04-06 17:45:58,887 : INFO : worker thread finished; awaiting finish of 5 more threads\n",
      "2019-04-06 17:45:58,899 : INFO : worker thread finished; awaiting finish of 4 more threads\n",
      "2019-04-06 17:45:58,901 : INFO : worker thread finished; awaiting finish of 3 more threads\n",
      "2019-04-06 17:45:58,902 : INFO : worker thread finished; awaiting finish of 2 more threads\n",
      "2019-04-06 17:45:58,907 : INFO : worker thread finished; awaiting finish of 1 more threads\n",
      "2019-04-06 17:45:58,910 : INFO : worker thread finished; awaiting finish of 0 more threads\n",
      "2019-04-06 17:45:58,910 : INFO : EPOCH - 21 : training on 63631 raw words (44600 effective words) took 0.1s, 765525 effective words/s\n",
      "2019-04-06 17:45:58,919 : INFO : worker thread finished; awaiting finish of 7 more threads\n",
      "2019-04-06 17:45:58,941 : INFO : worker thread finished; awaiting finish of 6 more threads\n",
      "2019-04-06 17:45:58,951 : INFO : worker thread finished; awaiting finish of 5 more threads\n",
      "2019-04-06 17:45:58,969 : INFO : worker thread finished; awaiting finish of 4 more threads\n",
      "2019-04-06 17:45:58,971 : INFO : worker thread finished; awaiting finish of 3 more threads\n",
      "2019-04-06 17:45:58,972 : INFO : worker thread finished; awaiting finish of 2 more threads\n",
      "2019-04-06 17:45:58,973 : INFO : worker thread finished; awaiting finish of 1 more threads\n",
      "2019-04-06 17:45:58,976 : INFO : worker thread finished; awaiting finish of 0 more threads\n",
      "2019-04-06 17:45:58,976 : INFO : EPOCH - 22 : training on 63631 raw words (44541 effective words) took 0.1s, 732757 effective words/s\n",
      "2019-04-06 17:45:58,984 : INFO : worker thread finished; awaiting finish of 7 more threads\n",
      "2019-04-06 17:45:59,009 : INFO : worker thread finished; awaiting finish of 6 more threads\n",
      "2019-04-06 17:45:59,013 : INFO : worker thread finished; awaiting finish of 5 more threads\n",
      "2019-04-06 17:45:59,023 : INFO : worker thread finished; awaiting finish of 4 more threads\n",
      "2019-04-06 17:45:59,030 : INFO : worker thread finished; awaiting finish of 3 more threads\n",
      "2019-04-06 17:45:59,034 : INFO : worker thread finished; awaiting finish of 2 more threads\n",
      "2019-04-06 17:45:59,038 : INFO : worker thread finished; awaiting finish of 1 more threads\n",
      "2019-04-06 17:45:59,040 : INFO : worker thread finished; awaiting finish of 0 more threads\n",
      "2019-04-06 17:45:59,041 : INFO : EPOCH - 23 : training on 63631 raw words (44493 effective words) took 0.1s, 749366 effective words/s\n",
      "2019-04-06 17:45:59,049 : INFO : worker thread finished; awaiting finish of 7 more threads\n",
      "2019-04-06 17:45:59,072 : INFO : worker thread finished; awaiting finish of 6 more threads\n",
      "2019-04-06 17:45:59,079 : INFO : worker thread finished; awaiting finish of 5 more threads\n",
      "2019-04-06 17:45:59,092 : INFO : worker thread finished; awaiting finish of 4 more threads\n",
      "2019-04-06 17:45:59,094 : INFO : worker thread finished; awaiting finish of 3 more threads\n",
      "2019-04-06 17:45:59,096 : INFO : worker thread finished; awaiting finish of 2 more threads\n",
      "2019-04-06 17:45:59,097 : INFO : worker thread finished; awaiting finish of 1 more threads\n",
      "2019-04-06 17:45:59,100 : INFO : worker thread finished; awaiting finish of 0 more threads\n",
      "2019-04-06 17:45:59,101 : INFO : EPOCH - 24 : training on 63631 raw words (44517 effective words) took 0.1s, 813122 effective words/s\n",
      "2019-04-06 17:45:59,109 : INFO : worker thread finished; awaiting finish of 7 more threads\n",
      "2019-04-06 17:45:59,131 : INFO : worker thread finished; awaiting finish of 6 more threads\n",
      "2019-04-06 17:45:59,139 : INFO : worker thread finished; awaiting finish of 5 more threads\n",
      "2019-04-06 17:45:59,150 : INFO : worker thread finished; awaiting finish of 4 more threads\n",
      "2019-04-06 17:45:59,152 : INFO : worker thread finished; awaiting finish of 3 more threads\n",
      "2019-04-06 17:45:59,153 : INFO : worker thread finished; awaiting finish of 2 more threads\n",
      "2019-04-06 17:45:59,163 : INFO : worker thread finished; awaiting finish of 1 more threads\n",
      "2019-04-06 17:45:59,164 : INFO : worker thread finished; awaiting finish of 0 more threads\n",
      "2019-04-06 17:45:59,165 : INFO : EPOCH - 25 : training on 63631 raw words (44521 effective words) took 0.1s, 758654 effective words/s\n",
      "2019-04-06 17:45:59,173 : INFO : worker thread finished; awaiting finish of 7 more threads\n",
      "2019-04-06 17:45:59,195 : INFO : worker thread finished; awaiting finish of 6 more threads\n",
      "2019-04-06 17:45:59,203 : INFO : worker thread finished; awaiting finish of 5 more threads\n",
      "2019-04-06 17:45:59,212 : INFO : worker thread finished; awaiting finish of 4 more threads\n",
      "2019-04-06 17:45:59,216 : INFO : worker thread finished; awaiting finish of 3 more threads\n",
      "2019-04-06 17:45:59,224 : INFO : worker thread finished; awaiting finish of 2 more threads\n",
      "2019-04-06 17:45:59,225 : INFO : worker thread finished; awaiting finish of 1 more threads\n",
      "2019-04-06 17:45:59,227 : INFO : worker thread finished; awaiting finish of 0 more threads\n",
      "2019-04-06 17:45:59,227 : INFO : EPOCH - 26 : training on 63631 raw words (44642 effective words) took 0.1s, 775861 effective words/s\n",
      "2019-04-06 17:45:59,236 : INFO : worker thread finished; awaiting finish of 7 more threads\n",
      "2019-04-06 17:45:59,255 : INFO : worker thread finished; awaiting finish of 6 more threads\n",
      "2019-04-06 17:45:59,267 : INFO : worker thread finished; awaiting finish of 5 more threads\n",
      "2019-04-06 17:45:59,277 : INFO : worker thread finished; awaiting finish of 4 more threads\n",
      "2019-04-06 17:45:59,280 : INFO : worker thread finished; awaiting finish of 3 more threads\n",
      "2019-04-06 17:45:59,283 : INFO : worker thread finished; awaiting finish of 2 more threads\n",
      "2019-04-06 17:45:59,286 : INFO : worker thread finished; awaiting finish of 1 more threads\n",
      "2019-04-06 17:45:59,288 : INFO : worker thread finished; awaiting finish of 0 more threads\n",
      "2019-04-06 17:45:59,289 : INFO : EPOCH - 27 : training on 63631 raw words (44546 effective words) took 0.1s, 788534 effective words/s\n",
      "2019-04-06 17:45:59,297 : INFO : worker thread finished; awaiting finish of 7 more threads\n",
      "2019-04-06 17:45:59,319 : INFO : worker thread finished; awaiting finish of 6 more threads\n",
      "2019-04-06 17:45:59,327 : INFO : worker thread finished; awaiting finish of 5 more threads\n",
      "2019-04-06 17:45:59,342 : INFO : worker thread finished; awaiting finish of 4 more threads\n",
      "2019-04-06 17:45:59,345 : INFO : worker thread finished; awaiting finish of 3 more threads\n",
      "2019-04-06 17:45:59,347 : INFO : worker thread finished; awaiting finish of 2 more threads\n",
      "2019-04-06 17:45:59,348 : INFO : worker thread finished; awaiting finish of 1 more threads\n",
      "2019-04-06 17:45:59,354 : INFO : worker thread finished; awaiting finish of 0 more threads\n",
      "2019-04-06 17:45:59,360 : INFO : EPOCH - 28 : training on 63631 raw words (44532 effective words) took 0.1s, 690019 effective words/s\n",
      "2019-04-06 17:45:59,370 : INFO : worker thread finished; awaiting finish of 7 more threads\n",
      "2019-04-06 17:45:59,390 : INFO : worker thread finished; awaiting finish of 6 more threads\n",
      "2019-04-06 17:45:59,399 : INFO : worker thread finished; awaiting finish of 5 more threads\n",
      "2019-04-06 17:45:59,417 : INFO : worker thread finished; awaiting finish of 4 more threads\n",
      "2019-04-06 17:45:59,419 : INFO : worker thread finished; awaiting finish of 3 more threads\n"
     ]
    },
    {
     "name": "stderr",
     "output_type": "stream",
     "text": [
      "2019-04-06 17:45:59,420 : INFO : worker thread finished; awaiting finish of 2 more threads\n",
      "2019-04-06 17:45:59,423 : INFO : worker thread finished; awaiting finish of 1 more threads\n",
      "2019-04-06 17:45:59,424 : INFO : worker thread finished; awaiting finish of 0 more threads\n",
      "2019-04-06 17:45:59,425 : INFO : EPOCH - 29 : training on 63631 raw words (44511 effective words) took 0.1s, 769920 effective words/s\n",
      "2019-04-06 17:45:59,434 : INFO : worker thread finished; awaiting finish of 7 more threads\n",
      "2019-04-06 17:45:59,455 : INFO : worker thread finished; awaiting finish of 6 more threads\n",
      "2019-04-06 17:45:59,466 : INFO : worker thread finished; awaiting finish of 5 more threads\n",
      "2019-04-06 17:45:59,480 : INFO : worker thread finished; awaiting finish of 4 more threads\n",
      "2019-04-06 17:45:59,481 : INFO : worker thread finished; awaiting finish of 3 more threads\n",
      "2019-04-06 17:45:59,482 : INFO : worker thread finished; awaiting finish of 2 more threads\n",
      "2019-04-06 17:45:59,484 : INFO : worker thread finished; awaiting finish of 1 more threads\n",
      "2019-04-06 17:45:59,485 : INFO : worker thread finished; awaiting finish of 0 more threads\n",
      "2019-04-06 17:45:59,486 : INFO : EPOCH - 30 : training on 63631 raw words (44510 effective words) took 0.1s, 808784 effective words/s\n",
      "2019-04-06 17:45:59,495 : INFO : worker thread finished; awaiting finish of 7 more threads\n",
      "2019-04-06 17:45:59,516 : INFO : worker thread finished; awaiting finish of 6 more threads\n",
      "2019-04-06 17:45:59,524 : INFO : worker thread finished; awaiting finish of 5 more threads\n",
      "2019-04-06 17:45:59,532 : INFO : worker thread finished; awaiting finish of 4 more threads\n",
      "2019-04-06 17:45:59,537 : INFO : worker thread finished; awaiting finish of 3 more threads\n",
      "2019-04-06 17:45:59,542 : INFO : worker thread finished; awaiting finish of 2 more threads\n",
      "2019-04-06 17:45:59,548 : INFO : worker thread finished; awaiting finish of 1 more threads\n",
      "2019-04-06 17:45:59,549 : INFO : worker thread finished; awaiting finish of 0 more threads\n",
      "2019-04-06 17:45:59,550 : INFO : EPOCH - 31 : training on 63631 raw words (44523 effective words) took 0.1s, 765229 effective words/s\n",
      "2019-04-06 17:45:59,558 : INFO : worker thread finished; awaiting finish of 7 more threads\n",
      "2019-04-06 17:45:59,584 : INFO : worker thread finished; awaiting finish of 6 more threads\n",
      "2019-04-06 17:45:59,589 : INFO : worker thread finished; awaiting finish of 5 more threads\n",
      "2019-04-06 17:45:59,600 : INFO : worker thread finished; awaiting finish of 4 more threads\n",
      "2019-04-06 17:45:59,603 : INFO : worker thread finished; awaiting finish of 3 more threads\n",
      "2019-04-06 17:45:59,606 : INFO : worker thread finished; awaiting finish of 2 more threads\n",
      "2019-04-06 17:45:59,607 : INFO : worker thread finished; awaiting finish of 1 more threads\n",
      "2019-04-06 17:45:59,609 : INFO : worker thread finished; awaiting finish of 0 more threads\n",
      "2019-04-06 17:45:59,609 : INFO : EPOCH - 32 : training on 63631 raw words (44544 effective words) took 0.1s, 825192 effective words/s\n",
      "2019-04-06 17:45:59,610 : INFO : training on a 2036192 raw words (1425548 effective words) took 2.0s, 705451 effective words/s\n"
     ]
    },
    {
     "name": "stdout",
     "output_type": "stream",
     "text": [
      "CPU times: user 7.52 s, sys: 186 ms, total: 7.7 s\n",
      "Wall time: 2.02 s\n"
     ]
    },
    {
     "data": {
      "text/plain": [
       "(1425548, 2036192)"
      ]
     },
     "execution_count": 40,
     "metadata": {},
     "output_type": "execute_result"
    }
   ],
   "source": [
    "%%time\n",
    "w2v_model.train(documents, total_examples=len(documents), epochs=W2V_EPOCH)"
   ]
  },
  {
   "cell_type": "code",
   "execution_count": 41,
   "metadata": {},
   "outputs": [
    {
     "name": "stderr",
     "output_type": "stream",
     "text": [
      "/home/spriyanshu723/anaconda3/envs/fastai-cpu/lib/python3.6/site-packages/ipykernel_launcher.py:1: DeprecationWarning: Call to deprecated `most_similar` (Method will be removed in 4.0.0, use self.wv.most_similar() instead).\n",
      "  \"\"\"Entry point for launching an IPython kernel.\n",
      "2019-04-06 17:46:32,683 : INFO : precomputing L2-norms of word weight vectors\n"
     ]
    },
    {
     "data": {
      "text/plain": [
       "[('murderous', 0.7228012084960938),\n",
       " ('screed', 0.707252025604248),\n",
       " ('near', 0.6996663808822632),\n",
       " ('seaside', 0.6612381935119629),\n",
       " ('friday', 0.6590067148208618),\n",
       " ('six', 0.6426867246627808),\n",
       " ('23', 0.638489305973053),\n",
       " ('deadly', 0.6066614985466003),\n",
       " ('carefully', 0.6052719354629517),\n",
       " ('killing', 0.5978062748908997)]"
      ]
     },
     "execution_count": 41,
     "metadata": {},
     "output_type": "execute_result"
    }
   ],
   "source": [
    "w2v_model.most_similar(\"rampage\")"
   ]
  },
  {
   "cell_type": "markdown",
   "metadata": {},
   "source": [
    "## TOKENIZE TEXT "
   ]
  },
  {
   "cell_type": "code",
   "execution_count": 42,
   "metadata": {},
   "outputs": [
    {
     "name": "stdout",
     "output_type": "stream",
     "text": [
      "Total words 6841\n",
      "CPU times: user 66.8 ms, sys: 97 µs, total: 66.8 ms\n",
      "Wall time: 65.8 ms\n"
     ]
    }
   ],
   "source": [
    "%%time\n",
    "tokenizer = Tokenizer()\n",
    "tokenizer.fit_on_texts(df_train.Excerpt)\n",
    "\n",
    "vocab_size = len(tokenizer.word_index) + 1\n",
    "print(\"Total words\", vocab_size)"
   ]
  },
  {
   "cell_type": "code",
   "execution_count": 43,
   "metadata": {},
   "outputs": [
    {
     "name": "stdout",
     "output_type": "stream",
     "text": [
      "CPU times: user 64.2 ms, sys: 3.69 ms, total: 67.9 ms\n",
      "Wall time: 67 ms\n"
     ]
    }
   ],
   "source": [
    "%%time\n",
    "x_train = pad_sequences(tokenizer.texts_to_sequences(df_train.Excerpt), maxlen=SEQUENCE_LENGTH)\n",
    "x_test = pad_sequences(tokenizer.texts_to_sequences(df_test.Excerpt), maxlen=SEQUENCE_LENGTH)"
   ]
  },
  {
   "cell_type": "code",
   "execution_count": 44,
   "metadata": {},
   "outputs": [
    {
     "data": {
      "text/html": [
       "<div>\n",
       "<style scoped>\n",
       "    .dataframe tbody tr th:only-of-type {\n",
       "        vertical-align: middle;\n",
       "    }\n",
       "\n",
       "    .dataframe tbody tr th {\n",
       "        vertical-align: top;\n",
       "    }\n",
       "\n",
       "    .dataframe thead th {\n",
       "        text-align: right;\n",
       "    }\n",
       "</style>\n",
       "<table border=\"1\" class=\"dataframe\">\n",
       "  <thead>\n",
       "    <tr style=\"text-align: right;\">\n",
       "      <th></th>\n",
       "      <th>StoryID</th>\n",
       "      <th>Excerpt</th>\n",
       "      <th>Excerpt_pre</th>\n",
       "      <th>Excerpt_tokenized</th>\n",
       "      <th>Excerpt_nonstop</th>\n",
       "      <th>Excerpt_stemmed</th>\n",
       "      <th>Excerpt_lemmatized</th>\n",
       "      <th>Excerpt_clean</th>\n",
       "      <th>target</th>\n",
       "    </tr>\n",
       "  </thead>\n",
       "  <tbody>\n",
       "    <tr>\n",
       "      <th>3661</th>\n",
       "      <td>NI2857</td>\n",
       "      <td>dont know girls arent attracted punish elliot ...</td>\n",
       "      <td>dont know girls arent attracted punish elliot ...</td>\n",
       "      <td>['dont', 'know', 'girls', 'arent', 'attracted'...</td>\n",
       "      <td>['dont', 'know', 'girls', 'arent', 'attracted'...</td>\n",
       "      <td>['dont', 'know', 'girl', 'arent', 'attract', '...</td>\n",
       "      <td>['dont', 'know', 'girl', 'arent', 'attracted',...</td>\n",
       "      <td>['dont', 'know', 'girl', 'arent', 'attract', '...</td>\n",
       "      <td>YES</td>\n",
       "    </tr>\n",
       "    <tr>\n",
       "      <th>2833</th>\n",
       "      <td>NI2087</td>\n",
       "      <td>clients mission life try prevent tragedies eve...</td>\n",
       "      <td>clients mission life try prevent tragedies eve...</td>\n",
       "      <td>['clients', 'mission', 'life', 'try', 'prevent...</td>\n",
       "      <td>['clients', 'mission', 'life', 'try', 'prevent...</td>\n",
       "      <td>['client', 'mission', 'life', 'tri', 'prevent'...</td>\n",
       "      <td>['client', 'mission', 'life', 'try', 'prevent'...</td>\n",
       "      <td>['client', 'mission', 'life', 'tri', 'prevent'...</td>\n",
       "      <td>NO</td>\n",
       "    </tr>\n",
       "    <tr>\n",
       "      <th>2612</th>\n",
       "      <td>NI1124</td>\n",
       "      <td>shifman said family called police several week...</td>\n",
       "      <td>shifman said family called police several week...</td>\n",
       "      <td>['shifman', 'said', 'family', 'called', 'polic...</td>\n",
       "      <td>['shifman', 'said', 'family', 'called', 'polic...</td>\n",
       "      <td>['shifman', 'said', 'famili', 'call', 'polic',...</td>\n",
       "      <td>['shifman', 'said', 'family', 'called', 'polic...</td>\n",
       "      <td>['shifman', 'said', 'famili', 'call', 'polic',...</td>\n",
       "      <td>YES</td>\n",
       "    </tr>\n",
       "    <tr>\n",
       "      <th>4900</th>\n",
       "      <td>NI2924</td>\n",
       "      <td>without doubt 22yearold elliot rodger sick you...</td>\n",
       "      <td>without doubt 22yearold elliot rodger sick you...</td>\n",
       "      <td>['without', 'doubt', '22yearold', 'elliot', 'r...</td>\n",
       "      <td>['without', 'doubt', '22yearold', 'elliot', 'r...</td>\n",
       "      <td>['without', 'doubt', '22yearold', 'elliot', 'r...</td>\n",
       "      <td>['without', 'doubt', '22yearold', 'elliot', 'r...</td>\n",
       "      <td>['without', 'doubt', 'yearold', 'elliot', 'rod...</td>\n",
       "      <td>YES</td>\n",
       "    </tr>\n",
       "    <tr>\n",
       "      <th>1547</th>\n",
       "      <td>NI2940</td>\n",
       "      <td>22yearold student last friday killed six peopl...</td>\n",
       "      <td>22yearold student last friday killed six peopl...</td>\n",
       "      <td>['22yearold', 'student', 'last', 'friday', 'ki...</td>\n",
       "      <td>['22yearold', 'student', 'last', 'friday', 'ki...</td>\n",
       "      <td>['22yearold', 'student', 'last', 'friday', 'ki...</td>\n",
       "      <td>['22yearold', 'student', 'last', 'friday', 'ki...</td>\n",
       "      <td>['yearold', 'student', 'last', 'friday', 'kill...</td>\n",
       "      <td>NO</td>\n",
       "    </tr>\n",
       "  </tbody>\n",
       "</table>\n",
       "</div>"
      ],
      "text/plain": [
       "     StoryID                                            Excerpt  \\\n",
       "3661  NI2857  dont know girls arent attracted punish elliot ...   \n",
       "2833  NI2087  clients mission life try prevent tragedies eve...   \n",
       "2612  NI1124  shifman said family called police several week...   \n",
       "4900  NI2924  without doubt 22yearold elliot rodger sick you...   \n",
       "1547  NI2940  22yearold student last friday killed six peopl...   \n",
       "\n",
       "                                            Excerpt_pre  \\\n",
       "3661  dont know girls arent attracted punish elliot ...   \n",
       "2833  clients mission life try prevent tragedies eve...   \n",
       "2612  shifman said family called police several week...   \n",
       "4900  without doubt 22yearold elliot rodger sick you...   \n",
       "1547  22yearold student last friday killed six peopl...   \n",
       "\n",
       "                                      Excerpt_tokenized  \\\n",
       "3661  ['dont', 'know', 'girls', 'arent', 'attracted'...   \n",
       "2833  ['clients', 'mission', 'life', 'try', 'prevent...   \n",
       "2612  ['shifman', 'said', 'family', 'called', 'polic...   \n",
       "4900  ['without', 'doubt', '22yearold', 'elliot', 'r...   \n",
       "1547  ['22yearold', 'student', 'last', 'friday', 'ki...   \n",
       "\n",
       "                                        Excerpt_nonstop  \\\n",
       "3661  ['dont', 'know', 'girls', 'arent', 'attracted'...   \n",
       "2833  ['clients', 'mission', 'life', 'try', 'prevent...   \n",
       "2612  ['shifman', 'said', 'family', 'called', 'polic...   \n",
       "4900  ['without', 'doubt', '22yearold', 'elliot', 'r...   \n",
       "1547  ['22yearold', 'student', 'last', 'friday', 'ki...   \n",
       "\n",
       "                                        Excerpt_stemmed  \\\n",
       "3661  ['dont', 'know', 'girl', 'arent', 'attract', '...   \n",
       "2833  ['client', 'mission', 'life', 'tri', 'prevent'...   \n",
       "2612  ['shifman', 'said', 'famili', 'call', 'polic',...   \n",
       "4900  ['without', 'doubt', '22yearold', 'elliot', 'r...   \n",
       "1547  ['22yearold', 'student', 'last', 'friday', 'ki...   \n",
       "\n",
       "                                     Excerpt_lemmatized  \\\n",
       "3661  ['dont', 'know', 'girl', 'arent', 'attracted',...   \n",
       "2833  ['client', 'mission', 'life', 'try', 'prevent'...   \n",
       "2612  ['shifman', 'said', 'family', 'called', 'polic...   \n",
       "4900  ['without', 'doubt', '22yearold', 'elliot', 'r...   \n",
       "1547  ['22yearold', 'student', 'last', 'friday', 'ki...   \n",
       "\n",
       "                                          Excerpt_clean target  \n",
       "3661  ['dont', 'know', 'girl', 'arent', 'attract', '...    YES  \n",
       "2833  ['client', 'mission', 'life', 'tri', 'prevent'...     NO  \n",
       "2612  ['shifman', 'said', 'famili', 'call', 'polic',...    YES  \n",
       "4900  ['without', 'doubt', 'yearold', 'elliot', 'rod...    YES  \n",
       "1547  ['yearold', 'student', 'last', 'friday', 'kill...     NO  "
      ]
     },
     "execution_count": 44,
     "metadata": {},
     "output_type": "execute_result"
    }
   ],
   "source": [
    "data.head()"
   ]
  },
  {
   "cell_type": "markdown",
   "metadata": {},
   "source": [
    "## LABEL ENCODER "
   ]
  },
  {
   "cell_type": "code",
   "execution_count": 45,
   "metadata": {},
   "outputs": [
    {
     "data": {
      "text/plain": [
       "['YES', 'NO']"
      ]
     },
     "execution_count": 45,
     "metadata": {},
     "output_type": "execute_result"
    }
   ],
   "source": [
    "labels = df_train.target.unique().tolist()\n",
    "labels"
   ]
  },
  {
   "cell_type": "code",
   "execution_count": 46,
   "metadata": {},
   "outputs": [
    {
     "data": {
      "text/plain": [
       "LabelEncoder()"
      ]
     },
     "execution_count": 46,
     "metadata": {},
     "output_type": "execute_result"
    }
   ],
   "source": [
    "encoder = LabelEncoder()\n",
    "encoder.fit(df_train.target.tolist())"
   ]
  },
  {
   "cell_type": "code",
   "execution_count": 47,
   "metadata": {},
   "outputs": [],
   "source": [
    "y_train = encoder.transform(df_train.target.tolist())\n",
    "y_test = encoder.transform(df_test.target.tolist())"
   ]
  },
  {
   "cell_type": "code",
   "execution_count": 48,
   "metadata": {},
   "outputs": [],
   "source": [
    "y_train = y_train.reshape(-1,1)\n",
    "y_test = y_test.reshape(-1,1)"
   ]
  },
  {
   "cell_type": "code",
   "execution_count": 49,
   "metadata": {},
   "outputs": [
    {
     "name": "stdout",
     "output_type": "stream",
     "text": [
      "y_train (1260, 1)\n",
      "y_test (316, 1)\n"
     ]
    }
   ],
   "source": [
    "print(\"y_train\",y_train.shape)\n",
    "print(\"y_test\",y_test.shape)"
   ]
  },
  {
   "cell_type": "code",
   "execution_count": 50,
   "metadata": {},
   "outputs": [
    {
     "name": "stdout",
     "output_type": "stream",
     "text": [
      "x_train (1260, 300)\n",
      "y_train (1260, 1)\n",
      "\n",
      "x_test (316, 300)\n",
      "y_test (316, 1)\n"
     ]
    }
   ],
   "source": [
    "print(\"x_train\", x_train.shape)\n",
    "print(\"y_train\", y_train.shape)\n",
    "print()\n",
    "print(\"x_test\", x_test.shape)\n",
    "print(\"y_test\", y_test.shape)"
   ]
  },
  {
   "cell_type": "code",
   "execution_count": 51,
   "metadata": {},
   "outputs": [
    {
     "data": {
      "text/plain": [
       "array([[1],\n",
       "       [0],\n",
       "       [0],\n",
       "       [0],\n",
       "       [1],\n",
       "       [0],\n",
       "       [1],\n",
       "       [0],\n",
       "       [0],\n",
       "       [1]])"
      ]
     },
     "execution_count": 51,
     "metadata": {},
     "output_type": "execute_result"
    }
   ],
   "source": [
    "y_train[:10]"
   ]
  },
  {
   "cell_type": "markdown",
   "metadata": {},
   "source": [
    "## EMBEDDING LAYER"
   ]
  },
  {
   "cell_type": "code",
   "execution_count": 52,
   "metadata": {},
   "outputs": [
    {
     "name": "stdout",
     "output_type": "stream",
     "text": [
      "(6841, 300)\n"
     ]
    }
   ],
   "source": [
    "embedding_matrix = np.zeros((vocab_size, W2V_SIZE))\n",
    "for word, i in tokenizer.word_index.items():\n",
    "    if word in w2v_model.wv:\n",
    "        embedding_matrix[i] = w2v_model.wv[word]\n",
    "print(embedding_matrix.shape)"
   ]
  },
  {
   "cell_type": "code",
   "execution_count": 53,
   "metadata": {},
   "outputs": [],
   "source": [
    "embedding_layer = Embedding(vocab_size, W2V_SIZE, weights=[embedding_matrix], input_length=SEQUENCE_LENGTH, trainable=False)"
   ]
  },
  {
   "cell_type": "markdown",
   "metadata": {},
   "source": [
    "## BUILD MODEL"
   ]
  },
  {
   "cell_type": "code",
   "execution_count": 54,
   "metadata": {},
   "outputs": [
    {
     "name": "stdout",
     "output_type": "stream",
     "text": [
      "WARNING:tensorflow:From /home/spriyanshu723/anaconda3/envs/fastai-cpu/lib/python3.6/site-packages/tensorflow/python/framework/op_def_library.py:263: colocate_with (from tensorflow.python.framework.ops) is deprecated and will be removed in a future version.\n",
      "Instructions for updating:\n",
      "Colocations handled automatically by placer.\n"
     ]
    },
    {
     "name": "stderr",
     "output_type": "stream",
     "text": [
      "2019-04-06 17:49:27,960 : WARNING : From /home/spriyanshu723/anaconda3/envs/fastai-cpu/lib/python3.6/site-packages/tensorflow/python/framework/op_def_library.py:263: colocate_with (from tensorflow.python.framework.ops) is deprecated and will be removed in a future version.\n",
      "Instructions for updating:\n",
      "Colocations handled automatically by placer.\n"
     ]
    },
    {
     "name": "stdout",
     "output_type": "stream",
     "text": [
      "WARNING:tensorflow:From /home/spriyanshu723/anaconda3/envs/fastai-cpu/lib/python3.6/site-packages/keras/backend/tensorflow_backend.py:3445: calling dropout (from tensorflow.python.ops.nn_ops) with keep_prob is deprecated and will be removed in a future version.\n",
      "Instructions for updating:\n",
      "Please use `rate` instead of `keep_prob`. Rate should be set to `rate = 1 - keep_prob`.\n"
     ]
    },
    {
     "name": "stderr",
     "output_type": "stream",
     "text": [
      "2019-04-06 17:49:28,034 : WARNING : From /home/spriyanshu723/anaconda3/envs/fastai-cpu/lib/python3.6/site-packages/keras/backend/tensorflow_backend.py:3445: calling dropout (from tensorflow.python.ops.nn_ops) with keep_prob is deprecated and will be removed in a future version.\n",
      "Instructions for updating:\n",
      "Please use `rate` instead of `keep_prob`. Rate should be set to `rate = 1 - keep_prob`.\n"
     ]
    },
    {
     "name": "stdout",
     "output_type": "stream",
     "text": [
      "_________________________________________________________________\n",
      "Layer (type)                 Output Shape              Param #   \n",
      "=================================================================\n",
      "embedding_1 (Embedding)      (None, 300, 300)          2052300   \n",
      "_________________________________________________________________\n",
      "dropout_1 (Dropout)          (None, 300, 300)          0         \n",
      "_________________________________________________________________\n",
      "lstm_1 (LSTM)                (None, 100)               160400    \n",
      "_________________________________________________________________\n",
      "dense_1 (Dense)              (None, 1)                 101       \n",
      "=================================================================\n",
      "Total params: 2,212,801\n",
      "Trainable params: 160,501\n",
      "Non-trainable params: 2,052,300\n",
      "_________________________________________________________________\n"
     ]
    }
   ],
   "source": [
    "model = Sequential()\n",
    "model.add(embedding_layer)\n",
    "model.add(Dropout(0.5))\n",
    "model.add(LSTM(100, dropout=0.2, recurrent_dropout=0.2))\n",
    "model.add(Dense(1, activation='sigmoid'))\n",
    "\n",
    "model.summary()"
   ]
  },
  {
   "cell_type": "markdown",
   "metadata": {},
   "source": [
    "## COMPILE MODEL "
   ]
  },
  {
   "cell_type": "code",
   "execution_count": 55,
   "metadata": {},
   "outputs": [],
   "source": [
    "model.compile(loss='binary_crossentropy',\n",
    "              optimizer=\"adam\",\n",
    "              metrics=['accuracy'])"
   ]
  },
  {
   "cell_type": "markdown",
   "metadata": {},
   "source": [
    "## CALLBACKS "
   ]
  },
  {
   "cell_type": "code",
   "execution_count": 56,
   "metadata": {},
   "outputs": [],
   "source": [
    "callbacks = [ ReduceLROnPlateau(monitor='val_loss', patience=5, cooldown=0),\n",
    "              EarlyStopping(monitor='val_acc', min_delta=1e-4, patience=5)]"
   ]
  },
  {
   "cell_type": "markdown",
   "metadata": {},
   "source": [
    "## TRAIN "
   ]
  },
  {
   "cell_type": "code",
   "execution_count": 57,
   "metadata": {},
   "outputs": [
    {
     "name": "stdout",
     "output_type": "stream",
     "text": [
      "WARNING:tensorflow:From /home/spriyanshu723/anaconda3/envs/fastai-cpu/lib/python3.6/site-packages/tensorflow/python/ops/math_ops.py:3066: to_int32 (from tensorflow.python.ops.math_ops) is deprecated and will be removed in a future version.\n",
      "Instructions for updating:\n",
      "Use tf.cast instead.\n"
     ]
    },
    {
     "name": "stderr",
     "output_type": "stream",
     "text": [
      "2019-04-06 17:50:22,877 : WARNING : From /home/spriyanshu723/anaconda3/envs/fastai-cpu/lib/python3.6/site-packages/tensorflow/python/ops/math_ops.py:3066: to_int32 (from tensorflow.python.ops.math_ops) is deprecated and will be removed in a future version.\n",
      "Instructions for updating:\n",
      "Use tf.cast instead.\n"
     ]
    },
    {
     "name": "stdout",
     "output_type": "stream",
     "text": [
      "Train on 1134 samples, validate on 126 samples\n",
      "Epoch 1/8\n",
      "1134/1134 [==============================] - 7s 6ms/step - loss: 0.6921 - acc: 0.5423 - val_loss: 0.5860 - val_acc: 0.7381\n",
      "Epoch 2/8\n",
      "1134/1134 [==============================] - 5s 5ms/step - loss: 0.6245 - acc: 0.6922 - val_loss: 0.5332 - val_acc: 0.7222\n",
      "Epoch 3/8\n",
      "1134/1134 [==============================] - 5s 5ms/step - loss: 0.5742 - acc: 0.7240 - val_loss: 0.4979 - val_acc: 0.7540\n",
      "Epoch 4/8\n",
      "1134/1134 [==============================] - 5s 5ms/step - loss: 0.5479 - acc: 0.7513 - val_loss: 0.4727 - val_acc: 0.7540\n",
      "Epoch 5/8\n",
      "1134/1134 [==============================] - 5s 5ms/step - loss: 0.5172 - acc: 0.7566 - val_loss: 0.4492 - val_acc: 0.7778\n",
      "Epoch 6/8\n",
      "1134/1134 [==============================] - 5s 5ms/step - loss: 0.4954 - acc: 0.7698 - val_loss: 0.4205 - val_acc: 0.7937\n",
      "Epoch 7/8\n",
      "1134/1134 [==============================] - 5s 4ms/step - loss: 0.4626 - acc: 0.7963 - val_loss: 0.3858 - val_acc: 0.8095\n",
      "Epoch 8/8\n",
      "1134/1134 [==============================] - 5s 5ms/step - loss: 0.4354 - acc: 0.8175 - val_loss: 0.3573 - val_acc: 0.8333\n",
      "CPU times: user 3min 30s, sys: 50.3 s, total: 4min 20s\n",
      "Wall time: 44.8 s\n"
     ]
    }
   ],
   "source": [
    "%%time\n",
    "history = model.fit(x_train, y_train,\n",
    "                    batch_size=BATCH_SIZE,\n",
    "                    epochs=EPOCHS,\n",
    "                    validation_split=0.1,\n",
    "                    verbose=1,\n",
    "                    callbacks=callbacks)"
   ]
  },
  {
   "cell_type": "markdown",
   "metadata": {},
   "source": [
    "## EVALUATE "
   ]
  },
  {
   "cell_type": "code",
   "execution_count": 58,
   "metadata": {},
   "outputs": [
    {
     "name": "stdout",
     "output_type": "stream",
     "text": [
      "316/316 [==============================] - 1s 2ms/step\n",
      "\n",
      "ACCURACY: 0.7848101258277893\n",
      "LOSS: 0.4619891047477722\n",
      "CPU times: user 2.46 s, sys: 388 ms, total: 2.84 s\n",
      "Wall time: 519 ms\n"
     ]
    }
   ],
   "source": [
    "%%time\n",
    "score = model.evaluate(x_test, y_test, batch_size=BATCH_SIZE)\n",
    "print()\n",
    "print(\"ACCURACY:\",score[1])\n",
    "print(\"LOSS:\",score[0])"
   ]
  },
  {
   "cell_type": "code",
   "execution_count": 59,
   "metadata": {},
   "outputs": [
    {
     "data": {
      "image/png": "[encoded data removed]",
      "text/plain": [
       "<Figure size 432x288 with 1 Axes>"
      ]
     },
     "metadata": {
      "needs_background": "light"
     },
     "output_type": "display_data"
    },
    {
     "data": {
      "image/png": "[encoded data removed]",
      "text/plain": [
       "<Figure size 432x288 with 1 Axes>"
      ]
     },
     "metadata": {
      "needs_background": "light"
     },
     "output_type": "display_data"
    }
   ],
   "source": [
    "acc = history.history['acc']\n",
    "val_acc = history.history['val_acc']\n",
    "loss = history.history['loss']\n",
    "val_loss = history.history['val_loss']\n",
    " \n",
    "epochs = range(len(acc))\n",
    " \n",
    "plt.plot(epochs, acc, 'b', label='Training acc')\n",
    "plt.plot(epochs, val_acc, 'r', label='Validation acc')\n",
    "plt.title('Training and validation accuracy')\n",
    "plt.legend()\n",
    " \n",
    "plt.figure()\n",
    " \n",
    "plt.plot(epochs, loss, 'b', label='Training loss')\n",
    "plt.plot(epochs, val_loss, 'r', label='Validation loss')\n",
    "plt.title('Training and validation loss')\n",
    "plt.legend()\n",
    " \n",
    "plt.show()"
   ]
  },
  {
   "cell_type": "markdown",
   "metadata": {},
   "source": [
    "## PREDICT "
   ]
  },
  {
   "cell_type": "code",
   "execution_count": 60,
   "metadata": {},
   "outputs": [],
   "source": [
    "def decode_hate(score):\n",
    "    if score < 0.51:\n",
    "        return \"YES\"\n",
    "    else:\n",
    "        return \"NO\""
   ]
  },
  {
   "cell_type": "code",
   "execution_count": 61,
   "metadata": {},
   "outputs": [],
   "source": [
    "def predict(text):\n",
    "    start_at = time.time()\n",
    "    # Tokenize text\n",
    "    x_test = pad_sequences(tokenizer.texts_to_sequences([text]), maxlen=SEQUENCE_LENGTH)\n",
    "    # Predict\n",
    "    score = model.predict([x_test])[0]\n",
    "    # Decode sentiment\n",
    "    label = decode_hate(score)\n",
    "\n",
    "    return {\"label\": label, \"score\": float(score),\n",
    "       \"elapsed_time\": time.time()-start_at}  "
   ]
  },
  {
   "cell_type": "code",
   "execution_count": 62,
   "metadata": {},
   "outputs": [
    {
     "data": {
      "text/plain": [
       "{'label': 'YES',\n",
       " 'score': 0.11762671172618866,\n",
       " 'elapsed_time': 0.23705434799194336}"
      ]
     },
     "execution_count": 62,
     "metadata": {},
     "output_type": "execute_result"
    }
   ],
   "source": [
    "predict(\"President Killing shock the country\")"
   ]
  }
 ],
 "metadata": {
  "kernelspec": {
   "display_name": "Python 3",
   "language": "python",
   "name": "python3"
  },
  "language_info": {
   "codemirror_mode": {
    "name": "ipython",
    "version": 3
   },
   "file_extension": ".py",
   "mimetype": "text/x-python",
   "name": "python",
   "nbconvert_exporter": "python",
   "pygments_lexer": "ipython3",
   "version": "3.6.8"
  }
 },
 "nbformat": 4,
 "nbformat_minor": 2
}
