{
 "cells": [
  {
   "cell_type": "code",
   "execution_count": 1,
   "metadata": {},
   "outputs": [],
   "source": [
    "import pandas as pd\n",
    "import numpy as np\n",
    "from sklearn.utils import shuffle"
   ]
  },
  {
   "cell_type": "code",
   "execution_count": 2,
   "metadata": {},
   "outputs": [
    {
     "data": {
      "text/html": [
       "<div>\n",
       "<style scoped>\n",
       "    .dataframe tbody tr th:only-of-type {\n",
       "        vertical-align: middle;\n",
       "    }\n",
       "\n",
       "    .dataframe tbody tr th {\n",
       "        vertical-align: top;\n",
       "    }\n",
       "\n",
       "    .dataframe thead th {\n",
       "        text-align: right;\n",
       "    }\n",
       "</style>\n",
       "<table border=\"1\" class=\"dataframe\">\n",
       "  <thead>\n",
       "    <tr style=\"text-align: right;\">\n",
       "      <th></th>\n",
       "      <th>Unnamed: 0</th>\n",
       "      <th>StoryID</th>\n",
       "      <th>Excerpt</th>\n",
       "      <th>CodesApplied_Combined</th>\n",
       "      <th>ACCOUNT</th>\n",
       "      <th>ACCOUNT_Cultural</th>\n",
       "      <th>ACCOUNT_Individual</th>\n",
       "      <th>ACCOUNT_Other</th>\n",
       "      <th>COMMUNITYRECOVERY</th>\n",
       "      <th>EVENT</th>\n",
       "      <th>...</th>\n",
       "      <th>TRAUMA_Societal</th>\n",
       "      <th>VICTIMS</th>\n",
       "      <th>word_count</th>\n",
       "      <th>char_count</th>\n",
       "      <th>Excerpt_pre</th>\n",
       "      <th>Excerpt_tokenized</th>\n",
       "      <th>Excerpt_nonstop</th>\n",
       "      <th>Excerpt_stemmed</th>\n",
       "      <th>Excerpt_lemmatized</th>\n",
       "      <th>Excerpt_clean</th>\n",
       "    </tr>\n",
       "  </thead>\n",
       "  <tbody>\n",
       "    <tr>\n",
       "      <th>0</th>\n",
       "      <td>7992</td>\n",
       "      <td>NI3079</td>\n",
       "      <td>Elliot Rodger Wangs roommate stabbed Wang and ...</td>\n",
       "      <td>EVENT</td>\n",
       "      <td>0</td>\n",
       "      <td>0</td>\n",
       "      <td>0</td>\n",
       "      <td>0</td>\n",
       "      <td>99</td>\n",
       "      <td>1</td>\n",
       "      <td>...</td>\n",
       "      <td>99</td>\n",
       "      <td>0</td>\n",
       "      <td>34</td>\n",
       "      <td>215.0</td>\n",
       "      <td>elliot rodger wangs roommate stabbed wang two ...</td>\n",
       "      <td>['elliot', 'rodger', 'wangs', 'roommate', 'sta...</td>\n",
       "      <td>['elliot', 'rodger', 'wangs', 'roommate', 'sta...</td>\n",
       "      <td>['elliot', 'rodger', 'wang', 'roommat', 'stab'...</td>\n",
       "      <td>['elliot', 'rodger', 'wangs', 'roommate', 'sta...</td>\n",
       "      <td>['elliot', 'rodger', 'wang', 'roommat', 'stab'...</td>\n",
       "    </tr>\n",
       "    <tr>\n",
       "      <th>1</th>\n",
       "      <td>4686</td>\n",
       "      <td>NI2689</td>\n",
       "      <td>Because the tragedy unfolded at the start of a...</td>\n",
       "      <td>RESOURCES</td>\n",
       "      <td>0</td>\n",
       "      <td>0</td>\n",
       "      <td>0</td>\n",
       "      <td>0</td>\n",
       "      <td>99</td>\n",
       "      <td>0</td>\n",
       "      <td>...</td>\n",
       "      <td>99</td>\n",
       "      <td>0</td>\n",
       "      <td>32</td>\n",
       "      <td>228.0</td>\n",
       "      <td>tragedy unfolded start holiday weekend school ...</td>\n",
       "      <td>['tragedy', 'unfolded', 'start', 'holiday', 'w...</td>\n",
       "      <td>['tragedy', 'unfolded', 'start', 'holiday', 'w...</td>\n",
       "      <td>['tragedi', 'unfold', 'start', 'holiday', 'wee...</td>\n",
       "      <td>['tragedy', 'unfolded', 'start', 'holiday', 'w...</td>\n",
       "      <td>['tragedi', 'unfold', 'start', 'holiday', 'wee...</td>\n",
       "    </tr>\n",
       "    <tr>\n",
       "      <th>2</th>\n",
       "      <td>6130</td>\n",
       "      <td>NI2400</td>\n",
       "      <td>Gunrelated restraining orders Also passed in r...</td>\n",
       "      <td>POLICY, POLICY- Guns, POLICY- Mental health</td>\n",
       "      <td>0</td>\n",
       "      <td>0</td>\n",
       "      <td>0</td>\n",
       "      <td>0</td>\n",
       "      <td>99</td>\n",
       "      <td>0</td>\n",
       "      <td>...</td>\n",
       "      <td>99</td>\n",
       "      <td>0</td>\n",
       "      <td>122</td>\n",
       "      <td>734.0</td>\n",
       "      <td>gunrelated restraining orders also passed resp...</td>\n",
       "      <td>['gunrelated', 'restraining', 'orders', 'also'...</td>\n",
       "      <td>['gunrelated', 'restraining', 'orders', 'also'...</td>\n",
       "      <td>['gunrel', 'restrain', 'order', 'also', 'pass'...</td>\n",
       "      <td>['gunrelated', 'restraining', 'order', 'also',...</td>\n",
       "      <td>['gunrel', 'restrain', 'order', 'also', 'pass'...</td>\n",
       "    </tr>\n",
       "    <tr>\n",
       "      <th>3</th>\n",
       "      <td>5876</td>\n",
       "      <td>NI1393</td>\n",
       "      <td>Linder said she will also remember Weiss for h...</td>\n",
       "      <td>VICTIMS, GRIEF/LOSS</td>\n",
       "      <td>0</td>\n",
       "      <td>0</td>\n",
       "      <td>0</td>\n",
       "      <td>0</td>\n",
       "      <td>99</td>\n",
       "      <td>0</td>\n",
       "      <td>...</td>\n",
       "      <td>99</td>\n",
       "      <td>1</td>\n",
       "      <td>100</td>\n",
       "      <td>499.0</td>\n",
       "      <td>linder said also remember weiss epic shot pool...</td>\n",
       "      <td>['linder', 'said', 'also', 'remember', 'weiss'...</td>\n",
       "      <td>['linder', 'said', 'also', 'remember', 'weiss'...</td>\n",
       "      <td>['linder', 'said', 'also', 'rememb', 'weiss', ...</td>\n",
       "      <td>['linder', 'said', 'also', 'remember', 'wei', ...</td>\n",
       "      <td>['linder', 'said', 'also', 'rememb', 'weiss', ...</td>\n",
       "    </tr>\n",
       "    <tr>\n",
       "      <th>4</th>\n",
       "      <td>4126</td>\n",
       "      <td>NI3259</td>\n",
       "      <td>I mean I know how this goes We all do Werent y...</td>\n",
       "      <td>ACCOUNTABILITY, ACCOUNT- Culture/societal risk...</td>\n",
       "      <td>1</td>\n",
       "      <td>1</td>\n",
       "      <td>0</td>\n",
       "      <td>0</td>\n",
       "      <td>99</td>\n",
       "      <td>0</td>\n",
       "      <td>...</td>\n",
       "      <td>99</td>\n",
       "      <td>0</td>\n",
       "      <td>85</td>\n",
       "      <td>425.0</td>\n",
       "      <td>mean know goes werent sort expecting father on...</td>\n",
       "      <td>['mean', 'know', 'goes', 'werent', 'sort', 'ex...</td>\n",
       "      <td>['mean', 'know', 'goes', 'werent', 'sort', 'ex...</td>\n",
       "      <td>['mean', 'know', 'goe', 'werent', 'sort', 'exp...</td>\n",
       "      <td>['mean', 'know', 'go', 'werent', 'sort', 'expe...</td>\n",
       "      <td>['mean', 'know', 'goe', 'werent', 'sort', 'exp...</td>\n",
       "    </tr>\n",
       "  </tbody>\n",
       "</table>\n",
       "<p>5 rows × 62 columns</p>\n",
       "</div>"
      ],
      "text/plain": [
       "   Unnamed: 0 StoryID                                            Excerpt  \\\n",
       "0        7992  NI3079  Elliot Rodger Wangs roommate stabbed Wang and ...   \n",
       "1        4686  NI2689  Because the tragedy unfolded at the start of a...   \n",
       "2        6130  NI2400  Gunrelated restraining orders Also passed in r...   \n",
       "3        5876  NI1393  Linder said she will also remember Weiss for h...   \n",
       "4        4126  NI3259  I mean I know how this goes We all do Werent y...   \n",
       "\n",
       "                               CodesApplied_Combined  ACCOUNT  \\\n",
       "0                                              EVENT        0   \n",
       "1                                          RESOURCES        0   \n",
       "2        POLICY, POLICY- Guns, POLICY- Mental health        0   \n",
       "3                                VICTIMS, GRIEF/LOSS        0   \n",
       "4  ACCOUNTABILITY, ACCOUNT- Culture/societal risk...        1   \n",
       "\n",
       "   ACCOUNT_Cultural  ACCOUNT_Individual  ACCOUNT_Other  COMMUNITYRECOVERY  \\\n",
       "0                 0                   0              0                 99   \n",
       "1                 0                   0              0                 99   \n",
       "2                 0                   0              0                 99   \n",
       "3                 0                   0              0                 99   \n",
       "4                 1                   0              0                 99   \n",
       "\n",
       "   EVENT  ...  TRAUMA_Societal  VICTIMS  word_count  char_count  \\\n",
       "0      1  ...               99        0          34       215.0   \n",
       "1      0  ...               99        0          32       228.0   \n",
       "2      0  ...               99        0         122       734.0   \n",
       "3      0  ...               99        1         100       499.0   \n",
       "4      0  ...               99        0          85       425.0   \n",
       "\n",
       "                                         Excerpt_pre  \\\n",
       "0  elliot rodger wangs roommate stabbed wang two ...   \n",
       "1  tragedy unfolded start holiday weekend school ...   \n",
       "2  gunrelated restraining orders also passed resp...   \n",
       "3  linder said also remember weiss epic shot pool...   \n",
       "4  mean know goes werent sort expecting father on...   \n",
       "\n",
       "                                   Excerpt_tokenized  \\\n",
       "0  ['elliot', 'rodger', 'wangs', 'roommate', 'sta...   \n",
       "1  ['tragedy', 'unfolded', 'start', 'holiday', 'w...   \n",
       "2  ['gunrelated', 'restraining', 'orders', 'also'...   \n",
       "3  ['linder', 'said', 'also', 'remember', 'weiss'...   \n",
       "4  ['mean', 'know', 'goes', 'werent', 'sort', 'ex...   \n",
       "\n",
       "                                     Excerpt_nonstop  \\\n",
       "0  ['elliot', 'rodger', 'wangs', 'roommate', 'sta...   \n",
       "1  ['tragedy', 'unfolded', 'start', 'holiday', 'w...   \n",
       "2  ['gunrelated', 'restraining', 'orders', 'also'...   \n",
       "3  ['linder', 'said', 'also', 'remember', 'weiss'...   \n",
       "4  ['mean', 'know', 'goes', 'werent', 'sort', 'ex...   \n",
       "\n",
       "                                     Excerpt_stemmed  \\\n",
       "0  ['elliot', 'rodger', 'wang', 'roommat', 'stab'...   \n",
       "1  ['tragedi', 'unfold', 'start', 'holiday', 'wee...   \n",
       "2  ['gunrel', 'restrain', 'order', 'also', 'pass'...   \n",
       "3  ['linder', 'said', 'also', 'rememb', 'weiss', ...   \n",
       "4  ['mean', 'know', 'goe', 'werent', 'sort', 'exp...   \n",
       "\n",
       "                                  Excerpt_lemmatized  \\\n",
       "0  ['elliot', 'rodger', 'wangs', 'roommate', 'sta...   \n",
       "1  ['tragedy', 'unfolded', 'start', 'holiday', 'w...   \n",
       "2  ['gunrelated', 'restraining', 'order', 'also',...   \n",
       "3  ['linder', 'said', 'also', 'remember', 'wei', ...   \n",
       "4  ['mean', 'know', 'go', 'werent', 'sort', 'expe...   \n",
       "\n",
       "                                       Excerpt_clean  \n",
       "0  ['elliot', 'rodger', 'wang', 'roommat', 'stab'...  \n",
       "1  ['tragedi', 'unfold', 'start', 'holiday', 'wee...  \n",
       "2  ['gunrel', 'restrain', 'order', 'also', 'pass'...  \n",
       "3  ['linder', 'said', 'also', 'rememb', 'weiss', ...  \n",
       "4  ['mean', 'know', 'goe', 'werent', 'sort', 'exp...  \n",
       "\n",
       "[5 rows x 62 columns]"
      ]
     },
     "execution_count": 2,
     "metadata": {},
     "output_type": "execute_result"
    }
   ],
   "source": [
    "data = pd.read_csv('redhen_preprocessed.csv')\n",
    "data.head()"
   ]
  },
  {
   "cell_type": "code",
   "execution_count": 3,
   "metadata": {},
   "outputs": [
    {
     "data": {
      "text/plain": [
       "(8131, 62)"
      ]
     },
     "execution_count": 3,
     "metadata": {},
     "output_type": "execute_result"
    }
   ],
   "source": [
    "data.shape"
   ]
  },
  {
   "cell_type": "code",
   "execution_count": 4,
   "metadata": {},
   "outputs": [],
   "source": [
    "#Culture, indi, other\n",
    "#0, 0, 0 - 0\n",
    "#0, 0, 1 - 1\n",
    "#0, 1, 0 - 2\n",
    "#0, 1, 1 - 3\n",
    "#1, 0, 0 - 4\n",
    "#1, 0, 1 - 5\n",
    "#1, 1, 0 - 6\n",
    "#1, 1, 1 - 7"
   ]
  },
  {
   "cell_type": "code",
   "execution_count": 9,
   "metadata": {},
   "outputs": [],
   "source": [
    "data['target'] = data['ACCOUNT_Cultural']*1 + data['ACCOUNT_Individual']*4 + data['ACCOUNT_Other']*8"
   ]
  },
  {
   "cell_type": "code",
   "execution_count": 10,
   "metadata": {},
   "outputs": [
    {
     "data": {
      "text/plain": [
       "array([ 0,  1,  8,  5,  4, 12])"
      ]
     },
     "execution_count": 10,
     "metadata": {},
     "output_type": "execute_result"
    }
   ],
   "source": [
    "data.target.unique()"
   ]
  },
  {
   "cell_type": "code",
   "execution_count": 11,
   "metadata": {},
   "outputs": [
    {
     "data": {
      "text/plain": [
       "(8131, 63)"
      ]
     },
     "execution_count": 11,
     "metadata": {},
     "output_type": "execute_result"
    }
   ],
   "source": [
    "data.shape"
   ]
  },
  {
   "cell_type": "code",
   "execution_count": 14,
   "metadata": {},
   "outputs": [
    {
     "data": {
      "text/plain": [
       "Index(['Unnamed: 0', 'StoryID', 'Excerpt', 'CodesApplied_Combined', 'ACCOUNT',\n",
       "       'ACCOUNT_Cultural', 'ACCOUNT_Individual', 'ACCOUNT_Other',\n",
       "       'COMMUNITYRECOVERY', 'EVENT', 'GRIEF', 'GRIEF_Individual',\n",
       "       'GRIEF_Community', 'GRIEF_Societal', 'HERO', 'INVESTIGATION', 'JOURNEY',\n",
       "       'JOURNEY_Mental', 'JOURNEY_Physical', 'LEGAL', 'MEDIA', 'MISCELLANEOUS',\n",
       "       'MOURNING', 'MOURNING_Individual', 'MOURNING_Community',\n",
       "       'MOURNING_Societal', 'PERPETRATOR', 'PHOTO', 'POLICY', 'POLICY_Guns',\n",
       "       'POLICY_InfoSharing', 'POLICY_MentalHealth', 'POLICY_Other',\n",
       "       'POLICY_VictimAdv', 'POLICY_OtherAdv', 'POLICY_Practice',\n",
       "       'PRIVATESECTOR', 'RACECULTURE', 'RESOURCES', 'SAFETY',\n",
       "       'SAFETY_Community', 'SAFETY_Individual', 'SAFETY_SchoolOrg',\n",
       "       'SAFETY_Societal', 'SOCIALSUPPORT', 'THREAT', 'THREAT_Assessment',\n",
       "       'TRAUMA', 'TRAUMA_Physical', 'TRAUMA_Psychological',\n",
       "       'TRAUMA_Individual', 'TRAUMA_Community', 'TRAUMA_Societal', 'VICTIMS',\n",
       "       'word_count', 'char_count', 'Excerpt_pre', 'Excerpt_tokenized',\n",
       "       'Excerpt_nonstop', 'Excerpt_stemmed', 'Excerpt_lemmatized',\n",
       "       'Excerpt_clean', 'target'],\n",
       "      dtype='object')"
      ]
     },
     "execution_count": 14,
     "metadata": {},
     "output_type": "execute_result"
    }
   ],
   "source": [
    "data.columns"
   ]
  },
  {
   "cell_type": "code",
   "execution_count": 15,
   "metadata": {},
   "outputs": [],
   "source": [
    "data = data[['StoryID', 'Excerpt', 'Excerpt_pre', 'Excerpt_tokenized',\n",
    "       'Excerpt_nonstop', 'Excerpt_stemmed', 'Excerpt_lemmatized',\n",
    "       'Excerpt_clean', 'target']]"
   ]
  },
  {
   "cell_type": "code",
   "execution_count": 16,
   "metadata": {},
   "outputs": [
    {
     "data": {
      "text/plain": [
       "(8131, 9)"
      ]
     },
     "execution_count": 16,
     "metadata": {},
     "output_type": "execute_result"
    }
   ],
   "source": [
    "data.shape"
   ]
  },
  {
   "cell_type": "code",
   "execution_count": 19,
   "metadata": {},
   "outputs": [
    {
     "name": "stderr",
     "output_type": "stream",
     "text": [
      "/home/spriyanshu723/anaconda3/envs/fastai-cpu/lib/python3.6/site-packages/ipykernel_launcher.py:2: SettingWithCopyWarning: \n",
      "A value is trying to be set on a copy of a slice from a DataFrame.\n",
      "Try using .loc[row_indexer,col_indexer] = value instead\n",
      "\n",
      "See the caveats in the documentation: http://pandas.pydata.org/pandas-docs/stable/indexing.html#indexing-view-versus-copy\n",
      "  \n"
     ]
    },
    {
     "data": {
      "text/html": [
       "<div>\n",
       "<style scoped>\n",
       "    .dataframe tbody tr th:only-of-type {\n",
       "        vertical-align: middle;\n",
       "    }\n",
       "\n",
       "    .dataframe tbody tr th {\n",
       "        vertical-align: top;\n",
       "    }\n",
       "\n",
       "    .dataframe thead th {\n",
       "        text-align: right;\n",
       "    }\n",
       "</style>\n",
       "<table border=\"1\" class=\"dataframe\">\n",
       "  <thead>\n",
       "    <tr style=\"text-align: right;\">\n",
       "      <th></th>\n",
       "      <th>StoryID</th>\n",
       "      <th>Excerpt</th>\n",
       "      <th>Excerpt_pre</th>\n",
       "      <th>Excerpt_tokenized</th>\n",
       "      <th>Excerpt_nonstop</th>\n",
       "      <th>Excerpt_stemmed</th>\n",
       "      <th>Excerpt_lemmatized</th>\n",
       "      <th>Excerpt_clean</th>\n",
       "      <th>target</th>\n",
       "    </tr>\n",
       "  </thead>\n",
       "  <tbody>\n",
       "    <tr>\n",
       "      <th>0</th>\n",
       "      <td>NI3079</td>\n",
       "      <td>Elliot Rodger Wangs roommate stabbed Wang and ...</td>\n",
       "      <td>elliot rodger wangs roommate stabbed wang two ...</td>\n",
       "      <td>['elliot', 'rodger', 'wangs', 'roommate', 'sta...</td>\n",
       "      <td>['elliot', 'rodger', 'wangs', 'roommate', 'sta...</td>\n",
       "      <td>['elliot', 'rodger', 'wang', 'roommat', 'stab'...</td>\n",
       "      <td>['elliot', 'rodger', 'wangs', 'roommate', 'sta...</td>\n",
       "      <td>['elliot', 'rodger', 'wang', 'roommat', 'stab'...</td>\n",
       "      <td>Not Accountable</td>\n",
       "    </tr>\n",
       "    <tr>\n",
       "      <th>1</th>\n",
       "      <td>NI2689</td>\n",
       "      <td>Because the tragedy unfolded at the start of a...</td>\n",
       "      <td>tragedy unfolded start holiday weekend school ...</td>\n",
       "      <td>['tragedy', 'unfolded', 'start', 'holiday', 'w...</td>\n",
       "      <td>['tragedy', 'unfolded', 'start', 'holiday', 'w...</td>\n",
       "      <td>['tragedi', 'unfold', 'start', 'holiday', 'wee...</td>\n",
       "      <td>['tragedy', 'unfolded', 'start', 'holiday', 'w...</td>\n",
       "      <td>['tragedi', 'unfold', 'start', 'holiday', 'wee...</td>\n",
       "      <td>Not Accountable</td>\n",
       "    </tr>\n",
       "    <tr>\n",
       "      <th>2</th>\n",
       "      <td>NI2400</td>\n",
       "      <td>Gunrelated restraining orders Also passed in r...</td>\n",
       "      <td>gunrelated restraining orders also passed resp...</td>\n",
       "      <td>['gunrelated', 'restraining', 'orders', 'also'...</td>\n",
       "      <td>['gunrelated', 'restraining', 'orders', 'also'...</td>\n",
       "      <td>['gunrel', 'restrain', 'order', 'also', 'pass'...</td>\n",
       "      <td>['gunrelated', 'restraining', 'order', 'also',...</td>\n",
       "      <td>['gunrel', 'restrain', 'order', 'also', 'pass'...</td>\n",
       "      <td>Not Accountable</td>\n",
       "    </tr>\n",
       "    <tr>\n",
       "      <th>3</th>\n",
       "      <td>NI1393</td>\n",
       "      <td>Linder said she will also remember Weiss for h...</td>\n",
       "      <td>linder said also remember weiss epic shot pool...</td>\n",
       "      <td>['linder', 'said', 'also', 'remember', 'weiss'...</td>\n",
       "      <td>['linder', 'said', 'also', 'remember', 'weiss'...</td>\n",
       "      <td>['linder', 'said', 'also', 'rememb', 'weiss', ...</td>\n",
       "      <td>['linder', 'said', 'also', 'remember', 'wei', ...</td>\n",
       "      <td>['linder', 'said', 'also', 'rememb', 'weiss', ...</td>\n",
       "      <td>Not Accountable</td>\n",
       "    </tr>\n",
       "    <tr>\n",
       "      <th>5</th>\n",
       "      <td>NI1186</td>\n",
       "      <td>But three days after Cheng Yuan James Hong Ge...</td>\n",
       "      <td>three days cheng yuan james hong george chen w...</td>\n",
       "      <td>['three', 'days', 'cheng', 'yuan', 'james', 'h...</td>\n",
       "      <td>['three', 'days', 'cheng', 'yuan', 'james', 'h...</td>\n",
       "      <td>['three', 'day', 'cheng', 'yuan', 'jame', 'hon...</td>\n",
       "      <td>['three', 'day', 'cheng', 'yuan', 'james', 'ho...</td>\n",
       "      <td>['three', 'day', 'cheng', 'yuan', 'jame', 'hon...</td>\n",
       "      <td>Not Accountable</td>\n",
       "    </tr>\n",
       "  </tbody>\n",
       "</table>\n",
       "</div>"
      ],
      "text/plain": [
       "  StoryID                                            Excerpt  \\\n",
       "0  NI3079  Elliot Rodger Wangs roommate stabbed Wang and ...   \n",
       "1  NI2689  Because the tragedy unfolded at the start of a...   \n",
       "2  NI2400  Gunrelated restraining orders Also passed in r...   \n",
       "3  NI1393  Linder said she will also remember Weiss for h...   \n",
       "5  NI1186   But three days after Cheng Yuan James Hong Ge...   \n",
       "\n",
       "                                         Excerpt_pre  \\\n",
       "0  elliot rodger wangs roommate stabbed wang two ...   \n",
       "1  tragedy unfolded start holiday weekend school ...   \n",
       "2  gunrelated restraining orders also passed resp...   \n",
       "3  linder said also remember weiss epic shot pool...   \n",
       "5  three days cheng yuan james hong george chen w...   \n",
       "\n",
       "                                   Excerpt_tokenized  \\\n",
       "0  ['elliot', 'rodger', 'wangs', 'roommate', 'sta...   \n",
       "1  ['tragedy', 'unfolded', 'start', 'holiday', 'w...   \n",
       "2  ['gunrelated', 'restraining', 'orders', 'also'...   \n",
       "3  ['linder', 'said', 'also', 'remember', 'weiss'...   \n",
       "5  ['three', 'days', 'cheng', 'yuan', 'james', 'h...   \n",
       "\n",
       "                                     Excerpt_nonstop  \\\n",
       "0  ['elliot', 'rodger', 'wangs', 'roommate', 'sta...   \n",
       "1  ['tragedy', 'unfolded', 'start', 'holiday', 'w...   \n",
       "2  ['gunrelated', 'restraining', 'orders', 'also'...   \n",
       "3  ['linder', 'said', 'also', 'remember', 'weiss'...   \n",
       "5  ['three', 'days', 'cheng', 'yuan', 'james', 'h...   \n",
       "\n",
       "                                     Excerpt_stemmed  \\\n",
       "0  ['elliot', 'rodger', 'wang', 'roommat', 'stab'...   \n",
       "1  ['tragedi', 'unfold', 'start', 'holiday', 'wee...   \n",
       "2  ['gunrel', 'restrain', 'order', 'also', 'pass'...   \n",
       "3  ['linder', 'said', 'also', 'rememb', 'weiss', ...   \n",
       "5  ['three', 'day', 'cheng', 'yuan', 'jame', 'hon...   \n",
       "\n",
       "                                  Excerpt_lemmatized  \\\n",
       "0  ['elliot', 'rodger', 'wangs', 'roommate', 'sta...   \n",
       "1  ['tragedy', 'unfolded', 'start', 'holiday', 'w...   \n",
       "2  ['gunrelated', 'restraining', 'order', 'also',...   \n",
       "3  ['linder', 'said', 'also', 'remember', 'wei', ...   \n",
       "5  ['three', 'day', 'cheng', 'yuan', 'james', 'ho...   \n",
       "\n",
       "                                       Excerpt_clean           target  \n",
       "0  ['elliot', 'rodger', 'wang', 'roommat', 'stab'...  Not Accountable  \n",
       "1  ['tragedi', 'unfold', 'start', 'holiday', 'wee...  Not Accountable  \n",
       "2  ['gunrel', 'restrain', 'order', 'also', 'pass'...  Not Accountable  \n",
       "3  ['linder', 'said', 'also', 'rememb', 'weiss', ...  Not Accountable  \n",
       "5  ['three', 'day', 'cheng', 'yuan', 'jame', 'hon...  Not Accountable  "
      ]
     },
     "execution_count": 19,
     "metadata": {},
     "output_type": "execute_result"
    }
   ],
   "source": [
    "a = data.loc[data['target']==0]\n",
    "a['target']='Not Accountable'\n",
    "a.head()"
   ]
  },
  {
   "cell_type": "code",
   "execution_count": 20,
   "metadata": {},
   "outputs": [
    {
     "data": {
      "text/plain": [
       "(6330, 9)"
      ]
     },
     "execution_count": 20,
     "metadata": {},
     "output_type": "execute_result"
    }
   ],
   "source": [
    "a.shape"
   ]
  },
  {
   "cell_type": "code",
   "execution_count": 21,
   "metadata": {},
   "outputs": [
    {
     "name": "stderr",
     "output_type": "stream",
     "text": [
      "/home/spriyanshu723/anaconda3/envs/fastai-cpu/lib/python3.6/site-packages/ipykernel_launcher.py:2: SettingWithCopyWarning: \n",
      "A value is trying to be set on a copy of a slice from a DataFrame.\n",
      "Try using .loc[row_indexer,col_indexer] = value instead\n",
      "\n",
      "See the caveats in the documentation: http://pandas.pydata.org/pandas-docs/stable/indexing.html#indexing-view-versus-copy\n",
      "  \n"
     ]
    },
    {
     "data": {
      "text/html": [
       "<div>\n",
       "<style scoped>\n",
       "    .dataframe tbody tr th:only-of-type {\n",
       "        vertical-align: middle;\n",
       "    }\n",
       "\n",
       "    .dataframe tbody tr th {\n",
       "        vertical-align: top;\n",
       "    }\n",
       "\n",
       "    .dataframe thead th {\n",
       "        text-align: right;\n",
       "    }\n",
       "</style>\n",
       "<table border=\"1\" class=\"dataframe\">\n",
       "  <thead>\n",
       "    <tr style=\"text-align: right;\">\n",
       "      <th></th>\n",
       "      <th>StoryID</th>\n",
       "      <th>Excerpt</th>\n",
       "      <th>Excerpt_pre</th>\n",
       "      <th>Excerpt_tokenized</th>\n",
       "      <th>Excerpt_nonstop</th>\n",
       "      <th>Excerpt_stemmed</th>\n",
       "      <th>Excerpt_lemmatized</th>\n",
       "      <th>Excerpt_clean</th>\n",
       "      <th>target</th>\n",
       "    </tr>\n",
       "  </thead>\n",
       "  <tbody>\n",
       "    <tr>\n",
       "      <th>4</th>\n",
       "      <td>NI3259</td>\n",
       "      <td>I mean I know how this goes We all do Werent y...</td>\n",
       "      <td>mean know goes werent sort expecting father on...</td>\n",
       "      <td>['mean', 'know', 'goes', 'werent', 'sort', 'ex...</td>\n",
       "      <td>['mean', 'know', 'goes', 'werent', 'sort', 'ex...</td>\n",
       "      <td>['mean', 'know', 'goe', 'werent', 'sort', 'exp...</td>\n",
       "      <td>['mean', 'know', 'go', 'werent', 'sort', 'expe...</td>\n",
       "      <td>['mean', 'know', 'goe', 'werent', 'sort', 'exp...</td>\n",
       "      <td>Cultural</td>\n",
       "    </tr>\n",
       "    <tr>\n",
       "      <th>19</th>\n",
       "      <td>NI1111</td>\n",
       "      <td>At the earlier press conference Martinez shook...</td>\n",
       "      <td>earlier press conference martinez shook visibl...</td>\n",
       "      <td>['earlier', 'press', 'conference', 'martinez',...</td>\n",
       "      <td>['earlier', 'press', 'conference', 'martinez',...</td>\n",
       "      <td>['earlier', 'press', 'confer', 'martinez', 'sh...</td>\n",
       "      <td>['earlier', 'press', 'conference', 'martinez',...</td>\n",
       "      <td>['earlier', 'press', 'confer', 'martinez', 'sh...</td>\n",
       "      <td>Cultural</td>\n",
       "    </tr>\n",
       "    <tr>\n",
       "      <th>30</th>\n",
       "      <td>NI3229</td>\n",
       "      <td>Shall I observe that a gun is a weapon of mass...</td>\n",
       "      <td>shall observe gun weapon mass destruction ment...</td>\n",
       "      <td>['shall', 'observe', 'gun', 'weapon', 'mass', ...</td>\n",
       "      <td>['shall', 'observe', 'gun', 'weapon', 'mass', ...</td>\n",
       "      <td>['shall', 'observ', 'gun', 'weapon', 'mass', '...</td>\n",
       "      <td>['shall', 'observe', 'gun', 'weapon', 'mass', ...</td>\n",
       "      <td>['shall', 'observ', 'gun', 'weapon', 'mass', '...</td>\n",
       "      <td>Cultural</td>\n",
       "    </tr>\n",
       "    <tr>\n",
       "      <th>36</th>\n",
       "      <td>NI2075</td>\n",
       "      <td>At the earlier press conference Martinez shook...</td>\n",
       "      <td>earlier press conference martinez shook visibl...</td>\n",
       "      <td>['earlier', 'press', 'conference', 'martinez',...</td>\n",
       "      <td>['earlier', 'press', 'conference', 'martinez',...</td>\n",
       "      <td>['earlier', 'press', 'confer', 'martinez', 'sh...</td>\n",
       "      <td>['earlier', 'press', 'conference', 'martinez',...</td>\n",
       "      <td>['earlier', 'press', 'confer', 'martinez', 'sh...</td>\n",
       "      <td>Cultural</td>\n",
       "    </tr>\n",
       "    <tr>\n",
       "      <th>43</th>\n",
       "      <td>NI2719</td>\n",
       "      <td>Before the killings Rodgers mother became alar...</td>\n",
       "      <td>killings rodgers mother became alarmed bizarre...</td>\n",
       "      <td>['killings', 'rodgers', 'mother', 'became', 'a...</td>\n",
       "      <td>['killings', 'rodgers', 'mother', 'became', 'a...</td>\n",
       "      <td>['kill', 'rodger', 'mother', 'becam', 'alarm',...</td>\n",
       "      <td>['killing', 'rodgers', 'mother', 'became', 'al...</td>\n",
       "      <td>['kill', 'rodger', 'mother', 'becam', 'alarm',...</td>\n",
       "      <td>Cultural</td>\n",
       "    </tr>\n",
       "  </tbody>\n",
       "</table>\n",
       "</div>"
      ],
      "text/plain": [
       "   StoryID                                            Excerpt  \\\n",
       "4   NI3259  I mean I know how this goes We all do Werent y...   \n",
       "19  NI1111  At the earlier press conference Martinez shook...   \n",
       "30  NI3229  Shall I observe that a gun is a weapon of mass...   \n",
       "36  NI2075  At the earlier press conference Martinez shook...   \n",
       "43  NI2719  Before the killings Rodgers mother became alar...   \n",
       "\n",
       "                                          Excerpt_pre  \\\n",
       "4   mean know goes werent sort expecting father on...   \n",
       "19  earlier press conference martinez shook visibl...   \n",
       "30  shall observe gun weapon mass destruction ment...   \n",
       "36  earlier press conference martinez shook visibl...   \n",
       "43  killings rodgers mother became alarmed bizarre...   \n",
       "\n",
       "                                    Excerpt_tokenized  \\\n",
       "4   ['mean', 'know', 'goes', 'werent', 'sort', 'ex...   \n",
       "19  ['earlier', 'press', 'conference', 'martinez',...   \n",
       "30  ['shall', 'observe', 'gun', 'weapon', 'mass', ...   \n",
       "36  ['earlier', 'press', 'conference', 'martinez',...   \n",
       "43  ['killings', 'rodgers', 'mother', 'became', 'a...   \n",
       "\n",
       "                                      Excerpt_nonstop  \\\n",
       "4   ['mean', 'know', 'goes', 'werent', 'sort', 'ex...   \n",
       "19  ['earlier', 'press', 'conference', 'martinez',...   \n",
       "30  ['shall', 'observe', 'gun', 'weapon', 'mass', ...   \n",
       "36  ['earlier', 'press', 'conference', 'martinez',...   \n",
       "43  ['killings', 'rodgers', 'mother', 'became', 'a...   \n",
       "\n",
       "                                      Excerpt_stemmed  \\\n",
       "4   ['mean', 'know', 'goe', 'werent', 'sort', 'exp...   \n",
       "19  ['earlier', 'press', 'confer', 'martinez', 'sh...   \n",
       "30  ['shall', 'observ', 'gun', 'weapon', 'mass', '...   \n",
       "36  ['earlier', 'press', 'confer', 'martinez', 'sh...   \n",
       "43  ['kill', 'rodger', 'mother', 'becam', 'alarm',...   \n",
       "\n",
       "                                   Excerpt_lemmatized  \\\n",
       "4   ['mean', 'know', 'go', 'werent', 'sort', 'expe...   \n",
       "19  ['earlier', 'press', 'conference', 'martinez',...   \n",
       "30  ['shall', 'observe', 'gun', 'weapon', 'mass', ...   \n",
       "36  ['earlier', 'press', 'conference', 'martinez',...   \n",
       "43  ['killing', 'rodgers', 'mother', 'became', 'al...   \n",
       "\n",
       "                                        Excerpt_clean    target  \n",
       "4   ['mean', 'know', 'goe', 'werent', 'sort', 'exp...  Cultural  \n",
       "19  ['earlier', 'press', 'confer', 'martinez', 'sh...  Cultural  \n",
       "30  ['shall', 'observ', 'gun', 'weapon', 'mass', '...  Cultural  \n",
       "36  ['earlier', 'press', 'confer', 'martinez', 'sh...  Cultural  \n",
       "43  ['kill', 'rodger', 'mother', 'becam', 'alarm',...  Cultural  "
      ]
     },
     "execution_count": 21,
     "metadata": {},
     "output_type": "execute_result"
    }
   ],
   "source": [
    "b = data.loc[data['target']==1]\n",
    "b['target']='Cultural'\n",
    "b.head()"
   ]
  },
  {
   "cell_type": "code",
   "execution_count": 22,
   "metadata": {},
   "outputs": [
    {
     "data": {
      "text/plain": [
       "(979, 9)"
      ]
     },
     "execution_count": 22,
     "metadata": {},
     "output_type": "execute_result"
    }
   ],
   "source": [
    "b.shape"
   ]
  },
  {
   "cell_type": "code",
   "execution_count": 23,
   "metadata": {},
   "outputs": [
    {
     "name": "stderr",
     "output_type": "stream",
     "text": [
      "/home/spriyanshu723/anaconda3/envs/fastai-cpu/lib/python3.6/site-packages/ipykernel_launcher.py:2: SettingWithCopyWarning: \n",
      "A value is trying to be set on a copy of a slice from a DataFrame.\n",
      "Try using .loc[row_indexer,col_indexer] = value instead\n",
      "\n",
      "See the caveats in the documentation: http://pandas.pydata.org/pandas-docs/stable/indexing.html#indexing-view-versus-copy\n",
      "  \n"
     ]
    },
    {
     "data": {
      "text/html": [
       "<div>\n",
       "<style scoped>\n",
       "    .dataframe tbody tr th:only-of-type {\n",
       "        vertical-align: middle;\n",
       "    }\n",
       "\n",
       "    .dataframe tbody tr th {\n",
       "        vertical-align: top;\n",
       "    }\n",
       "\n",
       "    .dataframe thead th {\n",
       "        text-align: right;\n",
       "    }\n",
       "</style>\n",
       "<table border=\"1\" class=\"dataframe\">\n",
       "  <thead>\n",
       "    <tr style=\"text-align: right;\">\n",
       "      <th></th>\n",
       "      <th>StoryID</th>\n",
       "      <th>Excerpt</th>\n",
       "      <th>Excerpt_pre</th>\n",
       "      <th>Excerpt_tokenized</th>\n",
       "      <th>Excerpt_nonstop</th>\n",
       "      <th>Excerpt_stemmed</th>\n",
       "      <th>Excerpt_lemmatized</th>\n",
       "      <th>Excerpt_clean</th>\n",
       "      <th>target</th>\n",
       "    </tr>\n",
       "  </thead>\n",
       "  <tbody>\n",
       "    <tr>\n",
       "      <th>76</th>\n",
       "      <td>NI2957</td>\n",
       "      <td>Some crackpot who couldnt get a date stabs and...</td>\n",
       "      <td>crackpot couldnt get date stabs shoots way acr...</td>\n",
       "      <td>['crackpot', 'couldnt', 'get', 'date', 'stabs'...</td>\n",
       "      <td>['crackpot', 'couldnt', 'get', 'date', 'stabs'...</td>\n",
       "      <td>['crackpot', 'couldnt', 'get', 'date', 'stab',...</td>\n",
       "      <td>['crackpot', 'couldnt', 'get', 'date', 'stab',...</td>\n",
       "      <td>['crackpot', 'couldnt', 'get', 'date', 'stab',...</td>\n",
       "      <td>Individual</td>\n",
       "    </tr>\n",
       "    <tr>\n",
       "      <th>125</th>\n",
       "      <td>NI1105</td>\n",
       "      <td>Certainly he didn t feel loved by his communit...</td>\n",
       "      <td>certainly feel loved community said void life ...</td>\n",
       "      <td>['certainly', 'feel', 'loved', 'community', 's...</td>\n",
       "      <td>['certainly', 'feel', 'loved', 'community', 's...</td>\n",
       "      <td>['certainli', 'feel', 'love', 'commun', 'said'...</td>\n",
       "      <td>['certainly', 'feel', 'loved', 'community', 's...</td>\n",
       "      <td>['certainli', 'feel', 'love', 'commun', 'said'...</td>\n",
       "      <td>Individual</td>\n",
       "    </tr>\n",
       "    <tr>\n",
       "      <th>140</th>\n",
       "      <td>NI3126</td>\n",
       "      <td>Elliot Rodger took six lives in a planned ramp...</td>\n",
       "      <td>elliot rodger took six lives planned rampage s...</td>\n",
       "      <td>['elliot', 'rodger', 'took', 'six', 'lives', '...</td>\n",
       "      <td>['elliot', 'rodger', 'took', 'six', 'lives', '...</td>\n",
       "      <td>['elliot', 'rodger', 'took', 'six', 'live', 'p...</td>\n",
       "      <td>['elliot', 'rodger', 'took', 'six', 'life', 'p...</td>\n",
       "      <td>['elliot', 'rodger', 'took', 'six', 'live', 'p...</td>\n",
       "      <td>Individual</td>\n",
       "    </tr>\n",
       "    <tr>\n",
       "      <th>181</th>\n",
       "      <td>NI2293</td>\n",
       "      <td>Years later in a now infamous YouTube video he...</td>\n",
       "      <td>years later infamous youtube video laid chilli...</td>\n",
       "      <td>['years', 'later', 'infamous', 'youtube', 'vid...</td>\n",
       "      <td>['years', 'later', 'infamous', 'youtube', 'vid...</td>\n",
       "      <td>['year', 'later', 'infam', 'youtub', 'video', ...</td>\n",
       "      <td>['year', 'later', 'infamous', 'youtube', 'vide...</td>\n",
       "      <td>['year', 'later', 'infam', 'youtub', 'video', ...</td>\n",
       "      <td>Individual</td>\n",
       "    </tr>\n",
       "    <tr>\n",
       "      <th>183</th>\n",
       "      <td>NI1317</td>\n",
       "      <td>After elementary school and with the advent of...</td>\n",
       "      <td>elementary school advent puberty life became b...</td>\n",
       "      <td>['elementary', 'school', 'advent', 'puberty', ...</td>\n",
       "      <td>['elementary', 'school', 'advent', 'puberty', ...</td>\n",
       "      <td>['elementari', 'school', 'advent', 'puberti', ...</td>\n",
       "      <td>['elementary', 'school', 'advent', 'puberty', ...</td>\n",
       "      <td>['elementari', 'school', 'advent', 'puberti', ...</td>\n",
       "      <td>Individual</td>\n",
       "    </tr>\n",
       "  </tbody>\n",
       "</table>\n",
       "</div>"
      ],
      "text/plain": [
       "    StoryID                                            Excerpt  \\\n",
       "76   NI2957  Some crackpot who couldnt get a date stabs and...   \n",
       "125  NI1105  Certainly he didn t feel loved by his communit...   \n",
       "140  NI3126  Elliot Rodger took six lives in a planned ramp...   \n",
       "181  NI2293  Years later in a now infamous YouTube video he...   \n",
       "183  NI1317  After elementary school and with the advent of...   \n",
       "\n",
       "                                           Excerpt_pre  \\\n",
       "76   crackpot couldnt get date stabs shoots way acr...   \n",
       "125  certainly feel loved community said void life ...   \n",
       "140  elliot rodger took six lives planned rampage s...   \n",
       "181  years later infamous youtube video laid chilli...   \n",
       "183  elementary school advent puberty life became b...   \n",
       "\n",
       "                                     Excerpt_tokenized  \\\n",
       "76   ['crackpot', 'couldnt', 'get', 'date', 'stabs'...   \n",
       "125  ['certainly', 'feel', 'loved', 'community', 's...   \n",
       "140  ['elliot', 'rodger', 'took', 'six', 'lives', '...   \n",
       "181  ['years', 'later', 'infamous', 'youtube', 'vid...   \n",
       "183  ['elementary', 'school', 'advent', 'puberty', ...   \n",
       "\n",
       "                                       Excerpt_nonstop  \\\n",
       "76   ['crackpot', 'couldnt', 'get', 'date', 'stabs'...   \n",
       "125  ['certainly', 'feel', 'loved', 'community', 's...   \n",
       "140  ['elliot', 'rodger', 'took', 'six', 'lives', '...   \n",
       "181  ['years', 'later', 'infamous', 'youtube', 'vid...   \n",
       "183  ['elementary', 'school', 'advent', 'puberty', ...   \n",
       "\n",
       "                                       Excerpt_stemmed  \\\n",
       "76   ['crackpot', 'couldnt', 'get', 'date', 'stab',...   \n",
       "125  ['certainli', 'feel', 'love', 'commun', 'said'...   \n",
       "140  ['elliot', 'rodger', 'took', 'six', 'live', 'p...   \n",
       "181  ['year', 'later', 'infam', 'youtub', 'video', ...   \n",
       "183  ['elementari', 'school', 'advent', 'puberti', ...   \n",
       "\n",
       "                                    Excerpt_lemmatized  \\\n",
       "76   ['crackpot', 'couldnt', 'get', 'date', 'stab',...   \n",
       "125  ['certainly', 'feel', 'loved', 'community', 's...   \n",
       "140  ['elliot', 'rodger', 'took', 'six', 'life', 'p...   \n",
       "181  ['year', 'later', 'infamous', 'youtube', 'vide...   \n",
       "183  ['elementary', 'school', 'advent', 'puberty', ...   \n",
       "\n",
       "                                         Excerpt_clean      target  \n",
       "76   ['crackpot', 'couldnt', 'get', 'date', 'stab',...  Individual  \n",
       "125  ['certainli', 'feel', 'love', 'commun', 'said'...  Individual  \n",
       "140  ['elliot', 'rodger', 'took', 'six', 'live', 'p...  Individual  \n",
       "181  ['year', 'later', 'infam', 'youtub', 'video', ...  Individual  \n",
       "183  ['elementari', 'school', 'advent', 'puberti', ...  Individual  "
      ]
     },
     "execution_count": 23,
     "metadata": {},
     "output_type": "execute_result"
    }
   ],
   "source": [
    "c = data.loc[data['target']==4]\n",
    "c['target']='Individual'\n",
    "c.head()"
   ]
  },
  {
   "cell_type": "code",
   "execution_count": 24,
   "metadata": {},
   "outputs": [
    {
     "data": {
      "text/plain": [
       "(613, 9)"
      ]
     },
     "execution_count": 24,
     "metadata": {},
     "output_type": "execute_result"
    }
   ],
   "source": [
    "c.shape"
   ]
  },
  {
   "cell_type": "code",
   "execution_count": 25,
   "metadata": {},
   "outputs": [
    {
     "name": "stderr",
     "output_type": "stream",
     "text": [
      "/home/spriyanshu723/anaconda3/envs/fastai-cpu/lib/python3.6/site-packages/ipykernel_launcher.py:2: SettingWithCopyWarning: \n",
      "A value is trying to be set on a copy of a slice from a DataFrame.\n",
      "Try using .loc[row_indexer,col_indexer] = value instead\n",
      "\n",
      "See the caveats in the documentation: http://pandas.pydata.org/pandas-docs/stable/indexing.html#indexing-view-versus-copy\n",
      "  \n"
     ]
    },
    {
     "data": {
      "text/html": [
       "<div>\n",
       "<style scoped>\n",
       "    .dataframe tbody tr th:only-of-type {\n",
       "        vertical-align: middle;\n",
       "    }\n",
       "\n",
       "    .dataframe tbody tr th {\n",
       "        vertical-align: top;\n",
       "    }\n",
       "\n",
       "    .dataframe thead th {\n",
       "        text-align: right;\n",
       "    }\n",
       "</style>\n",
       "<table border=\"1\" class=\"dataframe\">\n",
       "  <thead>\n",
       "    <tr style=\"text-align: right;\">\n",
       "      <th></th>\n",
       "      <th>StoryID</th>\n",
       "      <th>Excerpt</th>\n",
       "      <th>Excerpt_pre</th>\n",
       "      <th>Excerpt_tokenized</th>\n",
       "      <th>Excerpt_nonstop</th>\n",
       "      <th>Excerpt_stemmed</th>\n",
       "      <th>Excerpt_lemmatized</th>\n",
       "      <th>Excerpt_clean</th>\n",
       "      <th>target</th>\n",
       "    </tr>\n",
       "  </thead>\n",
       "  <tbody>\n",
       "    <tr>\n",
       "      <th>60</th>\n",
       "      <td>NI2814</td>\n",
       "      <td>The Isla Vista murders were not a case of dome...</td>\n",
       "      <td>isla vista murders case domestic violence work...</td>\n",
       "      <td>['isla', 'vista', 'murders', 'case', 'domestic...</td>\n",
       "      <td>['isla', 'vista', 'murders', 'case', 'domestic...</td>\n",
       "      <td>['isla', 'vista', 'murder', 'case', 'domest', ...</td>\n",
       "      <td>['isla', 'vista', 'murder', 'case', 'domestic'...</td>\n",
       "      <td>['isla', 'vista', 'murder', 'case', 'domest', ...</td>\n",
       "      <td>Other</td>\n",
       "    </tr>\n",
       "    <tr>\n",
       "      <th>265</th>\n",
       "      <td>NI1035</td>\n",
       "      <td>I m in shock  said neighbor Svetlana Bakalinsk...</td>\n",
       "      <td>shock said neighbor svetlana bakalinsky along ...</td>\n",
       "      <td>['shock', 'said', 'neighbor', 'svetlana', 'bak...</td>\n",
       "      <td>['shock', 'said', 'neighbor', 'svetlana', 'bak...</td>\n",
       "      <td>['shock', 'said', 'neighbor', 'svetlana', 'bak...</td>\n",
       "      <td>['shock', 'said', 'neighbor', 'svetlana', 'bak...</td>\n",
       "      <td>['shock', 'said', 'neighbor', 'svetlana', 'bak...</td>\n",
       "      <td>Other</td>\n",
       "    </tr>\n",
       "    <tr>\n",
       "      <th>540</th>\n",
       "      <td>NI2268</td>\n",
       "      <td>By the third time I watched the video I was ho...</td>\n",
       "      <td>third time watched video hoping might reveal s...</td>\n",
       "      <td>['third', 'time', 'watched', 'video', 'hoping'...</td>\n",
       "      <td>['third', 'time', 'watched', 'video', 'hoping'...</td>\n",
       "      <td>['third', 'time', 'watch', 'video', 'hope', 'm...</td>\n",
       "      <td>['third', 'time', 'watched', 'video', 'hoping'...</td>\n",
       "      <td>['third', 'time', 'watch', 'video', 'hope', 'm...</td>\n",
       "      <td>Other</td>\n",
       "    </tr>\n",
       "    <tr>\n",
       "      <th>635</th>\n",
       "      <td>NI0009</td>\n",
       "      <td>Santa Barbara County Sheriff Bill Brown did no...</td>\n",
       "      <td>santa barbara county sheriff bill brown offer ...</td>\n",
       "      <td>['santa', 'barbara', 'county', 'sheriff', 'bil...</td>\n",
       "      <td>['santa', 'barbara', 'county', 'sheriff', 'bil...</td>\n",
       "      <td>['santa', 'barbara', 'counti', 'sheriff', 'bil...</td>\n",
       "      <td>['santa', 'barbara', 'county', 'sheriff', 'bil...</td>\n",
       "      <td>['santa', 'barbara', 'counti', 'sheriff', 'bil...</td>\n",
       "      <td>Other</td>\n",
       "    </tr>\n",
       "    <tr>\n",
       "      <th>896</th>\n",
       "      <td>NI1035</td>\n",
       "      <td>So on Saturday morning when some awoke to the ...</td>\n",
       "      <td>saturday morning awoke news pinpointed suspect...</td>\n",
       "      <td>['saturday', 'morning', 'awoke', 'news', 'pinp...</td>\n",
       "      <td>['saturday', 'morning', 'awoke', 'news', 'pinp...</td>\n",
       "      <td>['saturday', 'morn', 'awok', 'news', 'pinpoint...</td>\n",
       "      <td>['saturday', 'morning', 'awoke', 'news', 'pinp...</td>\n",
       "      <td>['saturday', 'morn', 'awok', 'news', 'pinpoint...</td>\n",
       "      <td>Other</td>\n",
       "    </tr>\n",
       "  </tbody>\n",
       "</table>\n",
       "</div>"
      ],
      "text/plain": [
       "    StoryID                                            Excerpt  \\\n",
       "60   NI2814  The Isla Vista murders were not a case of dome...   \n",
       "265  NI1035  I m in shock  said neighbor Svetlana Bakalinsk...   \n",
       "540  NI2268  By the third time I watched the video I was ho...   \n",
       "635  NI0009  Santa Barbara County Sheriff Bill Brown did no...   \n",
       "896  NI1035  So on Saturday morning when some awoke to the ...   \n",
       "\n",
       "                                           Excerpt_pre  \\\n",
       "60   isla vista murders case domestic violence work...   \n",
       "265  shock said neighbor svetlana bakalinsky along ...   \n",
       "540  third time watched video hoping might reveal s...   \n",
       "635  santa barbara county sheriff bill brown offer ...   \n",
       "896  saturday morning awoke news pinpointed suspect...   \n",
       "\n",
       "                                     Excerpt_tokenized  \\\n",
       "60   ['isla', 'vista', 'murders', 'case', 'domestic...   \n",
       "265  ['shock', 'said', 'neighbor', 'svetlana', 'bak...   \n",
       "540  ['third', 'time', 'watched', 'video', 'hoping'...   \n",
       "635  ['santa', 'barbara', 'county', 'sheriff', 'bil...   \n",
       "896  ['saturday', 'morning', 'awoke', 'news', 'pinp...   \n",
       "\n",
       "                                       Excerpt_nonstop  \\\n",
       "60   ['isla', 'vista', 'murders', 'case', 'domestic...   \n",
       "265  ['shock', 'said', 'neighbor', 'svetlana', 'bak...   \n",
       "540  ['third', 'time', 'watched', 'video', 'hoping'...   \n",
       "635  ['santa', 'barbara', 'county', 'sheriff', 'bil...   \n",
       "896  ['saturday', 'morning', 'awoke', 'news', 'pinp...   \n",
       "\n",
       "                                       Excerpt_stemmed  \\\n",
       "60   ['isla', 'vista', 'murder', 'case', 'domest', ...   \n",
       "265  ['shock', 'said', 'neighbor', 'svetlana', 'bak...   \n",
       "540  ['third', 'time', 'watch', 'video', 'hope', 'm...   \n",
       "635  ['santa', 'barbara', 'counti', 'sheriff', 'bil...   \n",
       "896  ['saturday', 'morn', 'awok', 'news', 'pinpoint...   \n",
       "\n",
       "                                    Excerpt_lemmatized  \\\n",
       "60   ['isla', 'vista', 'murder', 'case', 'domestic'...   \n",
       "265  ['shock', 'said', 'neighbor', 'svetlana', 'bak...   \n",
       "540  ['third', 'time', 'watched', 'video', 'hoping'...   \n",
       "635  ['santa', 'barbara', 'county', 'sheriff', 'bil...   \n",
       "896  ['saturday', 'morning', 'awoke', 'news', 'pinp...   \n",
       "\n",
       "                                         Excerpt_clean target  \n",
       "60   ['isla', 'vista', 'murder', 'case', 'domest', ...  Other  \n",
       "265  ['shock', 'said', 'neighbor', 'svetlana', 'bak...  Other  \n",
       "540  ['third', 'time', 'watch', 'video', 'hope', 'm...  Other  \n",
       "635  ['santa', 'barbara', 'counti', 'sheriff', 'bil...  Other  \n",
       "896  ['saturday', 'morn', 'awok', 'news', 'pinpoint...  Other  "
      ]
     },
     "execution_count": 25,
     "metadata": {},
     "output_type": "execute_result"
    }
   ],
   "source": [
    "d = data.loc[data['target']==8]\n",
    "d['target']='Other'\n",
    "d.head()"
   ]
  },
  {
   "cell_type": "code",
   "execution_count": 26,
   "metadata": {},
   "outputs": [
    {
     "data": {
      "text/plain": [
       "(34, 9)"
      ]
     },
     "execution_count": 26,
     "metadata": {},
     "output_type": "execute_result"
    }
   ],
   "source": [
    "d.shape"
   ]
  },
  {
   "cell_type": "code",
   "execution_count": 27,
   "metadata": {},
   "outputs": [
    {
     "name": "stderr",
     "output_type": "stream",
     "text": [
      "/home/spriyanshu723/anaconda3/envs/fastai-cpu/lib/python3.6/site-packages/ipykernel_launcher.py:2: SettingWithCopyWarning: \n",
      "A value is trying to be set on a copy of a slice from a DataFrame.\n",
      "Try using .loc[row_indexer,col_indexer] = value instead\n",
      "\n",
      "See the caveats in the documentation: http://pandas.pydata.org/pandas-docs/stable/indexing.html#indexing-view-versus-copy\n",
      "  \n"
     ]
    },
    {
     "data": {
      "text/html": [
       "<div>\n",
       "<style scoped>\n",
       "    .dataframe tbody tr th:only-of-type {\n",
       "        vertical-align: middle;\n",
       "    }\n",
       "\n",
       "    .dataframe tbody tr th {\n",
       "        vertical-align: top;\n",
       "    }\n",
       "\n",
       "    .dataframe thead th {\n",
       "        text-align: right;\n",
       "    }\n",
       "</style>\n",
       "<table border=\"1\" class=\"dataframe\">\n",
       "  <thead>\n",
       "    <tr style=\"text-align: right;\">\n",
       "      <th></th>\n",
       "      <th>StoryID</th>\n",
       "      <th>Excerpt</th>\n",
       "      <th>Excerpt_pre</th>\n",
       "      <th>Excerpt_tokenized</th>\n",
       "      <th>Excerpt_nonstop</th>\n",
       "      <th>Excerpt_stemmed</th>\n",
       "      <th>Excerpt_lemmatized</th>\n",
       "      <th>Excerpt_clean</th>\n",
       "      <th>target</th>\n",
       "    </tr>\n",
       "  </thead>\n",
       "  <tbody>\n",
       "    <tr>\n",
       "      <th>65</th>\n",
       "      <td>NI2577</td>\n",
       "      <td>One thing for sure Every legal expert agrees t...</td>\n",
       "      <td>one thing sure every legal expert agrees rodge...</td>\n",
       "      <td>['one', 'thing', 'sure', 'every', 'legal', 'ex...</td>\n",
       "      <td>['one', 'thing', 'sure', 'every', 'legal', 'ex...</td>\n",
       "      <td>['one', 'thing', 'sure', 'everi', 'legal', 'ex...</td>\n",
       "      <td>['one', 'thing', 'sure', 'every', 'legal', 'ex...</td>\n",
       "      <td>['one', 'thing', 'sure', 'everi', 'legal', 'ex...</td>\n",
       "      <td>CI</td>\n",
       "    </tr>\n",
       "    <tr>\n",
       "      <th>73</th>\n",
       "      <td>NI3119</td>\n",
       "      <td>Certainly the latest murderous rampage carried...</td>\n",
       "      <td>certainly latest murderous rampage carried you...</td>\n",
       "      <td>['certainly', 'latest', 'murderous', 'rampage'...</td>\n",
       "      <td>['certainly', 'latest', 'murderous', 'rampage'...</td>\n",
       "      <td>['certainli', 'latest', 'murder', 'rampag', 'c...</td>\n",
       "      <td>['certainly', 'latest', 'murderous', 'rampage'...</td>\n",
       "      <td>['certainli', 'latest', 'murder', 'rampag', 'c...</td>\n",
       "      <td>CI</td>\n",
       "    </tr>\n",
       "    <tr>\n",
       "      <th>74</th>\n",
       "      <td>NI1605</td>\n",
       "      <td>In a 137page manifesto Rodger wrote that he wo...</td>\n",
       "      <td>137page manifesto rodger wrote would commit ma...</td>\n",
       "      <td>['137page', 'manifesto', 'rodger', 'wrote', 'w...</td>\n",
       "      <td>['137page', 'manifesto', 'rodger', 'wrote', 'w...</td>\n",
       "      <td>['137page', 'manifesto', 'rodger', 'wrote', 'w...</td>\n",
       "      <td>['137page', 'manifesto', 'rodger', 'wrote', 'w...</td>\n",
       "      <td>['page', 'manifesto', 'rodger', 'wrote', 'woul...</td>\n",
       "      <td>CI</td>\n",
       "    </tr>\n",
       "    <tr>\n",
       "      <th>83</th>\n",
       "      <td>NI2915</td>\n",
       "      <td>I got into an online debate recently with Lind...</td>\n",
       "      <td>got online debate recently lindsay beyerstein ...</td>\n",
       "      <td>['got', 'online', 'debate', 'recently', 'linds...</td>\n",
       "      <td>['got', 'online', 'debate', 'recently', 'linds...</td>\n",
       "      <td>['got', 'onlin', 'debat', 'recent', 'lindsay',...</td>\n",
       "      <td>['got', 'online', 'debate', 'recently', 'linds...</td>\n",
       "      <td>['got', 'onlin', 'debat', 'recent', 'lindsay',...</td>\n",
       "      <td>CI</td>\n",
       "    </tr>\n",
       "    <tr>\n",
       "      <th>118</th>\n",
       "      <td>NI1286</td>\n",
       "      <td>In\\nthe meantime Santa Barbara County Sheriff ...</td>\n",
       "      <td>meantime santa barbara county sheriff bill bro...</td>\n",
       "      <td>['meantime', 'santa', 'barbara', 'county', 'sh...</td>\n",
       "      <td>['meantime', 'santa', 'barbara', 'county', 'sh...</td>\n",
       "      <td>['meantim', 'santa', 'barbara', 'counti', 'she...</td>\n",
       "      <td>['meantime', 'santa', 'barbara', 'county', 'sh...</td>\n",
       "      <td>['meantim', 'santa', 'barbara', 'counti', 'she...</td>\n",
       "      <td>CI</td>\n",
       "    </tr>\n",
       "  </tbody>\n",
       "</table>\n",
       "</div>"
      ],
      "text/plain": [
       "    StoryID                                            Excerpt  \\\n",
       "65   NI2577  One thing for sure Every legal expert agrees t...   \n",
       "73   NI3119  Certainly the latest murderous rampage carried...   \n",
       "74   NI1605  In a 137page manifesto Rodger wrote that he wo...   \n",
       "83   NI2915  I got into an online debate recently with Lind...   \n",
       "118  NI1286  In\\nthe meantime Santa Barbara County Sheriff ...   \n",
       "\n",
       "                                           Excerpt_pre  \\\n",
       "65   one thing sure every legal expert agrees rodge...   \n",
       "73   certainly latest murderous rampage carried you...   \n",
       "74   137page manifesto rodger wrote would commit ma...   \n",
       "83   got online debate recently lindsay beyerstein ...   \n",
       "118  meantime santa barbara county sheriff bill bro...   \n",
       "\n",
       "                                     Excerpt_tokenized  \\\n",
       "65   ['one', 'thing', 'sure', 'every', 'legal', 'ex...   \n",
       "73   ['certainly', 'latest', 'murderous', 'rampage'...   \n",
       "74   ['137page', 'manifesto', 'rodger', 'wrote', 'w...   \n",
       "83   ['got', 'online', 'debate', 'recently', 'linds...   \n",
       "118  ['meantime', 'santa', 'barbara', 'county', 'sh...   \n",
       "\n",
       "                                       Excerpt_nonstop  \\\n",
       "65   ['one', 'thing', 'sure', 'every', 'legal', 'ex...   \n",
       "73   ['certainly', 'latest', 'murderous', 'rampage'...   \n",
       "74   ['137page', 'manifesto', 'rodger', 'wrote', 'w...   \n",
       "83   ['got', 'online', 'debate', 'recently', 'linds...   \n",
       "118  ['meantime', 'santa', 'barbara', 'county', 'sh...   \n",
       "\n",
       "                                       Excerpt_stemmed  \\\n",
       "65   ['one', 'thing', 'sure', 'everi', 'legal', 'ex...   \n",
       "73   ['certainli', 'latest', 'murder', 'rampag', 'c...   \n",
       "74   ['137page', 'manifesto', 'rodger', 'wrote', 'w...   \n",
       "83   ['got', 'onlin', 'debat', 'recent', 'lindsay',...   \n",
       "118  ['meantim', 'santa', 'barbara', 'counti', 'she...   \n",
       "\n",
       "                                    Excerpt_lemmatized  \\\n",
       "65   ['one', 'thing', 'sure', 'every', 'legal', 'ex...   \n",
       "73   ['certainly', 'latest', 'murderous', 'rampage'...   \n",
       "74   ['137page', 'manifesto', 'rodger', 'wrote', 'w...   \n",
       "83   ['got', 'online', 'debate', 'recently', 'linds...   \n",
       "118  ['meantime', 'santa', 'barbara', 'county', 'sh...   \n",
       "\n",
       "                                         Excerpt_clean target  \n",
       "65   ['one', 'thing', 'sure', 'everi', 'legal', 'ex...     CI  \n",
       "73   ['certainli', 'latest', 'murder', 'rampag', 'c...     CI  \n",
       "74   ['page', 'manifesto', 'rodger', 'wrote', 'woul...     CI  \n",
       "83   ['got', 'onlin', 'debat', 'recent', 'lindsay',...     CI  \n",
       "118  ['meantim', 'santa', 'barbara', 'counti', 'she...     CI  "
      ]
     },
     "execution_count": 27,
     "metadata": {},
     "output_type": "execute_result"
    }
   ],
   "source": [
    "e = data.loc[data['target']==5]\n",
    "e['target']='CI'\n",
    "e.head()"
   ]
  },
  {
   "cell_type": "code",
   "execution_count": 28,
   "metadata": {},
   "outputs": [
    {
     "data": {
      "text/plain": [
       "(174, 9)"
      ]
     },
     "execution_count": 28,
     "metadata": {},
     "output_type": "execute_result"
    }
   ],
   "source": [
    "e.shape"
   ]
  },
  {
   "cell_type": "code",
   "execution_count": 29,
   "metadata": {},
   "outputs": [
    {
     "name": "stderr",
     "output_type": "stream",
     "text": [
      "/home/spriyanshu723/anaconda3/envs/fastai-cpu/lib/python3.6/site-packages/ipykernel_launcher.py:2: SettingWithCopyWarning: \n",
      "A value is trying to be set on a copy of a slice from a DataFrame.\n",
      "Try using .loc[row_indexer,col_indexer] = value instead\n",
      "\n",
      "See the caveats in the documentation: http://pandas.pydata.org/pandas-docs/stable/indexing.html#indexing-view-versus-copy\n",
      "  \n"
     ]
    },
    {
     "data": {
      "text/html": [
       "<div>\n",
       "<style scoped>\n",
       "    .dataframe tbody tr th:only-of-type {\n",
       "        vertical-align: middle;\n",
       "    }\n",
       "\n",
       "    .dataframe tbody tr th {\n",
       "        vertical-align: top;\n",
       "    }\n",
       "\n",
       "    .dataframe thead th {\n",
       "        text-align: right;\n",
       "    }\n",
       "</style>\n",
       "<table border=\"1\" class=\"dataframe\">\n",
       "  <thead>\n",
       "    <tr style=\"text-align: right;\">\n",
       "      <th></th>\n",
       "      <th>StoryID</th>\n",
       "      <th>Excerpt</th>\n",
       "      <th>Excerpt_pre</th>\n",
       "      <th>Excerpt_tokenized</th>\n",
       "      <th>Excerpt_nonstop</th>\n",
       "      <th>Excerpt_stemmed</th>\n",
       "      <th>Excerpt_lemmatized</th>\n",
       "      <th>Excerpt_clean</th>\n",
       "      <th>target</th>\n",
       "    </tr>\n",
       "  </thead>\n",
       "  <tbody>\n",
       "    <tr>\n",
       "      <th>3742</th>\n",
       "      <td>NI2903</td>\n",
       "      <td>In that manifesto he described his life story ...</td>\n",
       "      <td>manifesto described life story frustration abl...</td>\n",
       "      <td>['manifesto', 'described', 'life', 'story', 'f...</td>\n",
       "      <td>['manifesto', 'described', 'life', 'story', 'f...</td>\n",
       "      <td>['manifesto', 'describ', 'life', 'stori', 'fru...</td>\n",
       "      <td>['manifesto', 'described', 'life', 'story', 'f...</td>\n",
       "      <td>['manifesto', 'describ', 'life', 'stori', 'fru...</td>\n",
       "      <td>IO</td>\n",
       "    </tr>\n",
       "  </tbody>\n",
       "</table>\n",
       "</div>"
      ],
      "text/plain": [
       "     StoryID                                            Excerpt  \\\n",
       "3742  NI2903  In that manifesto he described his life story ...   \n",
       "\n",
       "                                            Excerpt_pre  \\\n",
       "3742  manifesto described life story frustration abl...   \n",
       "\n",
       "                                      Excerpt_tokenized  \\\n",
       "3742  ['manifesto', 'described', 'life', 'story', 'f...   \n",
       "\n",
       "                                        Excerpt_nonstop  \\\n",
       "3742  ['manifesto', 'described', 'life', 'story', 'f...   \n",
       "\n",
       "                                        Excerpt_stemmed  \\\n",
       "3742  ['manifesto', 'describ', 'life', 'stori', 'fru...   \n",
       "\n",
       "                                     Excerpt_lemmatized  \\\n",
       "3742  ['manifesto', 'described', 'life', 'story', 'f...   \n",
       "\n",
       "                                          Excerpt_clean target  \n",
       "3742  ['manifesto', 'describ', 'life', 'stori', 'fru...     IO  "
      ]
     },
     "execution_count": 29,
     "metadata": {},
     "output_type": "execute_result"
    }
   ],
   "source": [
    "f = data.loc[data['target']==12]\n",
    "f['target']='IO'\n",
    "f.head()"
   ]
  },
  {
   "cell_type": "code",
   "execution_count": 30,
   "metadata": {},
   "outputs": [
    {
     "data": {
      "text/plain": [
       "(1, 9)"
      ]
     },
     "execution_count": 30,
     "metadata": {},
     "output_type": "execute_result"
    }
   ],
   "source": [
    "f.shape"
   ]
  },
  {
   "cell_type": "code",
   "execution_count": 31,
   "metadata": {},
   "outputs": [
    {
     "data": {
      "text/plain": [
       "8131"
      ]
     },
     "execution_count": 31,
     "metadata": {},
     "output_type": "execute_result"
    }
   ],
   "source": [
    "1 + 174 + 34 + 613 + 979 +6330"
   ]
  },
  {
   "cell_type": "code",
   "execution_count": 36,
   "metadata": {},
   "outputs": [
    {
     "data": {
      "text/plain": [
       "(8131, 9)"
      ]
     },
     "execution_count": 36,
     "metadata": {},
     "output_type": "execute_result"
    }
   ],
   "source": [
    "dataframe = [a, b, c, d, e, f]\n",
    "data = pd.concat(dataframe)\n",
    "data.shape"
   ]
  },
  {
   "cell_type": "code",
   "execution_count": 39,
   "metadata": {},
   "outputs": [
    {
     "data": {
      "text/html": [
       "<div>\n",
       "<style scoped>\n",
       "    .dataframe tbody tr th:only-of-type {\n",
       "        vertical-align: middle;\n",
       "    }\n",
       "\n",
       "    .dataframe tbody tr th {\n",
       "        vertical-align: top;\n",
       "    }\n",
       "\n",
       "    .dataframe thead th {\n",
       "        text-align: right;\n",
       "    }\n",
       "</style>\n",
       "<table border=\"1\" class=\"dataframe\">\n",
       "  <thead>\n",
       "    <tr style=\"text-align: right;\">\n",
       "      <th></th>\n",
       "      <th>StoryID</th>\n",
       "      <th>Excerpt</th>\n",
       "      <th>Excerpt_pre</th>\n",
       "      <th>Excerpt_tokenized</th>\n",
       "      <th>Excerpt_nonstop</th>\n",
       "      <th>Excerpt_stemmed</th>\n",
       "      <th>Excerpt_lemmatized</th>\n",
       "      <th>Excerpt_clean</th>\n",
       "      <th>target</th>\n",
       "    </tr>\n",
       "  </thead>\n",
       "  <tbody>\n",
       "    <tr>\n",
       "      <th>2292</th>\n",
       "      <td>NI2424</td>\n",
       "      <td>If Lemus an El Camino College communications s...</td>\n",
       "      <td>lemus el camino college communications student...</td>\n",
       "      <td>['lemus', 'el', 'camino', 'college', 'communic...</td>\n",
       "      <td>['lemus', 'el', 'camino', 'college', 'communic...</td>\n",
       "      <td>['lemu', 'el', 'camino', 'colleg', 'commun', '...</td>\n",
       "      <td>['lemus', 'el', 'camino', 'college', 'communic...</td>\n",
       "      <td>['lemu', 'el', 'camino', 'colleg', 'commun', '...</td>\n",
       "      <td>Not Accountable</td>\n",
       "    </tr>\n",
       "    <tr>\n",
       "      <th>6577</th>\n",
       "      <td>NI1755</td>\n",
       "      <td>Questions about violent entertainment gained n...</td>\n",
       "      <td>questions violent entertainment gained new urg...</td>\n",
       "      <td>['questions', 'violent', 'entertainment', 'gai...</td>\n",
       "      <td>['questions', 'violent', 'entertainment', 'gai...</td>\n",
       "      <td>['question', 'violent', 'entertain', 'gain', '...</td>\n",
       "      <td>['question', 'violent', 'entertainment', 'gain...</td>\n",
       "      <td>['question', 'violent', 'entertain', 'gain', '...</td>\n",
       "      <td>Cultural</td>\n",
       "    </tr>\n",
       "    <tr>\n",
       "      <th>4613</th>\n",
       "      <td>NI3175</td>\n",
       "      <td>Jackson who attended a Saturday vigil in Isla ...</td>\n",
       "      <td>jackson attended saturday vigil isla vista sai...</td>\n",
       "      <td>['jackson', 'attended', 'saturday', 'vigil', '...</td>\n",
       "      <td>['jackson', 'attended', 'saturday', 'vigil', '...</td>\n",
       "      <td>['jackson', 'attend', 'saturday', 'vigil', 'is...</td>\n",
       "      <td>['jackson', 'attended', 'saturday', 'vigil', '...</td>\n",
       "      <td>['jackson', 'attend', 'saturday', 'vigil', 'is...</td>\n",
       "      <td>Not Accountable</td>\n",
       "    </tr>\n",
       "    <tr>\n",
       "      <th>6332</th>\n",
       "      <td>NI2983</td>\n",
       "      <td>It was a sentiment shared by Chens mother Kell...</td>\n",
       "      <td>sentiment shared chens mother kelly wang lelan...</td>\n",
       "      <td>['sentiment', 'shared', 'chens', 'mother', 'ke...</td>\n",
       "      <td>['sentiment', 'shared', 'chens', 'mother', 'ke...</td>\n",
       "      <td>['sentiment', 'share', 'chen', 'mother', 'kell...</td>\n",
       "      <td>['sentiment', 'shared', 'chen', 'mother', 'kel...</td>\n",
       "      <td>['sentiment', 'share', 'chen', 'mother', 'kell...</td>\n",
       "      <td>Not Accountable</td>\n",
       "    </tr>\n",
       "    <tr>\n",
       "      <th>5245</th>\n",
       "      <td>NI2628</td>\n",
       "      <td>Today her father Dan Cooper will remember that...</td>\n",
       "      <td>today father dan cooper remember spirit spends...</td>\n",
       "      <td>['today', 'father', 'dan', 'cooper', 'remember...</td>\n",
       "      <td>['today', 'father', 'dan', 'cooper', 'remember...</td>\n",
       "      <td>['today', 'father', 'dan', 'cooper', 'rememb',...</td>\n",
       "      <td>['today', 'father', 'dan', 'cooper', 'remember...</td>\n",
       "      <td>['today', 'father', 'dan', 'cooper', 'rememb',...</td>\n",
       "      <td>Not Accountable</td>\n",
       "    </tr>\n",
       "  </tbody>\n",
       "</table>\n",
       "</div>"
      ],
      "text/plain": [
       "     StoryID                                            Excerpt  \\\n",
       "2292  NI2424  If Lemus an El Camino College communications s...   \n",
       "6577  NI1755  Questions about violent entertainment gained n...   \n",
       "4613  NI3175  Jackson who attended a Saturday vigil in Isla ...   \n",
       "6332  NI2983  It was a sentiment shared by Chens mother Kell...   \n",
       "5245  NI2628  Today her father Dan Cooper will remember that...   \n",
       "\n",
       "                                            Excerpt_pre  \\\n",
       "2292  lemus el camino college communications student...   \n",
       "6577  questions violent entertainment gained new urg...   \n",
       "4613  jackson attended saturday vigil isla vista sai...   \n",
       "6332  sentiment shared chens mother kelly wang lelan...   \n",
       "5245  today father dan cooper remember spirit spends...   \n",
       "\n",
       "                                      Excerpt_tokenized  \\\n",
       "2292  ['lemus', 'el', 'camino', 'college', 'communic...   \n",
       "6577  ['questions', 'violent', 'entertainment', 'gai...   \n",
       "4613  ['jackson', 'attended', 'saturday', 'vigil', '...   \n",
       "6332  ['sentiment', 'shared', 'chens', 'mother', 'ke...   \n",
       "5245  ['today', 'father', 'dan', 'cooper', 'remember...   \n",
       "\n",
       "                                        Excerpt_nonstop  \\\n",
       "2292  ['lemus', 'el', 'camino', 'college', 'communic...   \n",
       "6577  ['questions', 'violent', 'entertainment', 'gai...   \n",
       "4613  ['jackson', 'attended', 'saturday', 'vigil', '...   \n",
       "6332  ['sentiment', 'shared', 'chens', 'mother', 'ke...   \n",
       "5245  ['today', 'father', 'dan', 'cooper', 'remember...   \n",
       "\n",
       "                                        Excerpt_stemmed  \\\n",
       "2292  ['lemu', 'el', 'camino', 'colleg', 'commun', '...   \n",
       "6577  ['question', 'violent', 'entertain', 'gain', '...   \n",
       "4613  ['jackson', 'attend', 'saturday', 'vigil', 'is...   \n",
       "6332  ['sentiment', 'share', 'chen', 'mother', 'kell...   \n",
       "5245  ['today', 'father', 'dan', 'cooper', 'rememb',...   \n",
       "\n",
       "                                     Excerpt_lemmatized  \\\n",
       "2292  ['lemus', 'el', 'camino', 'college', 'communic...   \n",
       "6577  ['question', 'violent', 'entertainment', 'gain...   \n",
       "4613  ['jackson', 'attended', 'saturday', 'vigil', '...   \n",
       "6332  ['sentiment', 'shared', 'chen', 'mother', 'kel...   \n",
       "5245  ['today', 'father', 'dan', 'cooper', 'remember...   \n",
       "\n",
       "                                          Excerpt_clean           target  \n",
       "2292  ['lemu', 'el', 'camino', 'colleg', 'commun', '...  Not Accountable  \n",
       "6577  ['question', 'violent', 'entertain', 'gain', '...         Cultural  \n",
       "4613  ['jackson', 'attend', 'saturday', 'vigil', 'is...  Not Accountable  \n",
       "6332  ['sentiment', 'share', 'chen', 'mother', 'kell...  Not Accountable  \n",
       "5245  ['today', 'father', 'dan', 'cooper', 'rememb',...  Not Accountable  "
      ]
     },
     "execution_count": 39,
     "metadata": {},
     "output_type": "execute_result"
    }
   ],
   "source": [
    "data = shuffle(data)\n",
    "data.head()"
   ]
  },
  {
   "cell_type": "code",
   "execution_count": 40,
   "metadata": {},
   "outputs": [
    {
     "data": {
      "text/plain": [
       "array(['Not Accountable', 'Cultural', 'Individual', 'Other', 'CI', 'IO'],\n",
       "      dtype=object)"
      ]
     },
     "execution_count": 40,
     "metadata": {},
     "output_type": "execute_result"
    }
   ],
   "source": [
    "data.target.unique()"
   ]
  },
  {
   "cell_type": "code",
   "execution_count": 56,
   "metadata": {},
   "outputs": [],
   "source": [
    "import pickle\n",
    "with open('complete_redhen_dataframe', 'wb') as fp:\n",
    "    pickle.dump(data, fp)"
   ]
  },
  {
   "cell_type": "code",
   "execution_count": 42,
   "metadata": {},
   "outputs": [
    {
     "data": {
      "text/plain": [
       "<matplotlib.axes._subplots.AxesSubplot at 0x7f26ad7003c8>"
      ]
     },
     "execution_count": 42,
     "metadata": {},
     "output_type": "execute_result"
    },
    {
     "data": {
      "image/png": "[encoded data removed]",
      "text/plain": [
       "<Figure size 432x288 with 1 Axes>"
      ]
     },
     "metadata": {
      "needs_background": "light"
     },
     "output_type": "display_data"
    }
   ],
   "source": [
    "import seaborn as sns\n",
    "sns.countplot(x = 'target', data = data)"
   ]
  },
  {
   "cell_type": "code",
   "execution_count": 43,
   "metadata": {},
   "outputs": [],
   "source": [
    "%load_ext autoreload\n",
    "%autoreload 2"
   ]
  },
  {
   "cell_type": "code",
   "execution_count": 44,
   "metadata": {},
   "outputs": [],
   "source": [
    "%matplotlib inline"
   ]
  },
  {
   "cell_type": "code",
   "execution_count": 45,
   "metadata": {},
   "outputs": [],
   "source": [
    "# DataFrame\n",
    "import pandas as pd\n",
    "\n",
    "# Matplotlib\n",
    "import matplotlib.pyplot as plt\n",
    "%matplotlib inline\n",
    "\n",
    "# Scikit-learn\n",
    "from sklearn.model_selection import train_test_split\n",
    "from sklearn.preprocessing import LabelEncoder\n",
    "from sklearn.metrics import confusion_matrix, classification_report, accuracy_score\n",
    "from sklearn.manifold import TSNE\n",
    "from sklearn.feature_extraction.text import TfidfVectorizer"
   ]
  },
  {
   "cell_type": "code",
   "execution_count": 51,
   "metadata": {},
   "outputs": [],
   "source": [
    "# Keras\n",
    "from keras.preprocessing.text import Tokenizer\n",
    "from keras.preprocessing.sequence import pad_sequences\n",
    "from keras.models import Sequential\n",
    "from keras.layers import Activation, Dense, Dropout, Embedding, Flatten, Conv1D, MaxPooling1D, LSTM\n",
    "from keras import utils\n",
    "from keras.callbacks import ReduceLROnPlateau, EarlyStopping"
   ]
  },
  {
   "cell_type": "code",
   "execution_count": 52,
   "metadata": {},
   "outputs": [],
   "source": [
    "# nltk\n",
    "import nltk\n",
    "from nltk.corpus import stopwords\n",
    "from  nltk.stem import SnowballStemmer\n",
    "\n",
    "# Word2vec\n",
    "import gensim"
   ]
  },
  {
   "cell_type": "code",
   "execution_count": 53,
   "metadata": {},
   "outputs": [],
   "source": [
    "# Utility\n",
    "import re\n",
    "import numpy as np\n",
    "import os\n",
    "from collections import Counter\n",
    "import logging\n",
    "import time\n",
    "import pickle\n",
    "import itertools"
   ]
  },
  {
   "cell_type": "code",
   "execution_count": 54,
   "metadata": {},
   "outputs": [],
   "source": [
    "# Set log\n",
    "logging.basicConfig(format='%(asctime)s : %(levelname)s : %(message)s', level=logging.INFO)"
   ]
  },
  {
   "cell_type": "code",
   "execution_count": 58,
   "metadata": {},
   "outputs": [],
   "source": [
    "# DATASET\n",
    "DATASET_ENCODING = \"ISO-8859-1\"\n",
    "TRAIN_SIZE = 0.8\n",
    "\n",
    "# TEXT CLENAING\n",
    "TEXT_CLEANING_RE = \"@\\S+|https?:\\S+|http?:\\S|[^A-Za-z0-9]+\"\n",
    "\n",
    "# WORD2VEC \n",
    "W2V_SIZE = 300\n",
    "W2V_WINDOW = 7\n",
    "W2V_EPOCH = 32\n",
    "W2V_MIN_COUNT = 10\n",
    "\n",
    "# KERAS\n",
    "SEQUENCE_LENGTH = 300\n",
    "EPOCHS = 8\n",
    "BATCH_SIZE = 1024\n",
    "\n",
    "# EXPORT\n",
    "KERAS_MODEL = \"model_classifier.h5\"\n",
    "WORD2VEC_MODEL = \"model_classifier.w2v\"\n",
    "TOKENIZER_MODEL = \"tokenizer_classifier.pkl\"\n",
    "ENCODER_MODEL = \"encoder_classifier.pkl\""
   ]
  },
  {
   "cell_type": "code",
   "execution_count": 59,
   "metadata": {},
   "outputs": [
    {
     "data": {
      "text/html": [
       "<div>\n",
       "<style scoped>\n",
       "    .dataframe tbody tr th:only-of-type {\n",
       "        vertical-align: middle;\n",
       "    }\n",
       "\n",
       "    .dataframe tbody tr th {\n",
       "        vertical-align: top;\n",
       "    }\n",
       "\n",
       "    .dataframe thead th {\n",
       "        text-align: right;\n",
       "    }\n",
       "</style>\n",
       "<table border=\"1\" class=\"dataframe\">\n",
       "  <thead>\n",
       "    <tr style=\"text-align: right;\">\n",
       "      <th></th>\n",
       "      <th>StoryID</th>\n",
       "      <th>Excerpt</th>\n",
       "      <th>Excerpt_pre</th>\n",
       "      <th>Excerpt_tokenized</th>\n",
       "      <th>Excerpt_nonstop</th>\n",
       "      <th>Excerpt_stemmed</th>\n",
       "      <th>Excerpt_lemmatized</th>\n",
       "      <th>Excerpt_clean</th>\n",
       "      <th>target</th>\n",
       "    </tr>\n",
       "  </thead>\n",
       "  <tbody>\n",
       "    <tr>\n",
       "      <th>2292</th>\n",
       "      <td>NI2424</td>\n",
       "      <td>If Lemus an El Camino College communications s...</td>\n",
       "      <td>lemus el camino college communications student...</td>\n",
       "      <td>['lemus', 'el', 'camino', 'college', 'communic...</td>\n",
       "      <td>['lemus', 'el', 'camino', 'college', 'communic...</td>\n",
       "      <td>['lemu', 'el', 'camino', 'colleg', 'commun', '...</td>\n",
       "      <td>['lemus', 'el', 'camino', 'college', 'communic...</td>\n",
       "      <td>['lemu', 'el', 'camino', 'colleg', 'commun', '...</td>\n",
       "      <td>Not Accountable</td>\n",
       "    </tr>\n",
       "    <tr>\n",
       "      <th>6577</th>\n",
       "      <td>NI1755</td>\n",
       "      <td>Questions about violent entertainment gained n...</td>\n",
       "      <td>questions violent entertainment gained new urg...</td>\n",
       "      <td>['questions', 'violent', 'entertainment', 'gai...</td>\n",
       "      <td>['questions', 'violent', 'entertainment', 'gai...</td>\n",
       "      <td>['question', 'violent', 'entertain', 'gain', '...</td>\n",
       "      <td>['question', 'violent', 'entertainment', 'gain...</td>\n",
       "      <td>['question', 'violent', 'entertain', 'gain', '...</td>\n",
       "      <td>Cultural</td>\n",
       "    </tr>\n",
       "    <tr>\n",
       "      <th>4613</th>\n",
       "      <td>NI3175</td>\n",
       "      <td>Jackson who attended a Saturday vigil in Isla ...</td>\n",
       "      <td>jackson attended saturday vigil isla vista sai...</td>\n",
       "      <td>['jackson', 'attended', 'saturday', 'vigil', '...</td>\n",
       "      <td>['jackson', 'attended', 'saturday', 'vigil', '...</td>\n",
       "      <td>['jackson', 'attend', 'saturday', 'vigil', 'is...</td>\n",
       "      <td>['jackson', 'attended', 'saturday', 'vigil', '...</td>\n",
       "      <td>['jackson', 'attend', 'saturday', 'vigil', 'is...</td>\n",
       "      <td>Not Accountable</td>\n",
       "    </tr>\n",
       "    <tr>\n",
       "      <th>6332</th>\n",
       "      <td>NI2983</td>\n",
       "      <td>It was a sentiment shared by Chens mother Kell...</td>\n",
       "      <td>sentiment shared chens mother kelly wang lelan...</td>\n",
       "      <td>['sentiment', 'shared', 'chens', 'mother', 'ke...</td>\n",
       "      <td>['sentiment', 'shared', 'chens', 'mother', 'ke...</td>\n",
       "      <td>['sentiment', 'share', 'chen', 'mother', 'kell...</td>\n",
       "      <td>['sentiment', 'shared', 'chen', 'mother', 'kel...</td>\n",
       "      <td>['sentiment', 'share', 'chen', 'mother', 'kell...</td>\n",
       "      <td>Not Accountable</td>\n",
       "    </tr>\n",
       "    <tr>\n",
       "      <th>5245</th>\n",
       "      <td>NI2628</td>\n",
       "      <td>Today her father Dan Cooper will remember that...</td>\n",
       "      <td>today father dan cooper remember spirit spends...</td>\n",
       "      <td>['today', 'father', 'dan', 'cooper', 'remember...</td>\n",
       "      <td>['today', 'father', 'dan', 'cooper', 'remember...</td>\n",
       "      <td>['today', 'father', 'dan', 'cooper', 'rememb',...</td>\n",
       "      <td>['today', 'father', 'dan', 'cooper', 'remember...</td>\n",
       "      <td>['today', 'father', 'dan', 'cooper', 'rememb',...</td>\n",
       "      <td>Not Accountable</td>\n",
       "    </tr>\n",
       "  </tbody>\n",
       "</table>\n",
       "</div>"
      ],
      "text/plain": [
       "     StoryID                                            Excerpt  \\\n",
       "2292  NI2424  If Lemus an El Camino College communications s...   \n",
       "6577  NI1755  Questions about violent entertainment gained n...   \n",
       "4613  NI3175  Jackson who attended a Saturday vigil in Isla ...   \n",
       "6332  NI2983  It was a sentiment shared by Chens mother Kell...   \n",
       "5245  NI2628  Today her father Dan Cooper will remember that...   \n",
       "\n",
       "                                            Excerpt_pre  \\\n",
       "2292  lemus el camino college communications student...   \n",
       "6577  questions violent entertainment gained new urg...   \n",
       "4613  jackson attended saturday vigil isla vista sai...   \n",
       "6332  sentiment shared chens mother kelly wang lelan...   \n",
       "5245  today father dan cooper remember spirit spends...   \n",
       "\n",
       "                                      Excerpt_tokenized  \\\n",
       "2292  ['lemus', 'el', 'camino', 'college', 'communic...   \n",
       "6577  ['questions', 'violent', 'entertainment', 'gai...   \n",
       "4613  ['jackson', 'attended', 'saturday', 'vigil', '...   \n",
       "6332  ['sentiment', 'shared', 'chens', 'mother', 'ke...   \n",
       "5245  ['today', 'father', 'dan', 'cooper', 'remember...   \n",
       "\n",
       "                                        Excerpt_nonstop  \\\n",
       "2292  ['lemus', 'el', 'camino', 'college', 'communic...   \n",
       "6577  ['questions', 'violent', 'entertainment', 'gai...   \n",
       "4613  ['jackson', 'attended', 'saturday', 'vigil', '...   \n",
       "6332  ['sentiment', 'shared', 'chens', 'mother', 'ke...   \n",
       "5245  ['today', 'father', 'dan', 'cooper', 'remember...   \n",
       "\n",
       "                                        Excerpt_stemmed  \\\n",
       "2292  ['lemu', 'el', 'camino', 'colleg', 'commun', '...   \n",
       "6577  ['question', 'violent', 'entertain', 'gain', '...   \n",
       "4613  ['jackson', 'attend', 'saturday', 'vigil', 'is...   \n",
       "6332  ['sentiment', 'share', 'chen', 'mother', 'kell...   \n",
       "5245  ['today', 'father', 'dan', 'cooper', 'rememb',...   \n",
       "\n",
       "                                     Excerpt_lemmatized  \\\n",
       "2292  ['lemus', 'el', 'camino', 'college', 'communic...   \n",
       "6577  ['question', 'violent', 'entertainment', 'gain...   \n",
       "4613  ['jackson', 'attended', 'saturday', 'vigil', '...   \n",
       "6332  ['sentiment', 'shared', 'chen', 'mother', 'kel...   \n",
       "5245  ['today', 'father', 'dan', 'cooper', 'remember...   \n",
       "\n",
       "                                          Excerpt_clean           target  \n",
       "2292  ['lemu', 'el', 'camino', 'colleg', 'commun', '...  Not Accountable  \n",
       "6577  ['question', 'violent', 'entertain', 'gain', '...         Cultural  \n",
       "4613  ['jackson', 'attend', 'saturday', 'vigil', 'is...  Not Accountable  \n",
       "6332  ['sentiment', 'share', 'chen', 'mother', 'kell...  Not Accountable  \n",
       "5245  ['today', 'father', 'dan', 'cooper', 'rememb',...  Not Accountable  "
      ]
     },
     "execution_count": 59,
     "metadata": {},
     "output_type": "execute_result"
    }
   ],
   "source": [
    "data.head()"
   ]
  },
  {
   "cell_type": "code",
   "execution_count": 60,
   "metadata": {},
   "outputs": [],
   "source": [
    "stop_words = stopwords.words(\"english\")\n",
    "stemmer = SnowballStemmer(\"english\")"
   ]
  },
  {
   "cell_type": "code",
   "execution_count": 61,
   "metadata": {},
   "outputs": [],
   "source": [
    "def preprocess(text, stem=False):\n",
    "    # Remove link,user and special characters\n",
    "    text = re.sub(TEXT_CLEANING_RE, ' ', str(text).lower()).strip()\n",
    "    tokens = []\n",
    "    for token in text.split():\n",
    "        if token not in stop_words:\n",
    "            if stem:\n",
    "                tokens.append(stemmer.stem(token))\n",
    "            else:\n",
    "                tokens.append(token)\n",
    "    return \" \".join(tokens)"
   ]
  },
  {
   "cell_type": "code",
   "execution_count": 62,
   "metadata": {},
   "outputs": [
    {
     "name": "stdout",
     "output_type": "stream",
     "text": [
      "CPU times: user 1.91 s, sys: 3.4 ms, total: 1.91 s\n",
      "Wall time: 1.91 s\n"
     ]
    }
   ],
   "source": [
    "%%time\n",
    "data.Excerpt = data.Excerpt.apply(lambda x: preprocess(x))"
   ]
  },
  {
   "cell_type": "code",
   "execution_count": 63,
   "metadata": {},
   "outputs": [
    {
     "data": {
      "text/plain": [
       "Index(['StoryID', 'Excerpt', 'Excerpt_pre', 'Excerpt_tokenized',\n",
       "       'Excerpt_nonstop', 'Excerpt_stemmed', 'Excerpt_lemmatized',\n",
       "       'Excerpt_clean', 'target'],\n",
       "      dtype='object')"
      ]
     },
     "execution_count": 63,
     "metadata": {},
     "output_type": "execute_result"
    }
   ],
   "source": [
    "data.columns"
   ]
  },
  {
   "cell_type": "code",
   "execution_count": 64,
   "metadata": {},
   "outputs": [
    {
     "name": "stdout",
     "output_type": "stream",
     "text": [
      "TRAIN size: 6504\n",
      "TEST size: 1627\n"
     ]
    }
   ],
   "source": [
    "df_train, df_test = train_test_split(data, test_size=1-TRAIN_SIZE, random_state=42)\n",
    "print(\"TRAIN size:\", len(df_train))\n",
    "print(\"TEST size:\", len(df_test))"
   ]
  },
  {
   "cell_type": "code",
   "execution_count": 65,
   "metadata": {},
   "outputs": [
    {
     "name": "stdout",
     "output_type": "stream",
     "text": [
      "CPU times: user 39.1 ms, sys: 7.98 ms, total: 47.1 ms\n",
      "Wall time: 46.3 ms\n"
     ]
    }
   ],
   "source": [
    "%%time\n",
    "documents = [_text.split() for _text in df_train.Excerpt] "
   ]
  },
  {
   "cell_type": "code",
   "execution_count": 66,
   "metadata": {},
   "outputs": [],
   "source": [
    "w2v_model = gensim.models.word2vec.Word2Vec(size=W2V_SIZE, \n",
    "                                            window=W2V_WINDOW, \n",
    "                                            min_count=W2V_MIN_COUNT, \n",
    "                                            workers=8)"
   ]
  },
  {
   "cell_type": "code",
   "execution_count": 67,
   "metadata": {},
   "outputs": [
    {
     "name": "stderr",
     "output_type": "stream",
     "text": [
      "2019-04-06 18:44:03,358 : INFO : collecting all words and their counts\n",
      "2019-04-06 18:44:03,359 : INFO : PROGRESS: at sentence #0, processed 0 words, keeping 0 word types\n",
      "2019-04-06 18:44:03,423 : INFO : collected 12038 word types from a corpus of 312153 raw words and 6504 sentences\n",
      "2019-04-06 18:44:03,424 : INFO : Loading a fresh vocabulary\n",
      "2019-04-06 18:44:03,437 : INFO : effective_min_count=10 retains 3914 unique words (32% of original 12038, drops 8124)\n",
      "2019-04-06 18:44:03,438 : INFO : effective_min_count=10 leaves 288980 word corpus (92% of original 312153, drops 23173)\n",
      "2019-04-06 18:44:03,451 : INFO : deleting the raw counts dictionary of 12038 items\n",
      "2019-04-06 18:44:03,452 : INFO : sample=0.001 downsamples 42 most-common words\n",
      "2019-04-06 18:44:03,453 : INFO : downsampling leaves estimated 269005 word corpus (93.1% of prior 288980)\n",
      "2019-04-06 18:44:03,462 : INFO : estimated required memory for 3914 words and 300 dimensions: 11350600 bytes\n",
      "2019-04-06 18:44:03,463 : INFO : resetting layer weights\n"
     ]
    }
   ],
   "source": [
    "w2v_model.build_vocab(documents)"
   ]
  },
  {
   "cell_type": "code",
   "execution_count": 68,
   "metadata": {},
   "outputs": [
    {
     "name": "stdout",
     "output_type": "stream",
     "text": [
      "Vocab size 3914\n"
     ]
    }
   ],
   "source": [
    "words = w2v_model.wv.vocab.keys()\n",
    "vocab_size = len(words)\n",
    "print(\"Vocab size\", vocab_size)"
   ]
  },
  {
   "cell_type": "code",
   "execution_count": 69,
   "metadata": {},
   "outputs": [
    {
     "name": "stderr",
     "output_type": "stream",
     "text": [
      "2019-04-06 18:44:21,720 : INFO : training model with 8 workers on 3914 vocabulary and 300 features, using sg=0 hs=0 sample=0.001 negative=5 window=7\n",
      "2019-04-06 18:44:21,964 : INFO : worker thread finished; awaiting finish of 7 more threads\n",
      "2019-04-06 18:44:21,966 : INFO : worker thread finished; awaiting finish of 6 more threads\n",
      "2019-04-06 18:44:21,968 : INFO : worker thread finished; awaiting finish of 5 more threads\n",
      "2019-04-06 18:44:21,970 : INFO : worker thread finished; awaiting finish of 4 more threads\n",
      "2019-04-06 18:44:21,973 : INFO : worker thread finished; awaiting finish of 3 more threads\n",
      "2019-04-06 18:44:21,974 : INFO : worker thread finished; awaiting finish of 2 more threads\n",
      "2019-04-06 18:44:21,985 : INFO : worker thread finished; awaiting finish of 1 more threads\n",
      "2019-04-06 18:44:21,988 : INFO : worker thread finished; awaiting finish of 0 more threads\n",
      "2019-04-06 18:44:21,989 : INFO : EPOCH - 1 : training on 312153 raw words (269043 effective words) took 0.3s, 1035061 effective words/s\n",
      "2019-04-06 18:44:22,219 : INFO : worker thread finished; awaiting finish of 7 more threads\n",
      "2019-04-06 18:44:22,222 : INFO : worker thread finished; awaiting finish of 6 more threads\n",
      "2019-04-06 18:44:22,230 : INFO : worker thread finished; awaiting finish of 5 more threads\n",
      "2019-04-06 18:44:22,233 : INFO : worker thread finished; awaiting finish of 4 more threads\n",
      "2019-04-06 18:44:22,234 : INFO : worker thread finished; awaiting finish of 3 more threads\n",
      "2019-04-06 18:44:22,235 : INFO : worker thread finished; awaiting finish of 2 more threads\n",
      "2019-04-06 18:44:22,239 : INFO : worker thread finished; awaiting finish of 1 more threads\n",
      "2019-04-06 18:44:22,242 : INFO : worker thread finished; awaiting finish of 0 more threads\n",
      "2019-04-06 18:44:22,243 : INFO : EPOCH - 2 : training on 312153 raw words (269088 effective words) took 0.2s, 1090890 effective words/s\n",
      "2019-04-06 18:44:22,461 : INFO : worker thread finished; awaiting finish of 7 more threads\n",
      "2019-04-06 18:44:22,462 : INFO : worker thread finished; awaiting finish of 6 more threads\n",
      "2019-04-06 18:44:22,470 : INFO : worker thread finished; awaiting finish of 5 more threads\n",
      "2019-04-06 18:44:22,473 : INFO : worker thread finished; awaiting finish of 4 more threads\n",
      "2019-04-06 18:44:22,477 : INFO : worker thread finished; awaiting finish of 3 more threads\n",
      "2019-04-06 18:44:22,486 : INFO : worker thread finished; awaiting finish of 2 more threads\n",
      "2019-04-06 18:44:22,493 : INFO : worker thread finished; awaiting finish of 1 more threads\n",
      "2019-04-06 18:44:22,495 : INFO : worker thread finished; awaiting finish of 0 more threads\n",
      "2019-04-06 18:44:22,496 : INFO : EPOCH - 3 : training on 312153 raw words (269150 effective words) took 0.2s, 1097244 effective words/s\n",
      "2019-04-06 18:44:22,734 : INFO : worker thread finished; awaiting finish of 7 more threads\n",
      "2019-04-06 18:44:22,736 : INFO : worker thread finished; awaiting finish of 6 more threads\n",
      "2019-04-06 18:44:22,737 : INFO : worker thread finished; awaiting finish of 5 more threads\n",
      "2019-04-06 18:44:22,739 : INFO : worker thread finished; awaiting finish of 4 more threads\n",
      "2019-04-06 18:44:22,742 : INFO : worker thread finished; awaiting finish of 3 more threads\n",
      "2019-04-06 18:44:22,743 : INFO : worker thread finished; awaiting finish of 2 more threads\n",
      "2019-04-06 18:44:22,752 : INFO : worker thread finished; awaiting finish of 1 more threads\n",
      "2019-04-06 18:44:22,757 : INFO : worker thread finished; awaiting finish of 0 more threads\n",
      "2019-04-06 18:44:22,757 : INFO : EPOCH - 4 : training on 312153 raw words (269065 effective words) took 0.3s, 1060133 effective words/s\n",
      "2019-04-06 18:44:22,992 : INFO : worker thread finished; awaiting finish of 7 more threads\n",
      "2019-04-06 18:44:22,997 : INFO : worker thread finished; awaiting finish of 6 more threads\n",
      "2019-04-06 18:44:22,998 : INFO : worker thread finished; awaiting finish of 5 more threads\n",
      "2019-04-06 18:44:22,999 : INFO : worker thread finished; awaiting finish of 4 more threads\n",
      "2019-04-06 18:44:23,002 : INFO : worker thread finished; awaiting finish of 3 more threads\n",
      "2019-04-06 18:44:23,006 : INFO : worker thread finished; awaiting finish of 2 more threads\n",
      "2019-04-06 18:44:23,007 : INFO : worker thread finished; awaiting finish of 1 more threads\n",
      "2019-04-06 18:44:23,011 : INFO : worker thread finished; awaiting finish of 0 more threads\n",
      "2019-04-06 18:44:23,012 : INFO : EPOCH - 5 : training on 312153 raw words (268917 effective words) took 0.2s, 1090822 effective words/s\n",
      "2019-04-06 18:44:23,242 : INFO : worker thread finished; awaiting finish of 7 more threads\n",
      "2019-04-06 18:44:23,246 : INFO : worker thread finished; awaiting finish of 6 more threads\n",
      "2019-04-06 18:44:23,247 : INFO : worker thread finished; awaiting finish of 5 more threads\n",
      "2019-04-06 18:44:23,249 : INFO : worker thread finished; awaiting finish of 4 more threads\n",
      "2019-04-06 18:44:23,260 : INFO : worker thread finished; awaiting finish of 3 more threads\n",
      "2019-04-06 18:44:23,262 : INFO : worker thread finished; awaiting finish of 2 more threads\n",
      "2019-04-06 18:44:23,264 : INFO : worker thread finished; awaiting finish of 1 more threads\n",
      "2019-04-06 18:44:23,266 : INFO : worker thread finished; awaiting finish of 0 more threads\n",
      "2019-04-06 18:44:23,267 : INFO : EPOCH - 6 : training on 312153 raw words (268997 effective words) took 0.2s, 1087838 effective words/s\n",
      "2019-04-06 18:44:23,512 : INFO : worker thread finished; awaiting finish of 7 more threads\n",
      "2019-04-06 18:44:23,516 : INFO : worker thread finished; awaiting finish of 6 more threads\n",
      "2019-04-06 18:44:23,519 : INFO : worker thread finished; awaiting finish of 5 more threads\n",
      "2019-04-06 18:44:23,523 : INFO : worker thread finished; awaiting finish of 4 more threads\n",
      "2019-04-06 18:44:23,526 : INFO : worker thread finished; awaiting finish of 3 more threads\n",
      "2019-04-06 18:44:23,527 : INFO : worker thread finished; awaiting finish of 2 more threads\n",
      "2019-04-06 18:44:23,531 : INFO : worker thread finished; awaiting finish of 1 more threads\n",
      "2019-04-06 18:44:23,535 : INFO : worker thread finished; awaiting finish of 0 more threads\n",
      "2019-04-06 18:44:23,536 : INFO : EPOCH - 7 : training on 312153 raw words (268960 effective words) took 0.3s, 1025894 effective words/s\n",
      "2019-04-06 18:44:23,785 : INFO : worker thread finished; awaiting finish of 7 more threads\n",
      "2019-04-06 18:44:23,787 : INFO : worker thread finished; awaiting finish of 6 more threads\n",
      "2019-04-06 18:44:23,789 : INFO : worker thread finished; awaiting finish of 5 more threads\n",
      "2019-04-06 18:44:23,791 : INFO : worker thread finished; awaiting finish of 4 more threads\n",
      "2019-04-06 18:44:23,796 : INFO : worker thread finished; awaiting finish of 3 more threads\n",
      "2019-04-06 18:44:23,798 : INFO : worker thread finished; awaiting finish of 2 more threads\n",
      "2019-04-06 18:44:23,803 : INFO : worker thread finished; awaiting finish of 1 more threads\n",
      "2019-04-06 18:44:23,804 : INFO : worker thread finished; awaiting finish of 0 more threads\n",
      "2019-04-06 18:44:23,805 : INFO : EPOCH - 8 : training on 312153 raw words (268955 effective words) took 0.3s, 1031941 effective words/s\n",
      "2019-04-06 18:44:24,012 : INFO : worker thread finished; awaiting finish of 7 more threads\n",
      "2019-04-06 18:44:24,023 : INFO : worker thread finished; awaiting finish of 6 more threads\n",
      "2019-04-06 18:44:24,025 : INFO : worker thread finished; awaiting finish of 5 more threads\n",
      "2019-04-06 18:44:24,030 : INFO : worker thread finished; awaiting finish of 4 more threads\n",
      "2019-04-06 18:44:24,032 : INFO : worker thread finished; awaiting finish of 3 more threads\n",
      "2019-04-06 18:44:24,036 : INFO : worker thread finished; awaiting finish of 2 more threads\n",
      "2019-04-06 18:44:24,042 : INFO : worker thread finished; awaiting finish of 1 more threads\n",
      "2019-04-06 18:44:24,045 : INFO : worker thread finished; awaiting finish of 0 more threads\n",
      "2019-04-06 18:44:24,046 : INFO : EPOCH - 9 : training on 312153 raw words (268944 effective words) took 0.2s, 1152667 effective words/s\n",
      "2019-04-06 18:44:24,255 : INFO : worker thread finished; awaiting finish of 7 more threads\n",
      "2019-04-06 18:44:24,258 : INFO : worker thread finished; awaiting finish of 6 more threads\n",
      "2019-04-06 18:44:24,267 : INFO : worker thread finished; awaiting finish of 5 more threads\n"
     ]
    },
    {
     "name": "stderr",
     "output_type": "stream",
     "text": [
      "2019-04-06 18:44:24,268 : INFO : worker thread finished; awaiting finish of 4 more threads\n",
      "2019-04-06 18:44:24,270 : INFO : worker thread finished; awaiting finish of 3 more threads\n",
      "2019-04-06 18:44:24,278 : INFO : worker thread finished; awaiting finish of 2 more threads\n",
      "2019-04-06 18:44:24,281 : INFO : worker thread finished; awaiting finish of 1 more threads\n",
      "2019-04-06 18:44:24,286 : INFO : worker thread finished; awaiting finish of 0 more threads\n",
      "2019-04-06 18:44:24,287 : INFO : EPOCH - 10 : training on 312153 raw words (269044 effective words) took 0.2s, 1146302 effective words/s\n",
      "2019-04-06 18:44:24,502 : INFO : worker thread finished; awaiting finish of 7 more threads\n",
      "2019-04-06 18:44:24,511 : INFO : worker thread finished; awaiting finish of 6 more threads\n",
      "2019-04-06 18:44:24,512 : INFO : worker thread finished; awaiting finish of 5 more threads\n",
      "2019-04-06 18:44:24,514 : INFO : worker thread finished; awaiting finish of 4 more threads\n",
      "2019-04-06 18:44:24,520 : INFO : worker thread finished; awaiting finish of 3 more threads\n",
      "2019-04-06 18:44:24,523 : INFO : worker thread finished; awaiting finish of 2 more threads\n",
      "2019-04-06 18:44:24,533 : INFO : worker thread finished; awaiting finish of 1 more threads\n",
      "2019-04-06 18:44:24,536 : INFO : worker thread finished; awaiting finish of 0 more threads\n",
      "2019-04-06 18:44:24,536 : INFO : EPOCH - 11 : training on 312153 raw words (269009 effective words) took 0.2s, 1107975 effective words/s\n",
      "2019-04-06 18:44:24,752 : INFO : worker thread finished; awaiting finish of 7 more threads\n",
      "2019-04-06 18:44:24,758 : INFO : worker thread finished; awaiting finish of 6 more threads\n",
      "2019-04-06 18:44:24,761 : INFO : worker thread finished; awaiting finish of 5 more threads\n",
      "2019-04-06 18:44:24,762 : INFO : worker thread finished; awaiting finish of 4 more threads\n",
      "2019-04-06 18:44:24,766 : INFO : worker thread finished; awaiting finish of 3 more threads\n",
      "2019-04-06 18:44:24,773 : INFO : worker thread finished; awaiting finish of 2 more threads\n",
      "2019-04-06 18:44:24,775 : INFO : worker thread finished; awaiting finish of 1 more threads\n",
      "2019-04-06 18:44:24,781 : INFO : worker thread finished; awaiting finish of 0 more threads\n",
      "2019-04-06 18:44:24,782 : INFO : EPOCH - 12 : training on 312153 raw words (268968 effective words) took 0.2s, 1127241 effective words/s\n",
      "2019-04-06 18:44:24,985 : INFO : worker thread finished; awaiting finish of 7 more threads\n",
      "2019-04-06 18:44:24,990 : INFO : worker thread finished; awaiting finish of 6 more threads\n",
      "2019-04-06 18:44:24,993 : INFO : worker thread finished; awaiting finish of 5 more threads\n",
      "2019-04-06 18:44:24,996 : INFO : worker thread finished; awaiting finish of 4 more threads\n",
      "2019-04-06 18:44:25,001 : INFO : worker thread finished; awaiting finish of 3 more threads\n",
      "2019-04-06 18:44:25,003 : INFO : worker thread finished; awaiting finish of 2 more threads\n",
      "2019-04-06 18:44:25,008 : INFO : worker thread finished; awaiting finish of 1 more threads\n",
      "2019-04-06 18:44:25,011 : INFO : worker thread finished; awaiting finish of 0 more threads\n",
      "2019-04-06 18:44:25,012 : INFO : EPOCH - 13 : training on 312153 raw words (268929 effective words) took 0.2s, 1202512 effective words/s\n",
      "2019-04-06 18:44:25,224 : INFO : worker thread finished; awaiting finish of 7 more threads\n",
      "2019-04-06 18:44:25,231 : INFO : worker thread finished; awaiting finish of 6 more threads\n",
      "2019-04-06 18:44:25,233 : INFO : worker thread finished; awaiting finish of 5 more threads\n",
      "2019-04-06 18:44:25,234 : INFO : worker thread finished; awaiting finish of 4 more threads\n",
      "2019-04-06 18:44:25,238 : INFO : worker thread finished; awaiting finish of 3 more threads\n",
      "2019-04-06 18:44:25,243 : INFO : worker thread finished; awaiting finish of 2 more threads\n",
      "2019-04-06 18:44:25,251 : INFO : worker thread finished; awaiting finish of 1 more threads\n",
      "2019-04-06 18:44:25,254 : INFO : worker thread finished; awaiting finish of 0 more threads\n",
      "2019-04-06 18:44:25,255 : INFO : EPOCH - 14 : training on 312153 raw words (268871 effective words) took 0.2s, 1138012 effective words/s\n",
      "2019-04-06 18:44:25,459 : INFO : worker thread finished; awaiting finish of 7 more threads\n",
      "2019-04-06 18:44:25,468 : INFO : worker thread finished; awaiting finish of 6 more threads\n",
      "2019-04-06 18:44:25,469 : INFO : worker thread finished; awaiting finish of 5 more threads\n",
      "2019-04-06 18:44:25,476 : INFO : worker thread finished; awaiting finish of 4 more threads\n",
      "2019-04-06 18:44:25,478 : INFO : worker thread finished; awaiting finish of 3 more threads\n",
      "2019-04-06 18:44:25,486 : INFO : worker thread finished; awaiting finish of 2 more threads\n",
      "2019-04-06 18:44:25,487 : INFO : worker thread finished; awaiting finish of 1 more threads\n",
      "2019-04-06 18:44:25,493 : INFO : worker thread finished; awaiting finish of 0 more threads\n",
      "2019-04-06 18:44:25,494 : INFO : EPOCH - 15 : training on 312153 raw words (268884 effective words) took 0.2s, 1161273 effective words/s\n",
      "2019-04-06 18:44:25,704 : INFO : worker thread finished; awaiting finish of 7 more threads\n",
      "2019-04-06 18:44:25,713 : INFO : worker thread finished; awaiting finish of 6 more threads\n",
      "2019-04-06 18:44:25,716 : INFO : worker thread finished; awaiting finish of 5 more threads\n",
      "2019-04-06 18:44:25,717 : INFO : worker thread finished; awaiting finish of 4 more threads\n",
      "2019-04-06 18:44:25,727 : INFO : worker thread finished; awaiting finish of 3 more threads\n",
      "2019-04-06 18:44:25,730 : INFO : worker thread finished; awaiting finish of 2 more threads\n",
      "2019-04-06 18:44:25,731 : INFO : worker thread finished; awaiting finish of 1 more threads\n",
      "2019-04-06 18:44:25,737 : INFO : worker thread finished; awaiting finish of 0 more threads\n",
      "2019-04-06 18:44:25,738 : INFO : EPOCH - 16 : training on 312153 raw words (269012 effective words) took 0.2s, 1131967 effective words/s\n",
      "2019-04-06 18:44:25,962 : INFO : worker thread finished; awaiting finish of 7 more threads\n",
      "2019-04-06 18:44:25,964 : INFO : worker thread finished; awaiting finish of 6 more threads\n",
      "2019-04-06 18:44:25,969 : INFO : worker thread finished; awaiting finish of 5 more threads\n",
      "2019-04-06 18:44:25,972 : INFO : worker thread finished; awaiting finish of 4 more threads\n",
      "2019-04-06 18:44:25,972 : INFO : worker thread finished; awaiting finish of 3 more threads\n",
      "2019-04-06 18:44:25,978 : INFO : worker thread finished; awaiting finish of 2 more threads\n",
      "2019-04-06 18:44:25,984 : INFO : worker thread finished; awaiting finish of 1 more threads\n",
      "2019-04-06 18:44:25,986 : INFO : worker thread finished; awaiting finish of 0 more threads\n",
      "2019-04-06 18:44:25,986 : INFO : EPOCH - 17 : training on 312153 raw words (268971 effective words) took 0.2s, 1112772 effective words/s\n",
      "2019-04-06 18:44:26,203 : INFO : worker thread finished; awaiting finish of 7 more threads\n",
      "2019-04-06 18:44:26,211 : INFO : worker thread finished; awaiting finish of 6 more threads\n",
      "2019-04-06 18:44:26,215 : INFO : worker thread finished; awaiting finish of 5 more threads\n",
      "2019-04-06 18:44:26,217 : INFO : worker thread finished; awaiting finish of 4 more threads\n",
      "2019-04-06 18:44:26,221 : INFO : worker thread finished; awaiting finish of 3 more threads\n",
      "2019-04-06 18:44:26,224 : INFO : worker thread finished; awaiting finish of 2 more threads\n",
      "2019-04-06 18:44:26,238 : INFO : worker thread finished; awaiting finish of 1 more threads\n",
      "2019-04-06 18:44:26,245 : INFO : worker thread finished; awaiting finish of 0 more threads\n",
      "2019-04-06 18:44:26,246 : INFO : EPOCH - 18 : training on 312153 raw words (268920 effective words) took 0.3s, 1065838 effective words/s\n",
      "2019-04-06 18:44:26,448 : INFO : worker thread finished; awaiting finish of 7 more threads\n",
      "2019-04-06 18:44:26,453 : INFO : worker thread finished; awaiting finish of 6 more threads\n",
      "2019-04-06 18:44:26,459 : INFO : worker thread finished; awaiting finish of 5 more threads\n",
      "2019-04-06 18:44:26,460 : INFO : worker thread finished; awaiting finish of 4 more threads\n",
      "2019-04-06 18:44:26,465 : INFO : worker thread finished; awaiting finish of 3 more threads\n",
      "2019-04-06 18:44:26,466 : INFO : worker thread finished; awaiting finish of 2 more threads\n",
      "2019-04-06 18:44:26,472 : INFO : worker thread finished; awaiting finish of 1 more threads\n",
      "2019-04-06 18:44:26,476 : INFO : worker thread finished; awaiting finish of 0 more threads\n"
     ]
    },
    {
     "name": "stderr",
     "output_type": "stream",
     "text": [
      "2019-04-06 18:44:26,477 : INFO : EPOCH - 19 : training on 312153 raw words (269021 effective words) took 0.2s, 1197833 effective words/s\n",
      "2019-04-06 18:44:26,692 : INFO : worker thread finished; awaiting finish of 7 more threads\n",
      "2019-04-06 18:44:26,696 : INFO : worker thread finished; awaiting finish of 6 more threads\n",
      "2019-04-06 18:44:26,704 : INFO : worker thread finished; awaiting finish of 5 more threads\n",
      "2019-04-06 18:44:26,707 : INFO : worker thread finished; awaiting finish of 4 more threads\n",
      "2019-04-06 18:44:26,708 : INFO : worker thread finished; awaiting finish of 3 more threads\n",
      "2019-04-06 18:44:26,712 : INFO : worker thread finished; awaiting finish of 2 more threads\n",
      "2019-04-06 18:44:26,720 : INFO : worker thread finished; awaiting finish of 1 more threads\n",
      "2019-04-06 18:44:26,722 : INFO : worker thread finished; awaiting finish of 0 more threads\n",
      "2019-04-06 18:44:26,722 : INFO : EPOCH - 20 : training on 312153 raw words (269003 effective words) took 0.2s, 1126816 effective words/s\n",
      "2019-04-06 18:44:26,941 : INFO : worker thread finished; awaiting finish of 7 more threads\n",
      "2019-04-06 18:44:26,943 : INFO : worker thread finished; awaiting finish of 6 more threads\n",
      "2019-04-06 18:44:26,946 : INFO : worker thread finished; awaiting finish of 5 more threads\n",
      "2019-04-06 18:44:26,950 : INFO : worker thread finished; awaiting finish of 4 more threads\n",
      "2019-04-06 18:44:26,952 : INFO : worker thread finished; awaiting finish of 3 more threads\n",
      "2019-04-06 18:44:26,956 : INFO : worker thread finished; awaiting finish of 2 more threads\n",
      "2019-04-06 18:44:26,963 : INFO : worker thread finished; awaiting finish of 1 more threads\n",
      "2019-04-06 18:44:26,967 : INFO : worker thread finished; awaiting finish of 0 more threads\n",
      "2019-04-06 18:44:26,968 : INFO : EPOCH - 21 : training on 312153 raw words (269168 effective words) took 0.2s, 1127898 effective words/s\n",
      "2019-04-06 18:44:27,172 : INFO : worker thread finished; awaiting finish of 7 more threads\n",
      "2019-04-06 18:44:27,177 : INFO : worker thread finished; awaiting finish of 6 more threads\n",
      "2019-04-06 18:44:27,180 : INFO : worker thread finished; awaiting finish of 5 more threads\n",
      "2019-04-06 18:44:27,183 : INFO : worker thread finished; awaiting finish of 4 more threads\n",
      "2019-04-06 18:44:27,189 : INFO : worker thread finished; awaiting finish of 3 more threads\n",
      "2019-04-06 18:44:27,196 : INFO : worker thread finished; awaiting finish of 2 more threads\n",
      "2019-04-06 18:44:27,198 : INFO : worker thread finished; awaiting finish of 1 more threads\n",
      "2019-04-06 18:44:27,205 : INFO : worker thread finished; awaiting finish of 0 more threads\n",
      "2019-04-06 18:44:27,206 : INFO : EPOCH - 22 : training on 312153 raw words (269080 effective words) took 0.2s, 1163118 effective words/s\n",
      "2019-04-06 18:44:27,427 : INFO : worker thread finished; awaiting finish of 7 more threads\n",
      "2019-04-06 18:44:27,428 : INFO : worker thread finished; awaiting finish of 6 more threads\n",
      "2019-04-06 18:44:27,436 : INFO : worker thread finished; awaiting finish of 5 more threads\n",
      "2019-04-06 18:44:27,437 : INFO : worker thread finished; awaiting finish of 4 more threads\n",
      "2019-04-06 18:44:27,441 : INFO : worker thread finished; awaiting finish of 3 more threads\n",
      "2019-04-06 18:44:27,443 : INFO : worker thread finished; awaiting finish of 2 more threads\n",
      "2019-04-06 18:44:27,448 : INFO : worker thread finished; awaiting finish of 1 more threads\n",
      "2019-04-06 18:44:27,454 : INFO : worker thread finished; awaiting finish of 0 more threads\n",
      "2019-04-06 18:44:27,455 : INFO : EPOCH - 23 : training on 312153 raw words (269111 effective words) took 0.2s, 1109650 effective words/s\n",
      "2019-04-06 18:44:27,671 : INFO : worker thread finished; awaiting finish of 7 more threads\n",
      "2019-04-06 18:44:27,673 : INFO : worker thread finished; awaiting finish of 6 more threads\n",
      "2019-04-06 18:44:27,678 : INFO : worker thread finished; awaiting finish of 5 more threads\n",
      "2019-04-06 18:44:27,681 : INFO : worker thread finished; awaiting finish of 4 more threads\n",
      "2019-04-06 18:44:27,683 : INFO : worker thread finished; awaiting finish of 3 more threads\n",
      "2019-04-06 18:44:27,687 : INFO : worker thread finished; awaiting finish of 2 more threads\n",
      "2019-04-06 18:44:27,696 : INFO : worker thread finished; awaiting finish of 1 more threads\n",
      "2019-04-06 18:44:27,700 : INFO : worker thread finished; awaiting finish of 0 more threads\n",
      "2019-04-06 18:44:27,701 : INFO : EPOCH - 24 : training on 312153 raw words (268976 effective words) took 0.2s, 1125411 effective words/s\n",
      "2019-04-06 18:44:27,912 : INFO : worker thread finished; awaiting finish of 7 more threads\n",
      "2019-04-06 18:44:27,924 : INFO : worker thread finished; awaiting finish of 6 more threads\n",
      "2019-04-06 18:44:27,926 : INFO : worker thread finished; awaiting finish of 5 more threads\n",
      "2019-04-06 18:44:27,927 : INFO : worker thread finished; awaiting finish of 4 more threads\n",
      "2019-04-06 18:44:27,932 : INFO : worker thread finished; awaiting finish of 3 more threads\n",
      "2019-04-06 18:44:27,934 : INFO : worker thread finished; awaiting finish of 2 more threads\n",
      "2019-04-06 18:44:27,945 : INFO : worker thread finished; awaiting finish of 1 more threads\n",
      "2019-04-06 18:44:27,946 : INFO : worker thread finished; awaiting finish of 0 more threads\n",
      "2019-04-06 18:44:27,947 : INFO : EPOCH - 25 : training on 312153 raw words (269117 effective words) took 0.2s, 1123793 effective words/s\n",
      "2019-04-06 18:44:28,148 : INFO : worker thread finished; awaiting finish of 7 more threads\n",
      "2019-04-06 18:44:28,152 : INFO : worker thread finished; awaiting finish of 6 more threads\n",
      "2019-04-06 18:44:28,157 : INFO : worker thread finished; awaiting finish of 5 more threads\n",
      "2019-04-06 18:44:28,159 : INFO : worker thread finished; awaiting finish of 4 more threads\n",
      "2019-04-06 18:44:28,166 : INFO : worker thread finished; awaiting finish of 3 more threads\n",
      "2019-04-06 18:44:28,171 : INFO : worker thread finished; awaiting finish of 2 more threads\n",
      "2019-04-06 18:44:28,173 : INFO : worker thread finished; awaiting finish of 1 more threads\n",
      "2019-04-06 18:44:28,176 : INFO : worker thread finished; awaiting finish of 0 more threads\n",
      "2019-04-06 18:44:28,177 : INFO : EPOCH - 26 : training on 312153 raw words (269051 effective words) took 0.2s, 1207575 effective words/s\n",
      "2019-04-06 18:44:28,385 : INFO : worker thread finished; awaiting finish of 7 more threads\n",
      "2019-04-06 18:44:28,387 : INFO : worker thread finished; awaiting finish of 6 more threads\n",
      "2019-04-06 18:44:28,394 : INFO : worker thread finished; awaiting finish of 5 more threads\n",
      "2019-04-06 18:44:28,396 : INFO : worker thread finished; awaiting finish of 4 more threads\n",
      "2019-04-06 18:44:28,399 : INFO : worker thread finished; awaiting finish of 3 more threads\n",
      "2019-04-06 18:44:28,406 : INFO : worker thread finished; awaiting finish of 2 more threads\n",
      "2019-04-06 18:44:28,407 : INFO : worker thread finished; awaiting finish of 1 more threads\n",
      "2019-04-06 18:44:28,415 : INFO : worker thread finished; awaiting finish of 0 more threads\n",
      "2019-04-06 18:44:28,416 : INFO : EPOCH - 27 : training on 312153 raw words (268822 effective words) took 0.2s, 1153479 effective words/s\n",
      "2019-04-06 18:44:28,635 : INFO : worker thread finished; awaiting finish of 7 more threads\n",
      "2019-04-06 18:44:28,637 : INFO : worker thread finished; awaiting finish of 6 more threads\n",
      "2019-04-06 18:44:28,640 : INFO : worker thread finished; awaiting finish of 5 more threads\n",
      "2019-04-06 18:44:28,642 : INFO : worker thread finished; awaiting finish of 4 more threads\n",
      "2019-04-06 18:44:28,644 : INFO : worker thread finished; awaiting finish of 3 more threads\n",
      "2019-04-06 18:44:28,647 : INFO : worker thread finished; awaiting finish of 2 more threads\n",
      "2019-04-06 18:44:28,654 : INFO : worker thread finished; awaiting finish of 1 more threads\n",
      "2019-04-06 18:44:28,657 : INFO : worker thread finished; awaiting finish of 0 more threads\n",
      "2019-04-06 18:44:28,657 : INFO : EPOCH - 28 : training on 312153 raw words (269048 effective words) took 0.2s, 1147464 effective words/s\n",
      "2019-04-06 18:44:28,861 : INFO : worker thread finished; awaiting finish of 7 more threads\n",
      "2019-04-06 18:44:28,871 : INFO : worker thread finished; awaiting finish of 6 more threads\n",
      "2019-04-06 18:44:28,872 : INFO : worker thread finished; awaiting finish of 5 more threads\n"
     ]
    },
    {
     "name": "stderr",
     "output_type": "stream",
     "text": [
      "2019-04-06 18:44:28,877 : INFO : worker thread finished; awaiting finish of 4 more threads\n",
      "2019-04-06 18:44:28,879 : INFO : worker thread finished; awaiting finish of 3 more threads\n",
      "2019-04-06 18:44:28,888 : INFO : worker thread finished; awaiting finish of 2 more threads\n",
      "2019-04-06 18:44:28,889 : INFO : worker thread finished; awaiting finish of 1 more threads\n",
      "2019-04-06 18:44:28,890 : INFO : worker thread finished; awaiting finish of 0 more threads\n",
      "2019-04-06 18:44:28,891 : INFO : EPOCH - 29 : training on 312153 raw words (268922 effective words) took 0.2s, 1184359 effective words/s\n",
      "2019-04-06 18:44:29,098 : INFO : worker thread finished; awaiting finish of 7 more threads\n",
      "2019-04-06 18:44:29,107 : INFO : worker thread finished; awaiting finish of 6 more threads\n",
      "2019-04-06 18:44:29,109 : INFO : worker thread finished; awaiting finish of 5 more threads\n",
      "2019-04-06 18:44:29,110 : INFO : worker thread finished; awaiting finish of 4 more threads\n",
      "2019-04-06 18:44:29,115 : INFO : worker thread finished; awaiting finish of 3 more threads\n",
      "2019-04-06 18:44:29,118 : INFO : worker thread finished; awaiting finish of 2 more threads\n",
      "2019-04-06 18:44:29,123 : INFO : worker thread finished; awaiting finish of 1 more threads\n",
      "2019-04-06 18:44:29,125 : INFO : worker thread finished; awaiting finish of 0 more threads\n",
      "2019-04-06 18:44:29,126 : INFO : EPOCH - 30 : training on 312153 raw words (269114 effective words) took 0.2s, 1183514 effective words/s\n",
      "2019-04-06 18:44:29,353 : INFO : worker thread finished; awaiting finish of 7 more threads\n",
      "2019-04-06 18:44:29,354 : INFO : worker thread finished; awaiting finish of 6 more threads\n",
      "2019-04-06 18:44:29,362 : INFO : worker thread finished; awaiting finish of 5 more threads\n",
      "2019-04-06 18:44:29,363 : INFO : worker thread finished; awaiting finish of 4 more threads\n",
      "2019-04-06 18:44:29,365 : INFO : worker thread finished; awaiting finish of 3 more threads\n",
      "2019-04-06 18:44:29,369 : INFO : worker thread finished; awaiting finish of 2 more threads\n",
      "2019-04-06 18:44:29,376 : INFO : worker thread finished; awaiting finish of 1 more threads\n",
      "2019-04-06 18:44:29,383 : INFO : worker thread finished; awaiting finish of 0 more threads\n",
      "2019-04-06 18:44:29,384 : INFO : EPOCH - 31 : training on 312153 raw words (269132 effective words) took 0.3s, 1071017 effective words/s\n",
      "2019-04-06 18:44:29,590 : INFO : worker thread finished; awaiting finish of 7 more threads\n",
      "2019-04-06 18:44:29,598 : INFO : worker thread finished; awaiting finish of 6 more threads\n",
      "2019-04-06 18:44:29,601 : INFO : worker thread finished; awaiting finish of 5 more threads\n",
      "2019-04-06 18:44:29,605 : INFO : worker thread finished; awaiting finish of 4 more threads\n",
      "2019-04-06 18:44:29,606 : INFO : worker thread finished; awaiting finish of 3 more threads\n",
      "2019-04-06 18:44:29,611 : INFO : worker thread finished; awaiting finish of 2 more threads\n",
      "2019-04-06 18:44:29,614 : INFO : worker thread finished; awaiting finish of 1 more threads\n",
      "2019-04-06 18:44:29,620 : INFO : worker thread finished; awaiting finish of 0 more threads\n",
      "2019-04-06 18:44:29,621 : INFO : EPOCH - 32 : training on 312153 raw words (268979 effective words) took 0.2s, 1167721 effective words/s\n",
      "2019-04-06 18:44:29,622 : INFO : training on a 9988896 raw words (8608271 effective words) took 7.9s, 1089533 effective words/s\n"
     ]
    },
    {
     "name": "stdout",
     "output_type": "stream",
     "text": [
      "CPU times: user 45.6 s, sys: 257 ms, total: 45.9 s\n",
      "Wall time: 7.9 s\n"
     ]
    },
    {
     "data": {
      "text/plain": [
       "(8608271, 9988896)"
      ]
     },
     "execution_count": 69,
     "metadata": {},
     "output_type": "execute_result"
    }
   ],
   "source": [
    "%%time\n",
    "w2v_model.train(documents, total_examples=len(documents), epochs=W2V_EPOCH)"
   ]
  },
  {
   "cell_type": "code",
   "execution_count": 70,
   "metadata": {},
   "outputs": [
    {
     "name": "stderr",
     "output_type": "stream",
     "text": [
      "/home/spriyanshu723/anaconda3/envs/fastai-cpu/lib/python3.6/site-packages/ipykernel_launcher.py:1: DeprecationWarning: Call to deprecated `most_similar` (Method will be removed in 4.0.0, use self.wv.most_similar() instead).\n",
      "  \"\"\"Entry point for launching an IPython kernel.\n",
      "2019-04-06 18:44:40,158 : INFO : precomputing L2-norms of word weight vectors\n"
     ]
    },
    {
     "data": {
      "text/plain": [
       "[('guncontrol', 0.5564261674880981),\n",
       " ('modeled', 0.5461101531982422),\n",
       " ('stricter', 0.5342475771903992),\n",
       " ('domestic', 0.4778067469596863),\n",
       " ('commonsense', 0.46823641657829285),\n",
       " ('advocates', 0.43422478437423706),\n",
       " ('preventing', 0.4315454363822937),\n",
       " ('reduce', 0.4276154041290283),\n",
       " ('advocate', 0.42603158950805664),\n",
       " ('similar', 0.41607946157455444)]"
      ]
     },
     "execution_count": 70,
     "metadata": {},
     "output_type": "execute_result"
    }
   ],
   "source": [
    "w2v_model.most_similar(\"gun\")"
   ]
  },
  {
   "cell_type": "code",
   "execution_count": 71,
   "metadata": {},
   "outputs": [
    {
     "name": "stdout",
     "output_type": "stream",
     "text": [
      "Total words 12039\n",
      "CPU times: user 277 ms, sys: 12 ms, total: 289 ms\n",
      "Wall time: 288 ms\n"
     ]
    }
   ],
   "source": [
    "%%time\n",
    "tokenizer = Tokenizer()\n",
    "tokenizer.fit_on_texts(df_train.Excerpt)\n",
    "\n",
    "vocab_size = len(tokenizer.word_index) + 1\n",
    "print(\"Total words\", vocab_size)"
   ]
  },
  {
   "cell_type": "code",
   "execution_count": 73,
   "metadata": {},
   "outputs": [
    {
     "name": "stdout",
     "output_type": "stream",
     "text": [
      "CPU times: user 316 ms, sys: 3.98 ms, total: 320 ms\n",
      "Wall time: 320 ms\n"
     ]
    }
   ],
   "source": [
    "%%time\n",
    "x_train = pad_sequences(tokenizer.texts_to_sequences(df_train.Excerpt), maxlen=SEQUENCE_LENGTH)\n",
    "x_test = pad_sequences(tokenizer.texts_to_sequences(df_test.Excerpt), maxlen=SEQUENCE_LENGTH)"
   ]
  },
  {
   "cell_type": "code",
   "execution_count": 74,
   "metadata": {},
   "outputs": [
    {
     "data": {
      "text/html": [
       "<div>\n",
       "<style scoped>\n",
       "    .dataframe tbody tr th:only-of-type {\n",
       "        vertical-align: middle;\n",
       "    }\n",
       "\n",
       "    .dataframe tbody tr th {\n",
       "        vertical-align: top;\n",
       "    }\n",
       "\n",
       "    .dataframe thead th {\n",
       "        text-align: right;\n",
       "    }\n",
       "</style>\n",
       "<table border=\"1\" class=\"dataframe\">\n",
       "  <thead>\n",
       "    <tr style=\"text-align: right;\">\n",
       "      <th></th>\n",
       "      <th>StoryID</th>\n",
       "      <th>Excerpt</th>\n",
       "      <th>Excerpt_pre</th>\n",
       "      <th>Excerpt_tokenized</th>\n",
       "      <th>Excerpt_nonstop</th>\n",
       "      <th>Excerpt_stemmed</th>\n",
       "      <th>Excerpt_lemmatized</th>\n",
       "      <th>Excerpt_clean</th>\n",
       "      <th>target</th>\n",
       "    </tr>\n",
       "  </thead>\n",
       "  <tbody>\n",
       "    <tr>\n",
       "      <th>2292</th>\n",
       "      <td>NI2424</td>\n",
       "      <td>lemus el camino college communications student...</td>\n",
       "      <td>lemus el camino college communications student...</td>\n",
       "      <td>['lemus', 'el', 'camino', 'college', 'communic...</td>\n",
       "      <td>['lemus', 'el', 'camino', 'college', 'communic...</td>\n",
       "      <td>['lemu', 'el', 'camino', 'colleg', 'commun', '...</td>\n",
       "      <td>['lemus', 'el', 'camino', 'college', 'communic...</td>\n",
       "      <td>['lemu', 'el', 'camino', 'colleg', 'commun', '...</td>\n",
       "      <td>Not Accountable</td>\n",
       "    </tr>\n",
       "    <tr>\n",
       "      <th>6577</th>\n",
       "      <td>NI1755</td>\n",
       "      <td>questions violent entertainment gained new urg...</td>\n",
       "      <td>questions violent entertainment gained new urg...</td>\n",
       "      <td>['questions', 'violent', 'entertainment', 'gai...</td>\n",
       "      <td>['questions', 'violent', 'entertainment', 'gai...</td>\n",
       "      <td>['question', 'violent', 'entertain', 'gain', '...</td>\n",
       "      <td>['question', 'violent', 'entertainment', 'gain...</td>\n",
       "      <td>['question', 'violent', 'entertain', 'gain', '...</td>\n",
       "      <td>Cultural</td>\n",
       "    </tr>\n",
       "    <tr>\n",
       "      <th>4613</th>\n",
       "      <td>NI3175</td>\n",
       "      <td>jackson attended saturday vigil isla vista sai...</td>\n",
       "      <td>jackson attended saturday vigil isla vista sai...</td>\n",
       "      <td>['jackson', 'attended', 'saturday', 'vigil', '...</td>\n",
       "      <td>['jackson', 'attended', 'saturday', 'vigil', '...</td>\n",
       "      <td>['jackson', 'attend', 'saturday', 'vigil', 'is...</td>\n",
       "      <td>['jackson', 'attended', 'saturday', 'vigil', '...</td>\n",
       "      <td>['jackson', 'attend', 'saturday', 'vigil', 'is...</td>\n",
       "      <td>Not Accountable</td>\n",
       "    </tr>\n",
       "    <tr>\n",
       "      <th>6332</th>\n",
       "      <td>NI2983</td>\n",
       "      <td>sentiment shared chens mother kelly wang lelan...</td>\n",
       "      <td>sentiment shared chens mother kelly wang lelan...</td>\n",
       "      <td>['sentiment', 'shared', 'chens', 'mother', 'ke...</td>\n",
       "      <td>['sentiment', 'shared', 'chens', 'mother', 'ke...</td>\n",
       "      <td>['sentiment', 'share', 'chen', 'mother', 'kell...</td>\n",
       "      <td>['sentiment', 'shared', 'chen', 'mother', 'kel...</td>\n",
       "      <td>['sentiment', 'share', 'chen', 'mother', 'kell...</td>\n",
       "      <td>Not Accountable</td>\n",
       "    </tr>\n",
       "    <tr>\n",
       "      <th>5245</th>\n",
       "      <td>NI2628</td>\n",
       "      <td>today father dan cooper remember spirit spends...</td>\n",
       "      <td>today father dan cooper remember spirit spends...</td>\n",
       "      <td>['today', 'father', 'dan', 'cooper', 'remember...</td>\n",
       "      <td>['today', 'father', 'dan', 'cooper', 'remember...</td>\n",
       "      <td>['today', 'father', 'dan', 'cooper', 'rememb',...</td>\n",
       "      <td>['today', 'father', 'dan', 'cooper', 'remember...</td>\n",
       "      <td>['today', 'father', 'dan', 'cooper', 'rememb',...</td>\n",
       "      <td>Not Accountable</td>\n",
       "    </tr>\n",
       "  </tbody>\n",
       "</table>\n",
       "</div>"
      ],
      "text/plain": [
       "     StoryID                                            Excerpt  \\\n",
       "2292  NI2424  lemus el camino college communications student...   \n",
       "6577  NI1755  questions violent entertainment gained new urg...   \n",
       "4613  NI3175  jackson attended saturday vigil isla vista sai...   \n",
       "6332  NI2983  sentiment shared chens mother kelly wang lelan...   \n",
       "5245  NI2628  today father dan cooper remember spirit spends...   \n",
       "\n",
       "                                            Excerpt_pre  \\\n",
       "2292  lemus el camino college communications student...   \n",
       "6577  questions violent entertainment gained new urg...   \n",
       "4613  jackson attended saturday vigil isla vista sai...   \n",
       "6332  sentiment shared chens mother kelly wang lelan...   \n",
       "5245  today father dan cooper remember spirit spends...   \n",
       "\n",
       "                                      Excerpt_tokenized  \\\n",
       "2292  ['lemus', 'el', 'camino', 'college', 'communic...   \n",
       "6577  ['questions', 'violent', 'entertainment', 'gai...   \n",
       "4613  ['jackson', 'attended', 'saturday', 'vigil', '...   \n",
       "6332  ['sentiment', 'shared', 'chens', 'mother', 'ke...   \n",
       "5245  ['today', 'father', 'dan', 'cooper', 'remember...   \n",
       "\n",
       "                                        Excerpt_nonstop  \\\n",
       "2292  ['lemus', 'el', 'camino', 'college', 'communic...   \n",
       "6577  ['questions', 'violent', 'entertainment', 'gai...   \n",
       "4613  ['jackson', 'attended', 'saturday', 'vigil', '...   \n",
       "6332  ['sentiment', 'shared', 'chens', 'mother', 'ke...   \n",
       "5245  ['today', 'father', 'dan', 'cooper', 'remember...   \n",
       "\n",
       "                                        Excerpt_stemmed  \\\n",
       "2292  ['lemu', 'el', 'camino', 'colleg', 'commun', '...   \n",
       "6577  ['question', 'violent', 'entertain', 'gain', '...   \n",
       "4613  ['jackson', 'attend', 'saturday', 'vigil', 'is...   \n",
       "6332  ['sentiment', 'share', 'chen', 'mother', 'kell...   \n",
       "5245  ['today', 'father', 'dan', 'cooper', 'rememb',...   \n",
       "\n",
       "                                     Excerpt_lemmatized  \\\n",
       "2292  ['lemus', 'el', 'camino', 'college', 'communic...   \n",
       "6577  ['question', 'violent', 'entertainment', 'gain...   \n",
       "4613  ['jackson', 'attended', 'saturday', 'vigil', '...   \n",
       "6332  ['sentiment', 'shared', 'chen', 'mother', 'kel...   \n",
       "5245  ['today', 'father', 'dan', 'cooper', 'remember...   \n",
       "\n",
       "                                          Excerpt_clean           target  \n",
       "2292  ['lemu', 'el', 'camino', 'colleg', 'commun', '...  Not Accountable  \n",
       "6577  ['question', 'violent', 'entertain', 'gain', '...         Cultural  \n",
       "4613  ['jackson', 'attend', 'saturday', 'vigil', 'is...  Not Accountable  \n",
       "6332  ['sentiment', 'share', 'chen', 'mother', 'kell...  Not Accountable  \n",
       "5245  ['today', 'father', 'dan', 'cooper', 'rememb',...  Not Accountable  "
      ]
     },
     "execution_count": 74,
     "metadata": {},
     "output_type": "execute_result"
    }
   ],
   "source": [
    "data.head()"
   ]
  },
  {
   "cell_type": "code",
   "execution_count": 75,
   "metadata": {},
   "outputs": [
    {
     "data": {
      "text/plain": [
       "['Not Accountable', 'Individual', 'Cultural', 'CI', 'Other', 'IO']"
      ]
     },
     "execution_count": 75,
     "metadata": {},
     "output_type": "execute_result"
    }
   ],
   "source": [
    "labels = df_train.target.unique().tolist()\n",
    "labels"
   ]
  },
  {
   "cell_type": "code",
   "execution_count": 76,
   "metadata": {},
   "outputs": [
    {
     "data": {
      "text/plain": [
       "LabelEncoder()"
      ]
     },
     "execution_count": 76,
     "metadata": {},
     "output_type": "execute_result"
    }
   ],
   "source": [
    "encoder = LabelEncoder()\n",
    "encoder.fit(df_train.target.tolist())"
   ]
  },
  {
   "cell_type": "code",
   "execution_count": 77,
   "metadata": {},
   "outputs": [],
   "source": [
    "y_train = encoder.transform(df_train.target.tolist())\n",
    "y_test = encoder.transform(df_test.target.tolist())"
   ]
  },
  {
   "cell_type": "code",
   "execution_count": 78,
   "metadata": {},
   "outputs": [],
   "source": [
    "y_train = y_train.reshape(-1,1)\n",
    "y_test = y_test.reshape(-1,1)"
   ]
  },
  {
   "cell_type": "code",
   "execution_count": 79,
   "metadata": {},
   "outputs": [
    {
     "name": "stdout",
     "output_type": "stream",
     "text": [
      "y_train (6504, 1)\n",
      "y_test (1627, 1)\n"
     ]
    }
   ],
   "source": [
    "print(\"y_train\",y_train.shape)\n",
    "print(\"y_test\",y_test.shape)"
   ]
  },
  {
   "cell_type": "code",
   "execution_count": 80,
   "metadata": {},
   "outputs": [
    {
     "name": "stdout",
     "output_type": "stream",
     "text": [
      "x_train (6504, 300)\n",
      "y_train (6504, 1)\n",
      "\n",
      "x_test (1627, 300)\n",
      "y_test (1627, 1)\n"
     ]
    }
   ],
   "source": [
    "print(\"x_train\", x_train.shape)\n",
    "print(\"y_train\", y_train.shape)\n",
    "print()\n",
    "print(\"x_test\", x_test.shape)\n",
    "print(\"y_test\", y_test.shape)"
   ]
  },
  {
   "cell_type": "code",
   "execution_count": 81,
   "metadata": {},
   "outputs": [
    {
     "data": {
      "text/plain": [
       "array([[4],\n",
       "       [3],\n",
       "       [4],\n",
       "       [4],\n",
       "       [4],\n",
       "       [4],\n",
       "       [1],\n",
       "       [4],\n",
       "       [4],\n",
       "       [3]])"
      ]
     },
     "execution_count": 81,
     "metadata": {},
     "output_type": "execute_result"
    }
   ],
   "source": [
    "y_train[:10]"
   ]
  },
  {
   "cell_type": "code",
   "execution_count": 82,
   "metadata": {},
   "outputs": [
    {
     "name": "stdout",
     "output_type": "stream",
     "text": [
      "(12039, 300)\n"
     ]
    }
   ],
   "source": [
    "embedding_matrix = np.zeros((vocab_size, W2V_SIZE))\n",
    "for word, i in tokenizer.word_index.items():\n",
    "    if word in w2v_model.wv:\n",
    "        embedding_matrix[i] = w2v_model.wv[word]\n",
    "print(embedding_matrix.shape)"
   ]
  },
  {
   "cell_type": "code",
   "execution_count": 83,
   "metadata": {},
   "outputs": [],
   "source": [
    "embedding_layer = Embedding(vocab_size, W2V_SIZE, weights=[embedding_matrix], input_length=SEQUENCE_LENGTH, trainable=False)"
   ]
  },
  {
   "cell_type": "code",
   "execution_count": 84,
   "metadata": {},
   "outputs": [
    {
     "name": "stdout",
     "output_type": "stream",
     "text": [
      "WARNING:tensorflow:From /home/spriyanshu723/anaconda3/envs/fastai-cpu/lib/python3.6/site-packages/tensorflow/python/framework/op_def_library.py:263: colocate_with (from tensorflow.python.framework.ops) is deprecated and will be removed in a future version.\n",
      "Instructions for updating:\n",
      "Colocations handled automatically by placer.\n"
     ]
    },
    {
     "name": "stderr",
     "output_type": "stream",
     "text": [
      "2019-04-06 18:47:09,034 : WARNING : From /home/spriyanshu723/anaconda3/envs/fastai-cpu/lib/python3.6/site-packages/tensorflow/python/framework/op_def_library.py:263: colocate_with (from tensorflow.python.framework.ops) is deprecated and will be removed in a future version.\n",
      "Instructions for updating:\n",
      "Colocations handled automatically by placer.\n"
     ]
    },
    {
     "name": "stdout",
     "output_type": "stream",
     "text": [
      "WARNING:tensorflow:From /home/spriyanshu723/anaconda3/envs/fastai-cpu/lib/python3.6/site-packages/keras/backend/tensorflow_backend.py:3445: calling dropout (from tensorflow.python.ops.nn_ops) with keep_prob is deprecated and will be removed in a future version.\n",
      "Instructions for updating:\n",
      "Please use `rate` instead of `keep_prob`. Rate should be set to `rate = 1 - keep_prob`.\n"
     ]
    },
    {
     "name": "stderr",
     "output_type": "stream",
     "text": [
      "2019-04-06 18:47:09,121 : WARNING : From /home/spriyanshu723/anaconda3/envs/fastai-cpu/lib/python3.6/site-packages/keras/backend/tensorflow_backend.py:3445: calling dropout (from tensorflow.python.ops.nn_ops) with keep_prob is deprecated and will be removed in a future version.\n",
      "Instructions for updating:\n",
      "Please use `rate` instead of `keep_prob`. Rate should be set to `rate = 1 - keep_prob`.\n"
     ]
    },
    {
     "name": "stdout",
     "output_type": "stream",
     "text": [
      "_________________________________________________________________\n",
      "Layer (type)                 Output Shape              Param #   \n",
      "=================================================================\n",
      "embedding_1 (Embedding)      (None, 300, 300)          3611700   \n",
      "_________________________________________________________________\n",
      "dropout_1 (Dropout)          (None, 300, 300)          0         \n",
      "_________________________________________________________________\n",
      "lstm_1 (LSTM)                (None, 100)               160400    \n",
      "_________________________________________________________________\n",
      "dense_1 (Dense)              (None, 1)                 101       \n",
      "=================================================================\n",
      "Total params: 3,772,201\n",
      "Trainable params: 160,501\n",
      "Non-trainable params: 3,611,700\n",
      "_________________________________________________________________\n"
     ]
    }
   ],
   "source": [
    "model = Sequential()\n",
    "model.add(embedding_layer)\n",
    "model.add(Dropout(0.5))\n",
    "model.add(LSTM(100, dropout=0.2, recurrent_dropout=0.2))\n",
    "model.add(Dense(1, activation='sigmoid'))\n",
    "\n",
    "model.summary()"
   ]
  },
  {
   "cell_type": "code",
   "execution_count": 85,
   "metadata": {},
   "outputs": [],
   "source": [
    "model.compile(loss='binary_crossentropy',\n",
    "              optimizer=\"adam\",\n",
    "              metrics=['accuracy'])"
   ]
  },
  {
   "cell_type": "code",
   "execution_count": 86,
   "metadata": {},
   "outputs": [],
   "source": [
    "callbacks = [ ReduceLROnPlateau(monitor='val_loss', patience=5, cooldown=0),\n",
    "              EarlyStopping(monitor='val_acc', min_delta=1e-4, patience=5)]"
   ]
  },
  {
   "cell_type": "code",
   "execution_count": 87,
   "metadata": {},
   "outputs": [
    {
     "name": "stdout",
     "output_type": "stream",
     "text": [
      "WARNING:tensorflow:From /home/spriyanshu723/anaconda3/envs/fastai-cpu/lib/python3.6/site-packages/tensorflow/python/ops/math_ops.py:3066: to_int32 (from tensorflow.python.ops.math_ops) is deprecated and will be removed in a future version.\n",
      "Instructions for updating:\n",
      "Use tf.cast instead.\n"
     ]
    },
    {
     "name": "stderr",
     "output_type": "stream",
     "text": [
      "2019-04-06 18:47:32,556 : WARNING : From /home/spriyanshu723/anaconda3/envs/fastai-cpu/lib/python3.6/site-packages/tensorflow/python/ops/math_ops.py:3066: to_int32 (from tensorflow.python.ops.math_ops) is deprecated and will be removed in a future version.\n",
      "Instructions for updating:\n",
      "Use tf.cast instead.\n"
     ]
    },
    {
     "name": "stdout",
     "output_type": "stream",
     "text": [
      "Train on 5853 samples, validate on 651 samples\n",
      "Epoch 1/8\n",
      "5853/5853 [==============================] - 28s 5ms/step - loss: -0.2426 - acc: 0.0803 - val_loss: -2.9484 - val_acc: 0.1106\n",
      "Epoch 2/8\n",
      "5853/5853 [==============================] - 26s 4ms/step - loss: -3.2881 - acc: 0.1083 - val_loss: -8.4531 - val_acc: 0.1290\n",
      "Epoch 3/8\n",
      "5853/5853 [==============================] - 26s 4ms/step - loss: -8.5237 - acc: 0.1160 - val_loss: -17.7788 - val_acc: 0.1290\n",
      "Epoch 4/8\n",
      "5853/5853 [==============================] - 26s 4ms/step - loss: -18.4365 - acc: 0.1172 - val_loss: -26.6197 - val_acc: 0.1290\n",
      "Epoch 5/8\n",
      "5853/5853 [==============================] - 26s 4ms/step - loss: -28.0711 - acc: 0.1172 - val_loss: -33.5323 - val_acc: 0.1290\n",
      "Epoch 6/8\n",
      "5853/5853 [==============================] - 26s 4ms/step - loss: -34.8273 - acc: 0.1172 - val_loss: -38.1802 - val_acc: 0.1290\n",
      "Epoch 7/8\n",
      "5853/5853 [==============================] - 27s 5ms/step - loss: -38.6500 - acc: 0.1172 - val_loss: -38.9867 - val_acc: 0.1290\n",
      "CPU times: user 15min 7s, sys: 3min 29s, total: 18min 36s\n",
      "Wall time: 3min 5s\n"
     ]
    }
   ],
   "source": [
    "%%time\n",
    "history = model.fit(x_train, y_train,\n",
    "                    batch_size=BATCH_SIZE,\n",
    "                    epochs=EPOCHS,\n",
    "                    validation_split=0.1,\n",
    "                    verbose=1,\n",
    "                    callbacks=callbacks)"
   ]
  },
  {
   "cell_type": "code",
   "execution_count": 88,
   "metadata": {},
   "outputs": [
    {
     "name": "stdout",
     "output_type": "stream",
     "text": [
      "1627/1627 [==============================] - 2s 1ms/step\n",
      "\n",
      "ACCURACY: 0.12845728313292765\n",
      "LOSS: -39.62337583226519\n",
      "CPU times: user 12 s, sys: 2.39 s, total: 14.4 s\n",
      "Wall time: 2.4 s\n"
     ]
    }
   ],
   "source": [
    "%%time\n",
    "score = model.evaluate(x_test, y_test, batch_size=BATCH_SIZE)\n",
    "print()\n",
    "print(\"ACCURACY:\",score[1])\n",
    "print(\"LOSS:\",score[0])"
   ]
  },
  {
   "cell_type": "code",
   "execution_count": 89,
   "metadata": {},
   "outputs": [
    {
     "data": {
      "image/png": "[encoded data removed]",
      "text/plain": [
       "<Figure size 432x288 with 1 Axes>"
      ]
     },
     "metadata": {
      "needs_background": "light"
     },
     "output_type": "display_data"
    },
    {
     "data": {
      "image/png": "[encoded data removed]",
      "text/plain": [
       "<Figure size 432x288 with 1 Axes>"
      ]
     },
     "metadata": {
      "needs_background": "light"
     },
     "output_type": "display_data"
    }
   ],
   "source": [
    "acc = history.history['acc']\n",
    "val_acc = history.history['val_acc']\n",
    "loss = history.history['loss']\n",
    "val_loss = history.history['val_loss']\n",
    " \n",
    "epochs = range(len(acc))\n",
    " \n",
    "plt.plot(epochs, acc, 'b', label='Training acc')\n",
    "plt.plot(epochs, val_acc, 'r', label='Validation acc')\n",
    "plt.title('Training and validation accuracy')\n",
    "plt.legend()\n",
    " \n",
    "plt.figure()\n",
    " \n",
    "plt.plot(epochs, loss, 'b', label='Training loss')\n",
    "plt.plot(epochs, val_loss, 'r', label='Validation loss')\n",
    "plt.title('Training and validation loss')\n",
    "plt.legend()\n",
    " \n",
    "plt.show()"
   ]
  }
 ],
 "metadata": {
  "kernelspec": {
   "display_name": "Python 3",
   "language": "python",
   "name": "python3"
  },
  "language_info": {
   "codemirror_mode": {
    "name": "ipython",
    "version": 3
   },
   "file_extension": ".py",
   "mimetype": "text/x-python",
   "name": "python",
   "nbconvert_exporter": "python",
   "pygments_lexer": "ipython3",
   "version": "3.6.8"
  }
 },
 "nbformat": 4,
 "nbformat_minor": 2
}
