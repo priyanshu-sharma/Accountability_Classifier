{
 "cells": [
  {
   "cell_type": "code",
   "execution_count": 1,
   "metadata": {},
   "outputs": [],
   "source": [
    "%load_ext autoreload\n",
    "%autoreload 2\n",
    "%matplotlib inline"
   ]
  },
  {
   "cell_type": "code",
   "execution_count": 2,
   "metadata": {},
   "outputs": [],
   "source": [
    "from fastai.nlp import *\n",
    "from sklearn.linear_model import LogisticRegression\n",
    "import pandas as pd\n",
    "import numpy as np"
   ]
  },
  {
   "cell_type": "code",
   "execution_count": 3,
   "metadata": {},
   "outputs": [
    {
     "data": {
      "text/html": [
       "<div>\n",
       "<style scoped>\n",
       "    .dataframe tbody tr th:only-of-type {\n",
       "        vertical-align: middle;\n",
       "    }\n",
       "\n",
       "    .dataframe tbody tr th {\n",
       "        vertical-align: top;\n",
       "    }\n",
       "\n",
       "    .dataframe thead th {\n",
       "        text-align: right;\n",
       "    }\n",
       "</style>\n",
       "<table border=\"1\" class=\"dataframe\">\n",
       "  <thead>\n",
       "    <tr style=\"text-align: right;\">\n",
       "      <th></th>\n",
       "      <th>Unnamed: 0</th>\n",
       "      <th>StoryID</th>\n",
       "      <th>Excerpt</th>\n",
       "      <th>CodesApplied_Combined</th>\n",
       "      <th>ACCOUNT</th>\n",
       "      <th>ACCOUNT_Cultural</th>\n",
       "      <th>ACCOUNT_Individual</th>\n",
       "      <th>ACCOUNT_Other</th>\n",
       "      <th>COMMUNITYRECOVERY</th>\n",
       "      <th>EVENT</th>\n",
       "      <th>...</th>\n",
       "      <th>TRAUMA_Societal</th>\n",
       "      <th>VICTIMS</th>\n",
       "      <th>word_count</th>\n",
       "      <th>char_count</th>\n",
       "      <th>Excerpt_pre</th>\n",
       "      <th>Excerpt_tokenized</th>\n",
       "      <th>Excerpt_nonstop</th>\n",
       "      <th>Excerpt_stemmed</th>\n",
       "      <th>Excerpt_lemmatized</th>\n",
       "      <th>Excerpt_clean</th>\n",
       "    </tr>\n",
       "  </thead>\n",
       "  <tbody>\n",
       "    <tr>\n",
       "      <th>0</th>\n",
       "      <td>7992</td>\n",
       "      <td>NI3079</td>\n",
       "      <td>Elliot Rodger Wangs roommate stabbed Wang and ...</td>\n",
       "      <td>EVENT</td>\n",
       "      <td>0</td>\n",
       "      <td>0</td>\n",
       "      <td>0</td>\n",
       "      <td>0</td>\n",
       "      <td>99</td>\n",
       "      <td>1</td>\n",
       "      <td>...</td>\n",
       "      <td>99</td>\n",
       "      <td>0</td>\n",
       "      <td>34</td>\n",
       "      <td>215.0</td>\n",
       "      <td>elliot rodger wangs roommate stabbed wang two ...</td>\n",
       "      <td>['elliot', 'rodger', 'wangs', 'roommate', 'sta...</td>\n",
       "      <td>['elliot', 'rodger', 'wangs', 'roommate', 'sta...</td>\n",
       "      <td>['elliot', 'rodger', 'wang', 'roommat', 'stab'...</td>\n",
       "      <td>['elliot', 'rodger', 'wangs', 'roommate', 'sta...</td>\n",
       "      <td>['elliot', 'rodger', 'wang', 'roommat', 'stab'...</td>\n",
       "    </tr>\n",
       "    <tr>\n",
       "      <th>1</th>\n",
       "      <td>4686</td>\n",
       "      <td>NI2689</td>\n",
       "      <td>Because the tragedy unfolded at the start of a...</td>\n",
       "      <td>RESOURCES</td>\n",
       "      <td>0</td>\n",
       "      <td>0</td>\n",
       "      <td>0</td>\n",
       "      <td>0</td>\n",
       "      <td>99</td>\n",
       "      <td>0</td>\n",
       "      <td>...</td>\n",
       "      <td>99</td>\n",
       "      <td>0</td>\n",
       "      <td>32</td>\n",
       "      <td>228.0</td>\n",
       "      <td>tragedy unfolded start holiday weekend school ...</td>\n",
       "      <td>['tragedy', 'unfolded', 'start', 'holiday', 'w...</td>\n",
       "      <td>['tragedy', 'unfolded', 'start', 'holiday', 'w...</td>\n",
       "      <td>['tragedi', 'unfold', 'start', 'holiday', 'wee...</td>\n",
       "      <td>['tragedy', 'unfolded', 'start', 'holiday', 'w...</td>\n",
       "      <td>['tragedi', 'unfold', 'start', 'holiday', 'wee...</td>\n",
       "    </tr>\n",
       "    <tr>\n",
       "      <th>2</th>\n",
       "      <td>6130</td>\n",
       "      <td>NI2400</td>\n",
       "      <td>Gunrelated restraining orders Also passed in r...</td>\n",
       "      <td>POLICY, POLICY- Guns, POLICY- Mental health</td>\n",
       "      <td>0</td>\n",
       "      <td>0</td>\n",
       "      <td>0</td>\n",
       "      <td>0</td>\n",
       "      <td>99</td>\n",
       "      <td>0</td>\n",
       "      <td>...</td>\n",
       "      <td>99</td>\n",
       "      <td>0</td>\n",
       "      <td>122</td>\n",
       "      <td>734.0</td>\n",
       "      <td>gunrelated restraining orders also passed resp...</td>\n",
       "      <td>['gunrelated', 'restraining', 'orders', 'also'...</td>\n",
       "      <td>['gunrelated', 'restraining', 'orders', 'also'...</td>\n",
       "      <td>['gunrel', 'restrain', 'order', 'also', 'pass'...</td>\n",
       "      <td>['gunrelated', 'restraining', 'order', 'also',...</td>\n",
       "      <td>['gunrel', 'restrain', 'order', 'also', 'pass'...</td>\n",
       "    </tr>\n",
       "    <tr>\n",
       "      <th>3</th>\n",
       "      <td>5876</td>\n",
       "      <td>NI1393</td>\n",
       "      <td>Linder said she will also remember Weiss for h...</td>\n",
       "      <td>VICTIMS, GRIEF/LOSS</td>\n",
       "      <td>0</td>\n",
       "      <td>0</td>\n",
       "      <td>0</td>\n",
       "      <td>0</td>\n",
       "      <td>99</td>\n",
       "      <td>0</td>\n",
       "      <td>...</td>\n",
       "      <td>99</td>\n",
       "      <td>1</td>\n",
       "      <td>100</td>\n",
       "      <td>499.0</td>\n",
       "      <td>linder said also remember weiss epic shot pool...</td>\n",
       "      <td>['linder', 'said', 'also', 'remember', 'weiss'...</td>\n",
       "      <td>['linder', 'said', 'also', 'remember', 'weiss'...</td>\n",
       "      <td>['linder', 'said', 'also', 'rememb', 'weiss', ...</td>\n",
       "      <td>['linder', 'said', 'also', 'remember', 'wei', ...</td>\n",
       "      <td>['linder', 'said', 'also', 'rememb', 'weiss', ...</td>\n",
       "    </tr>\n",
       "    <tr>\n",
       "      <th>4</th>\n",
       "      <td>4126</td>\n",
       "      <td>NI3259</td>\n",
       "      <td>I mean I know how this goes We all do Werent y...</td>\n",
       "      <td>ACCOUNTABILITY, ACCOUNT- Culture/societal risk...</td>\n",
       "      <td>1</td>\n",
       "      <td>1</td>\n",
       "      <td>0</td>\n",
       "      <td>0</td>\n",
       "      <td>99</td>\n",
       "      <td>0</td>\n",
       "      <td>...</td>\n",
       "      <td>99</td>\n",
       "      <td>0</td>\n",
       "      <td>85</td>\n",
       "      <td>425.0</td>\n",
       "      <td>mean know goes werent sort expecting father on...</td>\n",
       "      <td>['mean', 'know', 'goes', 'werent', 'sort', 'ex...</td>\n",
       "      <td>['mean', 'know', 'goes', 'werent', 'sort', 'ex...</td>\n",
       "      <td>['mean', 'know', 'goe', 'werent', 'sort', 'exp...</td>\n",
       "      <td>['mean', 'know', 'go', 'werent', 'sort', 'expe...</td>\n",
       "      <td>['mean', 'know', 'goe', 'werent', 'sort', 'exp...</td>\n",
       "    </tr>\n",
       "  </tbody>\n",
       "</table>\n",
       "<p>5 rows × 62 columns</p>\n",
       "</div>"
      ],
      "text/plain": [
       "   Unnamed: 0 StoryID                                            Excerpt  \\\n",
       "0        7992  NI3079  Elliot Rodger Wangs roommate stabbed Wang and ...   \n",
       "1        4686  NI2689  Because the tragedy unfolded at the start of a...   \n",
       "2        6130  NI2400  Gunrelated restraining orders Also passed in r...   \n",
       "3        5876  NI1393  Linder said she will also remember Weiss for h...   \n",
       "4        4126  NI3259  I mean I know how this goes We all do Werent y...   \n",
       "\n",
       "                               CodesApplied_Combined  ACCOUNT  \\\n",
       "0                                              EVENT        0   \n",
       "1                                          RESOURCES        0   \n",
       "2        POLICY, POLICY- Guns, POLICY- Mental health        0   \n",
       "3                                VICTIMS, GRIEF/LOSS        0   \n",
       "4  ACCOUNTABILITY, ACCOUNT- Culture/societal risk...        1   \n",
       "\n",
       "   ACCOUNT_Cultural  ACCOUNT_Individual  ACCOUNT_Other  COMMUNITYRECOVERY  \\\n",
       "0                 0                   0              0                 99   \n",
       "1                 0                   0              0                 99   \n",
       "2                 0                   0              0                 99   \n",
       "3                 0                   0              0                 99   \n",
       "4                 1                   0              0                 99   \n",
       "\n",
       "   EVENT  ...  TRAUMA_Societal  VICTIMS  word_count  char_count  \\\n",
       "0      1  ...               99        0          34       215.0   \n",
       "1      0  ...               99        0          32       228.0   \n",
       "2      0  ...               99        0         122       734.0   \n",
       "3      0  ...               99        1         100       499.0   \n",
       "4      0  ...               99        0          85       425.0   \n",
       "\n",
       "                                         Excerpt_pre  \\\n",
       "0  elliot rodger wangs roommate stabbed wang two ...   \n",
       "1  tragedy unfolded start holiday weekend school ...   \n",
       "2  gunrelated restraining orders also passed resp...   \n",
       "3  linder said also remember weiss epic shot pool...   \n",
       "4  mean know goes werent sort expecting father on...   \n",
       "\n",
       "                                   Excerpt_tokenized  \\\n",
       "0  ['elliot', 'rodger', 'wangs', 'roommate', 'sta...   \n",
       "1  ['tragedy', 'unfolded', 'start', 'holiday', 'w...   \n",
       "2  ['gunrelated', 'restraining', 'orders', 'also'...   \n",
       "3  ['linder', 'said', 'also', 'remember', 'weiss'...   \n",
       "4  ['mean', 'know', 'goes', 'werent', 'sort', 'ex...   \n",
       "\n",
       "                                     Excerpt_nonstop  \\\n",
       "0  ['elliot', 'rodger', 'wangs', 'roommate', 'sta...   \n",
       "1  ['tragedy', 'unfolded', 'start', 'holiday', 'w...   \n",
       "2  ['gunrelated', 'restraining', 'orders', 'also'...   \n",
       "3  ['linder', 'said', 'also', 'remember', 'weiss'...   \n",
       "4  ['mean', 'know', 'goes', 'werent', 'sort', 'ex...   \n",
       "\n",
       "                                     Excerpt_stemmed  \\\n",
       "0  ['elliot', 'rodger', 'wang', 'roommat', 'stab'...   \n",
       "1  ['tragedi', 'unfold', 'start', 'holiday', 'wee...   \n",
       "2  ['gunrel', 'restrain', 'order', 'also', 'pass'...   \n",
       "3  ['linder', 'said', 'also', 'rememb', 'weiss', ...   \n",
       "4  ['mean', 'know', 'goe', 'werent', 'sort', 'exp...   \n",
       "\n",
       "                                  Excerpt_lemmatized  \\\n",
       "0  ['elliot', 'rodger', 'wangs', 'roommate', 'sta...   \n",
       "1  ['tragedy', 'unfolded', 'start', 'holiday', 'w...   \n",
       "2  ['gunrelated', 'restraining', 'order', 'also',...   \n",
       "3  ['linder', 'said', 'also', 'remember', 'wei', ...   \n",
       "4  ['mean', 'know', 'go', 'werent', 'sort', 'expe...   \n",
       "\n",
       "                                       Excerpt_clean  \n",
       "0  ['elliot', 'rodger', 'wang', 'roommat', 'stab'...  \n",
       "1  ['tragedi', 'unfold', 'start', 'holiday', 'wee...  \n",
       "2  ['gunrel', 'restrain', 'order', 'also', 'pass'...  \n",
       "3  ['linder', 'said', 'also', 'rememb', 'weiss', ...  \n",
       "4  ['mean', 'know', 'goe', 'werent', 'sort', 'exp...  \n",
       "\n",
       "[5 rows x 62 columns]"
      ]
     },
     "execution_count": 3,
     "metadata": {},
     "output_type": "execute_result"
    }
   ],
   "source": [
    "data = pd.read_csv('redhen_preprocessed.csv')\n",
    "data.head()"
   ]
  },
  {
   "cell_type": "code",
   "execution_count": 4,
   "metadata": {},
   "outputs": [
    {
     "data": {
      "text/plain": [
       "(8131, 62)"
      ]
     },
     "execution_count": 4,
     "metadata": {},
     "output_type": "execute_result"
    }
   ],
   "source": [
    "data.shape"
   ]
  },
  {
   "cell_type": "code",
   "execution_count": 5,
   "metadata": {},
   "outputs": [
    {
     "data": {
      "text/plain": [
       "Index(['Unnamed: 0', 'StoryID', 'Excerpt', 'CodesApplied_Combined', 'ACCOUNT',\n",
       "       'ACCOUNT_Cultural', 'ACCOUNT_Individual', 'ACCOUNT_Other',\n",
       "       'COMMUNITYRECOVERY', 'EVENT', 'GRIEF', 'GRIEF_Individual',\n",
       "       'GRIEF_Community', 'GRIEF_Societal', 'HERO', 'INVESTIGATION', 'JOURNEY',\n",
       "       'JOURNEY_Mental', 'JOURNEY_Physical', 'LEGAL', 'MEDIA', 'MISCELLANEOUS',\n",
       "       'MOURNING', 'MOURNING_Individual', 'MOURNING_Community',\n",
       "       'MOURNING_Societal', 'PERPETRATOR', 'PHOTO', 'POLICY', 'POLICY_Guns',\n",
       "       'POLICY_InfoSharing', 'POLICY_MentalHealth', 'POLICY_Other',\n",
       "       'POLICY_VictimAdv', 'POLICY_OtherAdv', 'POLICY_Practice',\n",
       "       'PRIVATESECTOR', 'RACECULTURE', 'RESOURCES', 'SAFETY',\n",
       "       'SAFETY_Community', 'SAFETY_Individual', 'SAFETY_SchoolOrg',\n",
       "       'SAFETY_Societal', 'SOCIALSUPPORT', 'THREAT', 'THREAT_Assessment',\n",
       "       'TRAUMA', 'TRAUMA_Physical', 'TRAUMA_Psychological',\n",
       "       'TRAUMA_Individual', 'TRAUMA_Community', 'TRAUMA_Societal', 'VICTIMS',\n",
       "       'word_count', 'char_count', 'Excerpt_pre', 'Excerpt_tokenized',\n",
       "       'Excerpt_nonstop', 'Excerpt_stemmed', 'Excerpt_lemmatized',\n",
       "       'Excerpt_clean'],\n",
       "      dtype='object')"
      ]
     },
     "execution_count": 5,
     "metadata": {},
     "output_type": "execute_result"
    }
   ],
   "source": [
    "data.columns"
   ]
  },
  {
   "cell_type": "code",
   "execution_count": 6,
   "metadata": {},
   "outputs": [],
   "source": [
    "data = data[['StoryID', 'Excerpt', 'Excerpt_pre', 'Excerpt_tokenized',\n",
    "       'Excerpt_nonstop', 'Excerpt_stemmed', 'Excerpt_lemmatized',\n",
    "       'Excerpt_clean', 'ACCOUNT_Individual']]"
   ]
  },
  {
   "cell_type": "code",
   "execution_count": 7,
   "metadata": {},
   "outputs": [
    {
     "data": {
      "text/plain": [
       "(8131, 9)"
      ]
     },
     "execution_count": 7,
     "metadata": {},
     "output_type": "execute_result"
    }
   ],
   "source": [
    "data.shape"
   ]
  },
  {
   "cell_type": "code",
   "execution_count": 8,
   "metadata": {},
   "outputs": [
    {
     "data": {
      "text/html": [
       "<div>\n",
       "<style scoped>\n",
       "    .dataframe tbody tr th:only-of-type {\n",
       "        vertical-align: middle;\n",
       "    }\n",
       "\n",
       "    .dataframe tbody tr th {\n",
       "        vertical-align: top;\n",
       "    }\n",
       "\n",
       "    .dataframe thead th {\n",
       "        text-align: right;\n",
       "    }\n",
       "</style>\n",
       "<table border=\"1\" class=\"dataframe\">\n",
       "  <thead>\n",
       "    <tr style=\"text-align: right;\">\n",
       "      <th></th>\n",
       "      <th>StoryID</th>\n",
       "      <th>Excerpt</th>\n",
       "      <th>Excerpt_pre</th>\n",
       "      <th>Excerpt_tokenized</th>\n",
       "      <th>Excerpt_nonstop</th>\n",
       "      <th>Excerpt_stemmed</th>\n",
       "      <th>Excerpt_lemmatized</th>\n",
       "      <th>Excerpt_clean</th>\n",
       "      <th>ACCOUNT_Individual</th>\n",
       "    </tr>\n",
       "  </thead>\n",
       "  <tbody>\n",
       "    <tr>\n",
       "      <th>0</th>\n",
       "      <td>NI3079</td>\n",
       "      <td>Elliot Rodger Wangs roommate stabbed Wang and ...</td>\n",
       "      <td>elliot rodger wangs roommate stabbed wang two ...</td>\n",
       "      <td>['elliot', 'rodger', 'wangs', 'roommate', 'sta...</td>\n",
       "      <td>['elliot', 'rodger', 'wangs', 'roommate', 'sta...</td>\n",
       "      <td>['elliot', 'rodger', 'wang', 'roommat', 'stab'...</td>\n",
       "      <td>['elliot', 'rodger', 'wangs', 'roommate', 'sta...</td>\n",
       "      <td>['elliot', 'rodger', 'wang', 'roommat', 'stab'...</td>\n",
       "      <td>0</td>\n",
       "    </tr>\n",
       "    <tr>\n",
       "      <th>1</th>\n",
       "      <td>NI2689</td>\n",
       "      <td>Because the tragedy unfolded at the start of a...</td>\n",
       "      <td>tragedy unfolded start holiday weekend school ...</td>\n",
       "      <td>['tragedy', 'unfolded', 'start', 'holiday', 'w...</td>\n",
       "      <td>['tragedy', 'unfolded', 'start', 'holiday', 'w...</td>\n",
       "      <td>['tragedi', 'unfold', 'start', 'holiday', 'wee...</td>\n",
       "      <td>['tragedy', 'unfolded', 'start', 'holiday', 'w...</td>\n",
       "      <td>['tragedi', 'unfold', 'start', 'holiday', 'wee...</td>\n",
       "      <td>0</td>\n",
       "    </tr>\n",
       "    <tr>\n",
       "      <th>2</th>\n",
       "      <td>NI2400</td>\n",
       "      <td>Gunrelated restraining orders Also passed in r...</td>\n",
       "      <td>gunrelated restraining orders also passed resp...</td>\n",
       "      <td>['gunrelated', 'restraining', 'orders', 'also'...</td>\n",
       "      <td>['gunrelated', 'restraining', 'orders', 'also'...</td>\n",
       "      <td>['gunrel', 'restrain', 'order', 'also', 'pass'...</td>\n",
       "      <td>['gunrelated', 'restraining', 'order', 'also',...</td>\n",
       "      <td>['gunrel', 'restrain', 'order', 'also', 'pass'...</td>\n",
       "      <td>0</td>\n",
       "    </tr>\n",
       "    <tr>\n",
       "      <th>3</th>\n",
       "      <td>NI1393</td>\n",
       "      <td>Linder said she will also remember Weiss for h...</td>\n",
       "      <td>linder said also remember weiss epic shot pool...</td>\n",
       "      <td>['linder', 'said', 'also', 'remember', 'weiss'...</td>\n",
       "      <td>['linder', 'said', 'also', 'remember', 'weiss'...</td>\n",
       "      <td>['linder', 'said', 'also', 'rememb', 'weiss', ...</td>\n",
       "      <td>['linder', 'said', 'also', 'remember', 'wei', ...</td>\n",
       "      <td>['linder', 'said', 'also', 'rememb', 'weiss', ...</td>\n",
       "      <td>0</td>\n",
       "    </tr>\n",
       "    <tr>\n",
       "      <th>4</th>\n",
       "      <td>NI3259</td>\n",
       "      <td>I mean I know how this goes We all do Werent y...</td>\n",
       "      <td>mean know goes werent sort expecting father on...</td>\n",
       "      <td>['mean', 'know', 'goes', 'werent', 'sort', 'ex...</td>\n",
       "      <td>['mean', 'know', 'goes', 'werent', 'sort', 'ex...</td>\n",
       "      <td>['mean', 'know', 'goe', 'werent', 'sort', 'exp...</td>\n",
       "      <td>['mean', 'know', 'go', 'werent', 'sort', 'expe...</td>\n",
       "      <td>['mean', 'know', 'goe', 'werent', 'sort', 'exp...</td>\n",
       "      <td>0</td>\n",
       "    </tr>\n",
       "  </tbody>\n",
       "</table>\n",
       "</div>"
      ],
      "text/plain": [
       "  StoryID                                            Excerpt  \\\n",
       "0  NI3079  Elliot Rodger Wangs roommate stabbed Wang and ...   \n",
       "1  NI2689  Because the tragedy unfolded at the start of a...   \n",
       "2  NI2400  Gunrelated restraining orders Also passed in r...   \n",
       "3  NI1393  Linder said she will also remember Weiss for h...   \n",
       "4  NI3259  I mean I know how this goes We all do Werent y...   \n",
       "\n",
       "                                         Excerpt_pre  \\\n",
       "0  elliot rodger wangs roommate stabbed wang two ...   \n",
       "1  tragedy unfolded start holiday weekend school ...   \n",
       "2  gunrelated restraining orders also passed resp...   \n",
       "3  linder said also remember weiss epic shot pool...   \n",
       "4  mean know goes werent sort expecting father on...   \n",
       "\n",
       "                                   Excerpt_tokenized  \\\n",
       "0  ['elliot', 'rodger', 'wangs', 'roommate', 'sta...   \n",
       "1  ['tragedy', 'unfolded', 'start', 'holiday', 'w...   \n",
       "2  ['gunrelated', 'restraining', 'orders', 'also'...   \n",
       "3  ['linder', 'said', 'also', 'remember', 'weiss'...   \n",
       "4  ['mean', 'know', 'goes', 'werent', 'sort', 'ex...   \n",
       "\n",
       "                                     Excerpt_nonstop  \\\n",
       "0  ['elliot', 'rodger', 'wangs', 'roommate', 'sta...   \n",
       "1  ['tragedy', 'unfolded', 'start', 'holiday', 'w...   \n",
       "2  ['gunrelated', 'restraining', 'orders', 'also'...   \n",
       "3  ['linder', 'said', 'also', 'remember', 'weiss'...   \n",
       "4  ['mean', 'know', 'goes', 'werent', 'sort', 'ex...   \n",
       "\n",
       "                                     Excerpt_stemmed  \\\n",
       "0  ['elliot', 'rodger', 'wang', 'roommat', 'stab'...   \n",
       "1  ['tragedi', 'unfold', 'start', 'holiday', 'wee...   \n",
       "2  ['gunrel', 'restrain', 'order', 'also', 'pass'...   \n",
       "3  ['linder', 'said', 'also', 'rememb', 'weiss', ...   \n",
       "4  ['mean', 'know', 'goe', 'werent', 'sort', 'exp...   \n",
       "\n",
       "                                  Excerpt_lemmatized  \\\n",
       "0  ['elliot', 'rodger', 'wangs', 'roommate', 'sta...   \n",
       "1  ['tragedy', 'unfolded', 'start', 'holiday', 'w...   \n",
       "2  ['gunrelated', 'restraining', 'order', 'also',...   \n",
       "3  ['linder', 'said', 'also', 'remember', 'wei', ...   \n",
       "4  ['mean', 'know', 'go', 'werent', 'sort', 'expe...   \n",
       "\n",
       "                                       Excerpt_clean  ACCOUNT_Individual  \n",
       "0  ['elliot', 'rodger', 'wang', 'roommat', 'stab'...                   0  \n",
       "1  ['tragedi', 'unfold', 'start', 'holiday', 'wee...                   0  \n",
       "2  ['gunrel', 'restrain', 'order', 'also', 'pass'...                   0  \n",
       "3  ['linder', 'said', 'also', 'rememb', 'weiss', ...                   0  \n",
       "4  ['mean', 'know', 'goe', 'werent', 'sort', 'exp...                   0  "
      ]
     },
     "execution_count": 8,
     "metadata": {},
     "output_type": "execute_result"
    }
   ],
   "source": [
    "data.head()"
   ]
  },
  {
   "cell_type": "code",
   "execution_count": 9,
   "metadata": {},
   "outputs": [
    {
     "data": {
      "text/html": [
       "<div>\n",
       "<style scoped>\n",
       "    .dataframe tbody tr th:only-of-type {\n",
       "        vertical-align: middle;\n",
       "    }\n",
       "\n",
       "    .dataframe tbody tr th {\n",
       "        vertical-align: top;\n",
       "    }\n",
       "\n",
       "    .dataframe thead th {\n",
       "        text-align: right;\n",
       "    }\n",
       "</style>\n",
       "<table border=\"1\" class=\"dataframe\">\n",
       "  <thead>\n",
       "    <tr style=\"text-align: right;\">\n",
       "      <th></th>\n",
       "      <th>StoryID</th>\n",
       "      <th>Excerpt</th>\n",
       "      <th>Excerpt_pre</th>\n",
       "      <th>Excerpt_tokenized</th>\n",
       "      <th>Excerpt_nonstop</th>\n",
       "      <th>Excerpt_stemmed</th>\n",
       "      <th>Excerpt_lemmatized</th>\n",
       "      <th>Excerpt_clean</th>\n",
       "      <th>ACCOUNT_Individual</th>\n",
       "    </tr>\n",
       "  </thead>\n",
       "  <tbody>\n",
       "    <tr>\n",
       "      <th>0</th>\n",
       "      <td>NI3079</td>\n",
       "      <td>Elliot Rodger Wangs roommate stabbed Wang and ...</td>\n",
       "      <td>elliot rodger wangs roommate stabbed wang two ...</td>\n",
       "      <td>['elliot', 'rodger', 'wangs', 'roommate', 'sta...</td>\n",
       "      <td>['elliot', 'rodger', 'wangs', 'roommate', 'sta...</td>\n",
       "      <td>['elliot', 'rodger', 'wang', 'roommat', 'stab'...</td>\n",
       "      <td>['elliot', 'rodger', 'wangs', 'roommate', 'sta...</td>\n",
       "      <td>['elliot', 'rodger', 'wang', 'roommat', 'stab'...</td>\n",
       "      <td>0</td>\n",
       "    </tr>\n",
       "    <tr>\n",
       "      <th>1</th>\n",
       "      <td>NI2689</td>\n",
       "      <td>Because the tragedy unfolded at the start of a...</td>\n",
       "      <td>tragedy unfolded start holiday weekend school ...</td>\n",
       "      <td>['tragedy', 'unfolded', 'start', 'holiday', 'w...</td>\n",
       "      <td>['tragedy', 'unfolded', 'start', 'holiday', 'w...</td>\n",
       "      <td>['tragedi', 'unfold', 'start', 'holiday', 'wee...</td>\n",
       "      <td>['tragedy', 'unfolded', 'start', 'holiday', 'w...</td>\n",
       "      <td>['tragedi', 'unfold', 'start', 'holiday', 'wee...</td>\n",
       "      <td>0</td>\n",
       "    </tr>\n",
       "    <tr>\n",
       "      <th>2</th>\n",
       "      <td>NI2400</td>\n",
       "      <td>Gunrelated restraining orders Also passed in r...</td>\n",
       "      <td>gunrelated restraining orders also passed resp...</td>\n",
       "      <td>['gunrelated', 'restraining', 'orders', 'also'...</td>\n",
       "      <td>['gunrelated', 'restraining', 'orders', 'also'...</td>\n",
       "      <td>['gunrel', 'restrain', 'order', 'also', 'pass'...</td>\n",
       "      <td>['gunrelated', 'restraining', 'order', 'also',...</td>\n",
       "      <td>['gunrel', 'restrain', 'order', 'also', 'pass'...</td>\n",
       "      <td>0</td>\n",
       "    </tr>\n",
       "    <tr>\n",
       "      <th>3</th>\n",
       "      <td>NI1393</td>\n",
       "      <td>Linder said she will also remember Weiss for h...</td>\n",
       "      <td>linder said also remember weiss epic shot pool...</td>\n",
       "      <td>['linder', 'said', 'also', 'remember', 'weiss'...</td>\n",
       "      <td>['linder', 'said', 'also', 'remember', 'weiss'...</td>\n",
       "      <td>['linder', 'said', 'also', 'rememb', 'weiss', ...</td>\n",
       "      <td>['linder', 'said', 'also', 'remember', 'wei', ...</td>\n",
       "      <td>['linder', 'said', 'also', 'rememb', 'weiss', ...</td>\n",
       "      <td>0</td>\n",
       "    </tr>\n",
       "    <tr>\n",
       "      <th>4</th>\n",
       "      <td>NI3259</td>\n",
       "      <td>I mean I know how this goes We all do Werent y...</td>\n",
       "      <td>mean know goes werent sort expecting father on...</td>\n",
       "      <td>['mean', 'know', 'goes', 'werent', 'sort', 'ex...</td>\n",
       "      <td>['mean', 'know', 'goes', 'werent', 'sort', 'ex...</td>\n",
       "      <td>['mean', 'know', 'goe', 'werent', 'sort', 'exp...</td>\n",
       "      <td>['mean', 'know', 'go', 'werent', 'sort', 'expe...</td>\n",
       "      <td>['mean', 'know', 'goe', 'werent', 'sort', 'exp...</td>\n",
       "      <td>0</td>\n",
       "    </tr>\n",
       "  </tbody>\n",
       "</table>\n",
       "</div>"
      ],
      "text/plain": [
       "  StoryID                                            Excerpt  \\\n",
       "0  NI3079  Elliot Rodger Wangs roommate stabbed Wang and ...   \n",
       "1  NI2689  Because the tragedy unfolded at the start of a...   \n",
       "2  NI2400  Gunrelated restraining orders Also passed in r...   \n",
       "3  NI1393  Linder said she will also remember Weiss for h...   \n",
       "4  NI3259  I mean I know how this goes We all do Werent y...   \n",
       "\n",
       "                                         Excerpt_pre  \\\n",
       "0  elliot rodger wangs roommate stabbed wang two ...   \n",
       "1  tragedy unfolded start holiday weekend school ...   \n",
       "2  gunrelated restraining orders also passed resp...   \n",
       "3  linder said also remember weiss epic shot pool...   \n",
       "4  mean know goes werent sort expecting father on...   \n",
       "\n",
       "                                   Excerpt_tokenized  \\\n",
       "0  ['elliot', 'rodger', 'wangs', 'roommate', 'sta...   \n",
       "1  ['tragedy', 'unfolded', 'start', 'holiday', 'w...   \n",
       "2  ['gunrelated', 'restraining', 'orders', 'also'...   \n",
       "3  ['linder', 'said', 'also', 'remember', 'weiss'...   \n",
       "4  ['mean', 'know', 'goes', 'werent', 'sort', 'ex...   \n",
       "\n",
       "                                     Excerpt_nonstop  \\\n",
       "0  ['elliot', 'rodger', 'wangs', 'roommate', 'sta...   \n",
       "1  ['tragedy', 'unfolded', 'start', 'holiday', 'w...   \n",
       "2  ['gunrelated', 'restraining', 'orders', 'also'...   \n",
       "3  ['linder', 'said', 'also', 'remember', 'weiss'...   \n",
       "4  ['mean', 'know', 'goes', 'werent', 'sort', 'ex...   \n",
       "\n",
       "                                     Excerpt_stemmed  \\\n",
       "0  ['elliot', 'rodger', 'wang', 'roommat', 'stab'...   \n",
       "1  ['tragedi', 'unfold', 'start', 'holiday', 'wee...   \n",
       "2  ['gunrel', 'restrain', 'order', 'also', 'pass'...   \n",
       "3  ['linder', 'said', 'also', 'rememb', 'weiss', ...   \n",
       "4  ['mean', 'know', 'goe', 'werent', 'sort', 'exp...   \n",
       "\n",
       "                                  Excerpt_lemmatized  \\\n",
       "0  ['elliot', 'rodger', 'wangs', 'roommate', 'sta...   \n",
       "1  ['tragedy', 'unfolded', 'start', 'holiday', 'w...   \n",
       "2  ['gunrelated', 'restraining', 'order', 'also',...   \n",
       "3  ['linder', 'said', 'also', 'remember', 'wei', ...   \n",
       "4  ['mean', 'know', 'go', 'werent', 'sort', 'expe...   \n",
       "\n",
       "                                       Excerpt_clean  ACCOUNT_Individual  \n",
       "0  ['elliot', 'rodger', 'wang', 'roommat', 'stab'...                   0  \n",
       "1  ['tragedi', 'unfold', 'start', 'holiday', 'wee...                   0  \n",
       "2  ['gunrel', 'restrain', 'order', 'also', 'pass'...                   0  \n",
       "3  ['linder', 'said', 'also', 'rememb', 'weiss', ...                   0  \n",
       "4  ['mean', 'know', 'goe', 'werent', 'sort', 'exp...                   0  "
      ]
     },
     "execution_count": 9,
     "metadata": {},
     "output_type": "execute_result"
    }
   ],
   "source": [
    "data_unin = data.loc[data['ACCOUNT_Individual']==0]\n",
    "data_unin.head()"
   ]
  },
  {
   "cell_type": "code",
   "execution_count": 10,
   "metadata": {},
   "outputs": [
    {
     "data": {
      "text/plain": [
       "array([0])"
      ]
     },
     "execution_count": 10,
     "metadata": {},
     "output_type": "execute_result"
    }
   ],
   "source": [
    "data_unin.ACCOUNT_Individual.unique()"
   ]
  },
  {
   "cell_type": "code",
   "execution_count": 11,
   "metadata": {},
   "outputs": [
    {
     "data": {
      "text/plain": [
       "(7343, 9)"
      ]
     },
     "execution_count": 11,
     "metadata": {},
     "output_type": "execute_result"
    }
   ],
   "source": [
    "data_unin.shape"
   ]
  },
  {
   "cell_type": "code",
   "execution_count": 12,
   "metadata": {},
   "outputs": [
    {
     "data": {
      "text/plain": [
       "(788, 9)"
      ]
     },
     "execution_count": 12,
     "metadata": {},
     "output_type": "execute_result"
    }
   ],
   "source": [
    "data_in = data.loc[data['ACCOUNT_Individual']==1]\n",
    "data_in.shape"
   ]
  },
  {
   "cell_type": "code",
   "execution_count": 13,
   "metadata": {},
   "outputs": [
    {
     "data": {
      "text/plain": [
       "(788, 9)"
      ]
     },
     "execution_count": 13,
     "metadata": {},
     "output_type": "execute_result"
    }
   ],
   "source": [
    "data_unin = data_unin.sample(788)\n",
    "data_unin.shape"
   ]
  },
  {
   "cell_type": "code",
   "execution_count": 14,
   "metadata": {},
   "outputs": [
    {
     "data": {
      "text/html": [
       "<div>\n",
       "<style scoped>\n",
       "    .dataframe tbody tr th:only-of-type {\n",
       "        vertical-align: middle;\n",
       "    }\n",
       "\n",
       "    .dataframe tbody tr th {\n",
       "        vertical-align: top;\n",
       "    }\n",
       "\n",
       "    .dataframe thead th {\n",
       "        text-align: right;\n",
       "    }\n",
       "</style>\n",
       "<table border=\"1\" class=\"dataframe\">\n",
       "  <thead>\n",
       "    <tr style=\"text-align: right;\">\n",
       "      <th></th>\n",
       "      <th>StoryID</th>\n",
       "      <th>Excerpt</th>\n",
       "      <th>Excerpt_pre</th>\n",
       "      <th>Excerpt_tokenized</th>\n",
       "      <th>Excerpt_nonstop</th>\n",
       "      <th>Excerpt_stemmed</th>\n",
       "      <th>Excerpt_lemmatized</th>\n",
       "      <th>Excerpt_clean</th>\n",
       "      <th>ACCOUNT_Individual</th>\n",
       "    </tr>\n",
       "  </thead>\n",
       "  <tbody>\n",
       "    <tr>\n",
       "      <th>65</th>\n",
       "      <td>NI2577</td>\n",
       "      <td>One thing for sure Every legal expert agrees t...</td>\n",
       "      <td>one thing sure every legal expert agrees rodge...</td>\n",
       "      <td>['one', 'thing', 'sure', 'every', 'legal', 'ex...</td>\n",
       "      <td>['one', 'thing', 'sure', 'every', 'legal', 'ex...</td>\n",
       "      <td>['one', 'thing', 'sure', 'everi', 'legal', 'ex...</td>\n",
       "      <td>['one', 'thing', 'sure', 'every', 'legal', 'ex...</td>\n",
       "      <td>['one', 'thing', 'sure', 'everi', 'legal', 'ex...</td>\n",
       "      <td>1</td>\n",
       "    </tr>\n",
       "    <tr>\n",
       "      <th>73</th>\n",
       "      <td>NI3119</td>\n",
       "      <td>Certainly the latest murderous rampage carried...</td>\n",
       "      <td>certainly latest murderous rampage carried you...</td>\n",
       "      <td>['certainly', 'latest', 'murderous', 'rampage'...</td>\n",
       "      <td>['certainly', 'latest', 'murderous', 'rampage'...</td>\n",
       "      <td>['certainli', 'latest', 'murder', 'rampag', 'c...</td>\n",
       "      <td>['certainly', 'latest', 'murderous', 'rampage'...</td>\n",
       "      <td>['certainli', 'latest', 'murder', 'rampag', 'c...</td>\n",
       "      <td>1</td>\n",
       "    </tr>\n",
       "    <tr>\n",
       "      <th>74</th>\n",
       "      <td>NI1605</td>\n",
       "      <td>In a 137page manifesto Rodger wrote that he wo...</td>\n",
       "      <td>137page manifesto rodger wrote would commit ma...</td>\n",
       "      <td>['137page', 'manifesto', 'rodger', 'wrote', 'w...</td>\n",
       "      <td>['137page', 'manifesto', 'rodger', 'wrote', 'w...</td>\n",
       "      <td>['137page', 'manifesto', 'rodger', 'wrote', 'w...</td>\n",
       "      <td>['137page', 'manifesto', 'rodger', 'wrote', 'w...</td>\n",
       "      <td>['page', 'manifesto', 'rodger', 'wrote', 'woul...</td>\n",
       "      <td>1</td>\n",
       "    </tr>\n",
       "    <tr>\n",
       "      <th>76</th>\n",
       "      <td>NI2957</td>\n",
       "      <td>Some crackpot who couldnt get a date stabs and...</td>\n",
       "      <td>crackpot couldnt get date stabs shoots way acr...</td>\n",
       "      <td>['crackpot', 'couldnt', 'get', 'date', 'stabs'...</td>\n",
       "      <td>['crackpot', 'couldnt', 'get', 'date', 'stabs'...</td>\n",
       "      <td>['crackpot', 'couldnt', 'get', 'date', 'stab',...</td>\n",
       "      <td>['crackpot', 'couldnt', 'get', 'date', 'stab',...</td>\n",
       "      <td>['crackpot', 'couldnt', 'get', 'date', 'stab',...</td>\n",
       "      <td>1</td>\n",
       "    </tr>\n",
       "    <tr>\n",
       "      <th>83</th>\n",
       "      <td>NI2915</td>\n",
       "      <td>I got into an online debate recently with Lind...</td>\n",
       "      <td>got online debate recently lindsay beyerstein ...</td>\n",
       "      <td>['got', 'online', 'debate', 'recently', 'linds...</td>\n",
       "      <td>['got', 'online', 'debate', 'recently', 'linds...</td>\n",
       "      <td>['got', 'onlin', 'debat', 'recent', 'lindsay',...</td>\n",
       "      <td>['got', 'online', 'debate', 'recently', 'linds...</td>\n",
       "      <td>['got', 'onlin', 'debat', 'recent', 'lindsay',...</td>\n",
       "      <td>1</td>\n",
       "    </tr>\n",
       "  </tbody>\n",
       "</table>\n",
       "</div>"
      ],
      "text/plain": [
       "   StoryID                                            Excerpt  \\\n",
       "65  NI2577  One thing for sure Every legal expert agrees t...   \n",
       "73  NI3119  Certainly the latest murderous rampage carried...   \n",
       "74  NI1605  In a 137page manifesto Rodger wrote that he wo...   \n",
       "76  NI2957  Some crackpot who couldnt get a date stabs and...   \n",
       "83  NI2915  I got into an online debate recently with Lind...   \n",
       "\n",
       "                                          Excerpt_pre  \\\n",
       "65  one thing sure every legal expert agrees rodge...   \n",
       "73  certainly latest murderous rampage carried you...   \n",
       "74  137page manifesto rodger wrote would commit ma...   \n",
       "76  crackpot couldnt get date stabs shoots way acr...   \n",
       "83  got online debate recently lindsay beyerstein ...   \n",
       "\n",
       "                                    Excerpt_tokenized  \\\n",
       "65  ['one', 'thing', 'sure', 'every', 'legal', 'ex...   \n",
       "73  ['certainly', 'latest', 'murderous', 'rampage'...   \n",
       "74  ['137page', 'manifesto', 'rodger', 'wrote', 'w...   \n",
       "76  ['crackpot', 'couldnt', 'get', 'date', 'stabs'...   \n",
       "83  ['got', 'online', 'debate', 'recently', 'linds...   \n",
       "\n",
       "                                      Excerpt_nonstop  \\\n",
       "65  ['one', 'thing', 'sure', 'every', 'legal', 'ex...   \n",
       "73  ['certainly', 'latest', 'murderous', 'rampage'...   \n",
       "74  ['137page', 'manifesto', 'rodger', 'wrote', 'w...   \n",
       "76  ['crackpot', 'couldnt', 'get', 'date', 'stabs'...   \n",
       "83  ['got', 'online', 'debate', 'recently', 'linds...   \n",
       "\n",
       "                                      Excerpt_stemmed  \\\n",
       "65  ['one', 'thing', 'sure', 'everi', 'legal', 'ex...   \n",
       "73  ['certainli', 'latest', 'murder', 'rampag', 'c...   \n",
       "74  ['137page', 'manifesto', 'rodger', 'wrote', 'w...   \n",
       "76  ['crackpot', 'couldnt', 'get', 'date', 'stab',...   \n",
       "83  ['got', 'onlin', 'debat', 'recent', 'lindsay',...   \n",
       "\n",
       "                                   Excerpt_lemmatized  \\\n",
       "65  ['one', 'thing', 'sure', 'every', 'legal', 'ex...   \n",
       "73  ['certainly', 'latest', 'murderous', 'rampage'...   \n",
       "74  ['137page', 'manifesto', 'rodger', 'wrote', 'w...   \n",
       "76  ['crackpot', 'couldnt', 'get', 'date', 'stab',...   \n",
       "83  ['got', 'online', 'debate', 'recently', 'linds...   \n",
       "\n",
       "                                        Excerpt_clean  ACCOUNT_Individual  \n",
       "65  ['one', 'thing', 'sure', 'everi', 'legal', 'ex...                   1  \n",
       "73  ['certainli', 'latest', 'murder', 'rampag', 'c...                   1  \n",
       "74  ['page', 'manifesto', 'rodger', 'wrote', 'woul...                   1  \n",
       "76  ['crackpot', 'couldnt', 'get', 'date', 'stab',...                   1  \n",
       "83  ['got', 'onlin', 'debat', 'recent', 'lindsay',...                   1  "
      ]
     },
     "execution_count": 14,
     "metadata": {},
     "output_type": "execute_result"
    }
   ],
   "source": [
    "data_in.head()"
   ]
  },
  {
   "cell_type": "code",
   "execution_count": 15,
   "metadata": {},
   "outputs": [
    {
     "data": {
      "text/plain": [
       "array([1])"
      ]
     },
     "execution_count": 15,
     "metadata": {},
     "output_type": "execute_result"
    }
   ],
   "source": [
    "data_in.ACCOUNT_Individual.unique()"
   ]
  },
  {
   "cell_type": "code",
   "execution_count": 16,
   "metadata": {},
   "outputs": [
    {
     "data": {
      "text/plain": [
       "(1576, 9)"
      ]
     },
     "execution_count": 16,
     "metadata": {},
     "output_type": "execute_result"
    }
   ],
   "source": [
    "dataframe = [data_unin, data_in]\n",
    "data = pd.concat(dataframe)\n",
    "data.shape"
   ]
  },
  {
   "cell_type": "code",
   "execution_count": 17,
   "metadata": {},
   "outputs": [],
   "source": [
    "data['Excerpt'].fillna(\"unknown\", inplace=True)"
   ]
  },
  {
   "cell_type": "code",
   "execution_count": 18,
   "metadata": {},
   "outputs": [
    {
     "data": {
      "text/html": [
       "<div>\n",
       "<style scoped>\n",
       "    .dataframe tbody tr th:only-of-type {\n",
       "        vertical-align: middle;\n",
       "    }\n",
       "\n",
       "    .dataframe tbody tr th {\n",
       "        vertical-align: top;\n",
       "    }\n",
       "\n",
       "    .dataframe thead th {\n",
       "        text-align: right;\n",
       "    }\n",
       "</style>\n",
       "<table border=\"1\" class=\"dataframe\">\n",
       "  <thead>\n",
       "    <tr style=\"text-align: right;\">\n",
       "      <th></th>\n",
       "      <th>StoryID</th>\n",
       "      <th>Excerpt</th>\n",
       "      <th>Excerpt_pre</th>\n",
       "      <th>Excerpt_tokenized</th>\n",
       "      <th>Excerpt_nonstop</th>\n",
       "      <th>Excerpt_stemmed</th>\n",
       "      <th>Excerpt_lemmatized</th>\n",
       "      <th>Excerpt_clean</th>\n",
       "      <th>ACCOUNT_Individual</th>\n",
       "    </tr>\n",
       "  </thead>\n",
       "  <tbody>\n",
       "    <tr>\n",
       "      <th>1931</th>\n",
       "      <td>NI2699</td>\n",
       "      <td>Before Rodger stabbed three male UCSB students...</td>\n",
       "      <td>rodger stabbed three male ucsb students apartm...</td>\n",
       "      <td>['rodger', 'stabbed', 'three', 'male', 'ucsb',...</td>\n",
       "      <td>['rodger', 'stabbed', 'three', 'male', 'ucsb',...</td>\n",
       "      <td>['rodger', 'stab', 'three', 'male', 'ucsb', 's...</td>\n",
       "      <td>['rodger', 'stabbed', 'three', 'male', 'ucsb',...</td>\n",
       "      <td>['rodger', 'stab', 'three', 'male', 'ucsb', 's...</td>\n",
       "      <td>1</td>\n",
       "    </tr>\n",
       "    <tr>\n",
       "      <th>3092</th>\n",
       "      <td>NI1731</td>\n",
       "      <td>Some crackpot who couldnt get a date stabs and...</td>\n",
       "      <td>crackpot couldnt get date stabs shoots way acr...</td>\n",
       "      <td>['crackpot', 'couldnt', 'get', 'date', 'stabs'...</td>\n",
       "      <td>['crackpot', 'couldnt', 'get', 'date', 'stabs'...</td>\n",
       "      <td>['crackpot', 'couldnt', 'get', 'date', 'stab',...</td>\n",
       "      <td>['crackpot', 'couldnt', 'get', 'date', 'stab',...</td>\n",
       "      <td>['crackpot', 'couldnt', 'get', 'date', 'stab',...</td>\n",
       "      <td>1</td>\n",
       "    </tr>\n",
       "    <tr>\n",
       "      <th>6795</th>\n",
       "      <td>NI2308</td>\n",
       "      <td>The awkward 22yearold was obsessed with exacti...</td>\n",
       "      <td>awkward 22yearold obsessed exacting retributio...</td>\n",
       "      <td>['awkward', '22yearold', 'obsessed', 'exacting...</td>\n",
       "      <td>['awkward', '22yearold', 'obsessed', 'exacting...</td>\n",
       "      <td>['awkward', '22yearold', 'obsess', 'exact', 'r...</td>\n",
       "      <td>['awkward', '22yearold', 'obsessed', 'exacting...</td>\n",
       "      <td>['awkward', 'yearold', 'obsess', 'exact', 'ret...</td>\n",
       "      <td>1</td>\n",
       "    </tr>\n",
       "    <tr>\n",
       "      <th>4605</th>\n",
       "      <td>NI1018</td>\n",
       "      <td>Shifman said the family\\nwas cooperating with ...</td>\n",
       "      <td>shifman said family cooperating police read st...</td>\n",
       "      <td>['shifman', 'said', 'family', 'cooperating', '...</td>\n",
       "      <td>['shifman', 'said', 'family', 'cooperating', '...</td>\n",
       "      <td>['shifman', 'said', 'famili', 'cooper', 'polic...</td>\n",
       "      <td>['shifman', 'said', 'family', 'cooperating', '...</td>\n",
       "      <td>['shifman', 'said', 'famili', 'cooper', 'polic...</td>\n",
       "      <td>0</td>\n",
       "    </tr>\n",
       "    <tr>\n",
       "      <th>5716</th>\n",
       "      <td>NI1501</td>\n",
       "      <td>Like other deranged killers many of them young...</td>\n",
       "      <td>like deranged killers many young men psychosex...</td>\n",
       "      <td>['like', 'deranged', 'killers', 'many', 'young...</td>\n",
       "      <td>['like', 'deranged', 'killers', 'many', 'young...</td>\n",
       "      <td>['like', 'derang', 'killer', 'mani', 'young', ...</td>\n",
       "      <td>['like', 'deranged', 'killer', 'many', 'young'...</td>\n",
       "      <td>['like', 'derang', 'killer', 'mani', 'young', ...</td>\n",
       "      <td>1</td>\n",
       "    </tr>\n",
       "  </tbody>\n",
       "</table>\n",
       "</div>"
      ],
      "text/plain": [
       "     StoryID                                            Excerpt  \\\n",
       "1931  NI2699  Before Rodger stabbed three male UCSB students...   \n",
       "3092  NI1731  Some crackpot who couldnt get a date stabs and...   \n",
       "6795  NI2308  The awkward 22yearold was obsessed with exacti...   \n",
       "4605  NI1018  Shifman said the family\\nwas cooperating with ...   \n",
       "5716  NI1501  Like other deranged killers many of them young...   \n",
       "\n",
       "                                            Excerpt_pre  \\\n",
       "1931  rodger stabbed three male ucsb students apartm...   \n",
       "3092  crackpot couldnt get date stabs shoots way acr...   \n",
       "6795  awkward 22yearold obsessed exacting retributio...   \n",
       "4605  shifman said family cooperating police read st...   \n",
       "5716  like deranged killers many young men psychosex...   \n",
       "\n",
       "                                      Excerpt_tokenized  \\\n",
       "1931  ['rodger', 'stabbed', 'three', 'male', 'ucsb',...   \n",
       "3092  ['crackpot', 'couldnt', 'get', 'date', 'stabs'...   \n",
       "6795  ['awkward', '22yearold', 'obsessed', 'exacting...   \n",
       "4605  ['shifman', 'said', 'family', 'cooperating', '...   \n",
       "5716  ['like', 'deranged', 'killers', 'many', 'young...   \n",
       "\n",
       "                                        Excerpt_nonstop  \\\n",
       "1931  ['rodger', 'stabbed', 'three', 'male', 'ucsb',...   \n",
       "3092  ['crackpot', 'couldnt', 'get', 'date', 'stabs'...   \n",
       "6795  ['awkward', '22yearold', 'obsessed', 'exacting...   \n",
       "4605  ['shifman', 'said', 'family', 'cooperating', '...   \n",
       "5716  ['like', 'deranged', 'killers', 'many', 'young...   \n",
       "\n",
       "                                        Excerpt_stemmed  \\\n",
       "1931  ['rodger', 'stab', 'three', 'male', 'ucsb', 's...   \n",
       "3092  ['crackpot', 'couldnt', 'get', 'date', 'stab',...   \n",
       "6795  ['awkward', '22yearold', 'obsess', 'exact', 'r...   \n",
       "4605  ['shifman', 'said', 'famili', 'cooper', 'polic...   \n",
       "5716  ['like', 'derang', 'killer', 'mani', 'young', ...   \n",
       "\n",
       "                                     Excerpt_lemmatized  \\\n",
       "1931  ['rodger', 'stabbed', 'three', 'male', 'ucsb',...   \n",
       "3092  ['crackpot', 'couldnt', 'get', 'date', 'stab',...   \n",
       "6795  ['awkward', '22yearold', 'obsessed', 'exacting...   \n",
       "4605  ['shifman', 'said', 'family', 'cooperating', '...   \n",
       "5716  ['like', 'deranged', 'killer', 'many', 'young'...   \n",
       "\n",
       "                                          Excerpt_clean  ACCOUNT_Individual  \n",
       "1931  ['rodger', 'stab', 'three', 'male', 'ucsb', 's...                   1  \n",
       "3092  ['crackpot', 'couldnt', 'get', 'date', 'stab',...                   1  \n",
       "6795  ['awkward', 'yearold', 'obsess', 'exact', 'ret...                   1  \n",
       "4605  ['shifman', 'said', 'famili', 'cooper', 'polic...                   0  \n",
       "5716  ['like', 'derang', 'killer', 'mani', 'young', ...                   1  "
      ]
     },
     "execution_count": 18,
     "metadata": {},
     "output_type": "execute_result"
    }
   ],
   "source": [
    "from sklearn.utils import shuffle\n",
    "data = shuffle(data)\n",
    "data.head()"
   ]
  },
  {
   "cell_type": "code",
   "execution_count": 19,
   "metadata": {},
   "outputs": [
    {
     "data": {
      "text/plain": [
       "array([1, 0])"
      ]
     },
     "execution_count": 19,
     "metadata": {},
     "output_type": "execute_result"
    }
   ],
   "source": [
    "data.ACCOUNT_Individual.unique()"
   ]
  },
  {
   "cell_type": "code",
   "execution_count": 20,
   "metadata": {},
   "outputs": [
    {
     "name": "stdout",
     "output_type": "stream",
     "text": [
      "<class 'pandas.core.frame.DataFrame'>\n",
      "Int64Index: 1576 entries, 1931 to 7804\n",
      "Data columns (total 9 columns):\n",
      "StoryID               1576 non-null object\n",
      "Excerpt               1576 non-null object\n",
      "Excerpt_pre           1576 non-null object\n",
      "Excerpt_tokenized     1576 non-null object\n",
      "Excerpt_nonstop       1576 non-null object\n",
      "Excerpt_stemmed       1576 non-null object\n",
      "Excerpt_lemmatized    1576 non-null object\n",
      "Excerpt_clean         1576 non-null object\n",
      "ACCOUNT_Individual    1576 non-null int64\n",
      "dtypes: int64(1), object(8)\n",
      "memory usage: 123.1+ KB\n"
     ]
    }
   ],
   "source": [
    "data.info()"
   ]
  },
  {
   "cell_type": "markdown",
   "metadata": {},
   "source": [
    "## SPLITTING THE DATASET "
   ]
  },
  {
   "cell_type": "code",
   "execution_count": 21,
   "metadata": {},
   "outputs": [
    {
     "data": {
      "text/plain": [
       "(1576,)"
      ]
     },
     "execution_count": 21,
     "metadata": {},
     "output_type": "execute_result"
    }
   ],
   "source": [
    "df = data['Excerpt']\n",
    "df.shape"
   ]
  },
  {
   "cell_type": "code",
   "execution_count": 22,
   "metadata": {},
   "outputs": [
    {
     "data": {
      "text/plain": [
       "1931    Before Rodger stabbed three male UCSB students...\n",
       "3092    Some crackpot who couldnt get a date stabs and...\n",
       "6795    The awkward 22yearold was obsessed with exacti...\n",
       "4605    Shifman said the family\\nwas cooperating with ...\n",
       "5716    Like other deranged killers many of them young...\n",
       "Name: Excerpt, dtype: object"
      ]
     },
     "execution_count": 22,
     "metadata": {},
     "output_type": "execute_result"
    }
   ],
   "source": [
    "df.head()"
   ]
  },
  {
   "cell_type": "code",
   "execution_count": 23,
   "metadata": {},
   "outputs": [
    {
     "data": {
      "text/plain": [
       "array([1, 1, 1, ..., 1, 1, 0])"
      ]
     },
     "execution_count": 23,
     "metadata": {},
     "output_type": "execute_result"
    }
   ],
   "source": [
    "y = data['ACCOUNT_Individual']\n",
    "y = y.to_numpy()\n",
    "y"
   ]
  },
  {
   "cell_type": "code",
   "execution_count": 24,
   "metadata": {},
   "outputs": [
    {
     "data": {
      "text/plain": [
       "numpy.ndarray"
      ]
     },
     "execution_count": 24,
     "metadata": {},
     "output_type": "execute_result"
    }
   ],
   "source": [
    "type(y)"
   ]
  },
  {
   "cell_type": "code",
   "execution_count": 25,
   "metadata": {},
   "outputs": [
    {
     "data": {
      "text/plain": [
       "((1300,), (1300,), (276,), (276,))"
      ]
     },
     "execution_count": 25,
     "metadata": {},
     "output_type": "execute_result"
    }
   ],
   "source": [
    "def split_vals(a,n): return a[:n].copy(), a[n:].copy()\n",
    "\n",
    "n_valid = 276  \n",
    "n_trn = len(df)-n_valid\n",
    "raw_train, raw_valid = split_vals(data, n_trn)\n",
    "X_train, X_valid = split_vals(df, n_trn)\n",
    "y_train, y_valid = split_vals(y, n_trn)\n",
    "\n",
    "X_train.shape, y_train.shape, X_valid.shape, y_valid.shape"
   ]
  },
  {
   "cell_type": "code",
   "execution_count": 26,
   "metadata": {},
   "outputs": [
    {
     "data": {
      "text/plain": [
       "1931    Before Rodger stabbed three male UCSB students...\n",
       "3092    Some crackpot who couldnt get a date stabs and...\n",
       "6795    The awkward 22yearold was obsessed with exacti...\n",
       "4605    Shifman said the family\\nwas cooperating with ...\n",
       "5716    Like other deranged killers many of them young...\n",
       "Name: Excerpt, dtype: object"
      ]
     },
     "execution_count": 26,
     "metadata": {},
     "output_type": "execute_result"
    }
   ],
   "source": [
    "X_train.head()"
   ]
  },
  {
   "cell_type": "code",
   "execution_count": 27,
   "metadata": {},
   "outputs": [
    {
     "data": {
      "text/plain": [
       "3275    Elliot Rodger the mentally disturbed Isla Vist...\n",
       "374     The postmassacre handwringing were currently e...\n",
       "6754    In rambling writings he titled My Twisted Worl...\n",
       "3982    Martinezs grief and outrage were so raw in TV ...\n",
       "7107    And now Elliot Rodger\\nAll were young loners w...\n",
       "Name: Excerpt, dtype: object"
      ]
     },
     "execution_count": 27,
     "metadata": {},
     "output_type": "execute_result"
    }
   ],
   "source": [
    "X_valid.head()"
   ]
  },
  {
   "cell_type": "code",
   "execution_count": 28,
   "metadata": {},
   "outputs": [
    {
     "data": {
      "text/plain": [
       "array([1, 1, 1, ..., 0, 1, 1])"
      ]
     },
     "execution_count": 28,
     "metadata": {},
     "output_type": "execute_result"
    }
   ],
   "source": [
    "y_train"
   ]
  },
  {
   "cell_type": "code",
   "execution_count": 29,
   "metadata": {},
   "outputs": [
    {
     "data": {
      "text/plain": [
       "array([1, 1, 1, 0, 1, 0, 1, 1, 0, 1, 1, 0, 1, 1, 1, 1, 1, 1, 0, 1, 0, 1, 0, 0, 1, 1, 0, 1, 1, 1, 0, 0, 1, 0,\n",
       "       1, 0, 1, 0, 0, 0, 1, 1, 1, 0, 0, 0, 1, 0, 0, 1, 1, 0, 1, 0, 0, 0, 1, 0, 1, 0, 0, 0, 1, 0, 1, 0, 1, 1,\n",
       "       0, 1, 1, 1, 0, 0, 0, 0, 1, 1, 0, 0, 0, 0, 0, 1, 0, 0, 1, 1, 0, 1, 0, 1, 0, 0, 1, 1, 0, 1, 0, 1, 0, 0,\n",
       "       1, 0, 1, 0, 1, 1, 1, 1, 1, 0, 1, 0, 0, 0, 0, 0, 0, 0, 1, 1, 0, 1, 0, 1, 0, 0, 0, 1, 1, 1, 1, 0, 0, 1,\n",
       "       1, 1, 1, 0, 0, 0, 1, 1, 1, 0, 1, 0, 1, 1, 0, 1, 0, 0, 0, 0, 0, 0, 1, 1, 0, 1, 0, 0, 0, 0, 1, 0, 0, 1,\n",
       "       0, 0, 1, 1, 0, 1, 1, 1, 1, 0, 0, 1, 0, 0, 0, 0, 1, 0, 0, 1, 1, 1, 0, 0, 1, 0, 0, 0, 0, 1, 1, 1, 1, 0,\n",
       "       0, 1, 1, 1, 0, 0, 0, 0, 0, 1, 0, 0, 1, 1, 1, 0, 0, 1, 0, 0, 1, 0, 0, 1, 1, 0, 0, 0, 0, 1, 1, 1, 1, 1,\n",
       "       1, 1, 0, 1, 1, 1, 1, 1, 0, 0, 1, 1, 0, 0, 0, 0, 0, 1, 0, 0, 0, 0, 0, 1, 1, 0, 1, 1, 0, 1, 0, 0, 1, 1,\n",
       "       0, 1, 1, 0])"
      ]
     },
     "execution_count": 29,
     "metadata": {},
     "output_type": "execute_result"
    }
   ],
   "source": [
    "y_valid"
   ]
  },
  {
   "cell_type": "markdown",
   "metadata": {},
   "source": [
    "## MODEL DEPLOYMENT "
   ]
  },
  {
   "cell_type": "code",
   "execution_count": 30,
   "metadata": {},
   "outputs": [],
   "source": [
    "from sklearn.feature_extraction.text import CountVectorizer, TfidfVectorizer"
   ]
  },
  {
   "cell_type": "code",
   "execution_count": 31,
   "metadata": {},
   "outputs": [],
   "source": [
    "import nltk\n",
    "from nltk.tokenize import TweetTokenizer \n",
    "from nltk.stem.wordnet import WordNetLemmatizer \n",
    "lem = WordNetLemmatizer()\n",
    "tokenizer=TweetTokenizer()"
   ]
  },
  {
   "cell_type": "code",
   "execution_count": 32,
   "metadata": {},
   "outputs": [],
   "source": [
    "n = X_train.shape[0]\n",
    "vec = TfidfVectorizer(ngram_range=(1,2), tokenizer=tokenize,\n",
    "               min_df=3, max_df=0.9, use_idf=1,\n",
    "               smooth_idf=1, sublinear_tf=1 )\n",
    "trn_term_doc = vec.fit_transform(X_train)\n",
    "test_term_doc = vec.transform(X_valid)"
   ]
  },
  {
   "cell_type": "code",
   "execution_count": 33,
   "metadata": {},
   "outputs": [
    {
     "data": {
      "text/plain": [
       "(<1300x12368 sparse matrix of type '<class 'numpy.float64'>'\n",
       " \twith 159235 stored elements in Compressed Sparse Row format>,\n",
       " <276x12368 sparse matrix of type '<class 'numpy.float64'>'\n",
       " \twith 31382 stored elements in Compressed Sparse Row format>)"
      ]
     },
     "execution_count": 33,
     "metadata": {},
     "output_type": "execute_result"
    }
   ],
   "source": [
    "trn_term_doc, test_term_doc"
   ]
  },
  {
   "cell_type": "code",
   "execution_count": 34,
   "metadata": {},
   "outputs": [],
   "source": [
    "trn_doc = trn_term_doc\n",
    "val_doc = test_term_doc"
   ]
  },
  {
   "cell_type": "code",
   "execution_count": 35,
   "metadata": {},
   "outputs": [
    {
     "data": {
      "text/plain": [
       "<1x12368 sparse matrix of type '<class 'numpy.float64'>'\n",
       "\twith 204 stored elements in Compressed Sparse Row format>"
      ]
     },
     "execution_count": 35,
     "metadata": {},
     "output_type": "execute_result"
    }
   ],
   "source": [
    "trn_doc[0]"
   ]
  },
  {
   "cell_type": "code",
   "execution_count": 36,
   "metadata": {},
   "outputs": [],
   "source": [
    "vocab = vec.get_feature_names()"
   ]
  },
  {
   "cell_type": "code",
   "execution_count": 37,
   "metadata": {},
   "outputs": [
    {
     "data": {
      "text/plain": [
       "['hours explaining',\n",
       " 'house',\n",
       " 'house and',\n",
       " 'house as',\n",
       " 'house bleeding',\n",
       " 'house he',\n",
       " 'house i',\n",
       " 'house ill',\n",
       " 'house jealousy',\n",
       " 'house of']"
      ]
     },
     "execution_count": 37,
     "metadata": {},
     "output_type": "execute_result"
    }
   ],
   "source": [
    "vocab[5000:5010]"
   ]
  },
  {
   "cell_type": "markdown",
   "metadata": {},
   "source": [
    "## NAIVE BAYES "
   ]
  },
  {
   "cell_type": "code",
   "execution_count": 39,
   "metadata": {},
   "outputs": [
    {
     "data": {
      "text/plain": [
       "<1300x12368 sparse matrix of type '<class 'numpy.float64'>'\n",
       "\twith 159235 stored elements in Compressed Sparse Row format>"
      ]
     },
     "execution_count": 39,
     "metadata": {},
     "output_type": "execute_result"
    }
   ],
   "source": [
    "x = trn_doc\n",
    "x"
   ]
  },
  {
   "cell_type": "code",
   "execution_count": 40,
   "metadata": {},
   "outputs": [
    {
     "data": {
      "text/plain": [
       "numpy.ndarray"
      ]
     },
     "execution_count": 40,
     "metadata": {},
     "output_type": "execute_result"
    }
   ],
   "source": [
    "type(y_train)"
   ]
  },
  {
   "cell_type": "code",
   "execution_count": 41,
   "metadata": {},
   "outputs": [],
   "source": [
    "y = y_train"
   ]
  },
  {
   "cell_type": "code",
   "execution_count": 42,
   "metadata": {},
   "outputs": [
    {
     "data": {
      "text/plain": [
       "(1300,)"
      ]
     },
     "execution_count": 42,
     "metadata": {},
     "output_type": "execute_result"
    }
   ],
   "source": [
    "y.shape"
   ]
  },
  {
   "cell_type": "code",
   "execution_count": 43,
   "metadata": {},
   "outputs": [],
   "source": [
    "p = x[y==1].sum(0)+1\n",
    "q = x[y==0].sum(0)+1"
   ]
  },
  {
   "cell_type": "code",
   "execution_count": 44,
   "metadata": {},
   "outputs": [
    {
     "data": {
      "text/plain": [
       "matrix([[1.54882, 1.29205, 1.41781, ..., 1.16195, 1.     , 1.     ]])"
      ]
     },
     "execution_count": 44,
     "metadata": {},
     "output_type": "execute_result"
    }
   ],
   "source": [
    "p"
   ]
  },
  {
   "cell_type": "code",
   "execution_count": 45,
   "metadata": {},
   "outputs": [
    {
     "data": {
      "text/plain": [
       "(1, 12368)"
      ]
     },
     "execution_count": 45,
     "metadata": {},
     "output_type": "execute_result"
    }
   ],
   "source": [
    "p.shape"
   ]
  },
  {
   "cell_type": "code",
   "execution_count": 46,
   "metadata": {},
   "outputs": [
    {
     "data": {
      "text/plain": [
       "matrix([[1.06057, 1.     , 2.51995, ..., 2.14899, 1.54701, 1.54701]])"
      ]
     },
     "execution_count": 46,
     "metadata": {},
     "output_type": "execute_result"
    }
   ],
   "source": [
    "q"
   ]
  },
  {
   "cell_type": "code",
   "execution_count": 47,
   "metadata": {},
   "outputs": [
    {
     "data": {
      "text/plain": [
       "(1, 12368)"
      ]
     },
     "execution_count": 47,
     "metadata": {},
     "output_type": "execute_result"
    }
   ],
   "source": [
    "q.shape"
   ]
  },
  {
   "cell_type": "code",
   "execution_count": 48,
   "metadata": {},
   "outputs": [],
   "source": [
    "r = np.log((p/p.sum())/(q/q.sum()))"
   ]
  },
  {
   "cell_type": "code",
   "execution_count": 49,
   "metadata": {},
   "outputs": [
    {
     "data": {
      "text/plain": [
       "matrix([[ 0.30726,  0.18481, -0.64654, ..., -0.68632, -0.50775, -0.50775]])"
      ]
     },
     "execution_count": 49,
     "metadata": {},
     "output_type": "execute_result"
    }
   ],
   "source": [
    "r"
   ]
  },
  {
   "cell_type": "code",
   "execution_count": 50,
   "metadata": {},
   "outputs": [
    {
     "data": {
      "text/plain": [
       "(1, 12368)"
      ]
     },
     "execution_count": 50,
     "metadata": {},
     "output_type": "execute_result"
    }
   ],
   "source": [
    "r.shape"
   ]
  },
  {
   "cell_type": "code",
   "execution_count": 51,
   "metadata": {},
   "outputs": [],
   "source": [
    "b = np.log(len(p)/len(q))"
   ]
  },
  {
   "cell_type": "code",
   "execution_count": 52,
   "metadata": {},
   "outputs": [
    {
     "data": {
      "text/plain": [
       "0.0"
      ]
     },
     "execution_count": 52,
     "metadata": {},
     "output_type": "execute_result"
    }
   ],
   "source": [
    "b"
   ]
  },
  {
   "cell_type": "code",
   "execution_count": 53,
   "metadata": {},
   "outputs": [
    {
     "data": {
      "text/plain": [
       "numpy.ndarray"
      ]
     },
     "execution_count": 53,
     "metadata": {},
     "output_type": "execute_result"
    }
   ],
   "source": [
    "type(y_valid)"
   ]
  },
  {
   "cell_type": "code",
   "execution_count": 54,
   "metadata": {},
   "outputs": [
    {
     "data": {
      "text/plain": [
       "(276,)"
      ]
     },
     "execution_count": 54,
     "metadata": {},
     "output_type": "execute_result"
    }
   ],
   "source": [
    "y_valid.shape"
   ]
  },
  {
   "cell_type": "code",
   "execution_count": 55,
   "metadata": {},
   "outputs": [
    {
     "data": {
      "text/plain": [
       "(1, 276)"
      ]
     },
     "execution_count": 55,
     "metadata": {},
     "output_type": "execute_result"
    }
   ],
   "source": [
    "val_y = y_valid.reshape(1, 276)\n",
    "val_y.shape"
   ]
  },
  {
   "cell_type": "code",
   "execution_count": 56,
   "metadata": {},
   "outputs": [
    {
     "data": {
      "text/plain": [
       "0.8985507246376812"
      ]
     },
     "execution_count": 56,
     "metadata": {},
     "output_type": "execute_result"
    }
   ],
   "source": [
    "pre_preds = val_doc @ r.T + b\n",
    "preds = pre_preds.T>0\n",
    "(preds==val_y).mean()"
   ]
  },
  {
   "cell_type": "code",
   "execution_count": 57,
   "metadata": {},
   "outputs": [
    {
     "data": {
      "text/plain": [
       "0.9021739130434783"
      ]
     },
     "execution_count": 57,
     "metadata": {},
     "output_type": "execute_result"
    }
   ],
   "source": [
    "pre_preds = val_doc.sign() @ r.T + b\n",
    "preds = pre_preds.T > 0\n",
    "(preds==val_y).mean()"
   ]
  },
  {
   "cell_type": "markdown",
   "metadata": {},
   "source": [
    "## LOGISTIC REGRESSION "
   ]
  },
  {
   "cell_type": "code",
   "execution_count": 58,
   "metadata": {},
   "outputs": [
    {
     "data": {
      "text/plain": [
       "<1300x12368 sparse matrix of type '<class 'numpy.float64'>'\n",
       "\twith 159235 stored elements in Compressed Sparse Row format>"
      ]
     },
     "execution_count": 58,
     "metadata": {},
     "output_type": "execute_result"
    }
   ],
   "source": [
    "x"
   ]
  },
  {
   "cell_type": "code",
   "execution_count": 59,
   "metadata": {},
   "outputs": [
    {
     "data": {
      "text/plain": [
       "array([1, 1, 1, ..., 0, 1, 1])"
      ]
     },
     "execution_count": 59,
     "metadata": {},
     "output_type": "execute_result"
    }
   ],
   "source": [
    "y"
   ]
  },
  {
   "cell_type": "code",
   "execution_count": 60,
   "metadata": {},
   "outputs": [
    {
     "name": "stderr",
     "output_type": "stream",
     "text": [
      "/home/spriyanshu723/anaconda3/envs/fastai-cpu/lib/python3.6/site-packages/sklearn/linear_model/logistic.py:433: FutureWarning: Default solver will be changed to 'lbfgs' in 0.22. Specify a solver to silence this warning.\n",
      "  FutureWarning)\n",
      "/home/spriyanshu723/anaconda3/envs/fastai-cpu/lib/python3.6/site-packages/sklearn/svm/base.py:931: ConvergenceWarning: Liblinear failed to converge, increase the number of iterations.\n",
      "  \"the number of iterations.\", ConvergenceWarning)\n"
     ]
    },
    {
     "data": {
      "text/plain": [
       "0.8985507246376812"
      ]
     },
     "execution_count": 60,
     "metadata": {},
     "output_type": "execute_result"
    }
   ],
   "source": [
    "m = LogisticRegression(C=1e8, dual=True)\n",
    "m.fit(x, y)\n",
    "preds = m.predict(val_doc)\n",
    "(preds==val_y).mean()"
   ]
  },
  {
   "cell_type": "code",
   "execution_count": 61,
   "metadata": {},
   "outputs": [
    {
     "name": "stderr",
     "output_type": "stream",
     "text": [
      "/home/spriyanshu723/anaconda3/envs/fastai-cpu/lib/python3.6/site-packages/sklearn/svm/base.py:931: ConvergenceWarning: Liblinear failed to converge, increase the number of iterations.\n",
      "  \"the number of iterations.\", ConvergenceWarning)\n"
     ]
    },
    {
     "data": {
      "text/plain": [
       "0.8876811594202898"
      ]
     },
     "execution_count": 61,
     "metadata": {},
     "output_type": "execute_result"
    }
   ],
   "source": [
    "m = LogisticRegression(C=1e8, dual=True)\n",
    "m.fit(trn_doc.sign(), y)\n",
    "preds = m.predict(val_doc.sign())\n",
    "(preds==val_y).mean()"
   ]
  },
  {
   "cell_type": "code",
   "execution_count": 62,
   "metadata": {},
   "outputs": [
    {
     "data": {
      "text/plain": [
       "0.8985507246376812"
      ]
     },
     "execution_count": 62,
     "metadata": {},
     "output_type": "execute_result"
    }
   ],
   "source": [
    "m = LogisticRegression(C=0.1, dual=True)\n",
    "m.fit(trn_doc, y)\n",
    "preds = m.predict(val_doc)\n",
    "(preds==val_y).mean()"
   ]
  },
  {
   "cell_type": "code",
   "execution_count": 63,
   "metadata": {},
   "outputs": [
    {
     "data": {
      "text/plain": [
       "0.894927536231884"
      ]
     },
     "execution_count": 63,
     "metadata": {},
     "output_type": "execute_result"
    }
   ],
   "source": [
    "m = LogisticRegression(C=0.1, dual=True)\n",
    "m.fit(trn_doc.sign(), y)\n",
    "preds = m.predict(val_doc.sign())\n",
    "(preds==val_y).mean()"
   ]
  },
  {
   "cell_type": "markdown",
   "metadata": {},
   "source": [
    "## TRI-GRAM MODEL DEPLOYMENT "
   ]
  },
  {
   "cell_type": "code",
   "execution_count": 64,
   "metadata": {},
   "outputs": [],
   "source": [
    "n = X_train.shape[0]\n",
    "vect = TfidfVectorizer(ngram_range=(1,4), tokenizer=tokenize,\n",
    "               min_df=3, max_df=0.9, strip_accents='unicode', use_idf=1,\n",
    "               smooth_idf=1, sublinear_tf=1 )\n",
    "trn_term_doc = vect.fit_transform(X_train)\n",
    "test_term_doc = vect.transform(X_valid)"
   ]
  },
  {
   "cell_type": "code",
   "execution_count": 65,
   "metadata": {},
   "outputs": [],
   "source": [
    "trn_doc = trn_term_doc"
   ]
  },
  {
   "cell_type": "code",
   "execution_count": 66,
   "metadata": {},
   "outputs": [],
   "source": [
    "val_doc = test_term_doc"
   ]
  },
  {
   "cell_type": "code",
   "execution_count": 67,
   "metadata": {},
   "outputs": [
    {
     "data": {
      "text/plain": [
       "(1300, 30870)"
      ]
     },
     "execution_count": 67,
     "metadata": {},
     "output_type": "execute_result"
    }
   ],
   "source": [
    "trn_doc.shape"
   ]
  },
  {
   "cell_type": "code",
   "execution_count": 68,
   "metadata": {},
   "outputs": [],
   "source": [
    "vocab = vect.get_feature_names()"
   ]
  },
  {
   "cell_type": "code",
   "execution_count": 69,
   "metadata": {},
   "outputs": [
    {
     "data": {
      "text/plain": [
       "['readers he was', 'readers he was born', 'ready', 'real', 'realities']"
      ]
     },
     "execution_count": 69,
     "metadata": {},
     "output_type": "execute_result"
    }
   ],
   "source": [
    "vocab[20000:20005]"
   ]
  },
  {
   "cell_type": "code",
   "execution_count": 70,
   "metadata": {},
   "outputs": [
    {
     "data": {
      "text/plain": [
       "array([1, 1, 1, ..., 0, 1, 1])"
      ]
     },
     "execution_count": 70,
     "metadata": {},
     "output_type": "execute_result"
    }
   ],
   "source": [
    "y = y_train\n",
    "y"
   ]
  },
  {
   "cell_type": "code",
   "execution_count": 71,
   "metadata": {},
   "outputs": [
    {
     "data": {
      "text/plain": [
       "array([[1, 1, 1, 0, 1, 0, 1, 1, 0, 1, 1, 0, 1, 1, 1, 1, 1, 1, 0, 1, 0, 1, 0, 0, 1, 1, 0, 1, 1, 1, 0, 0, 1,\n",
       "        0, 1, 0, 1, 0, 0, 0, 1, 1, 1, 0, 0, 0, 1, 0, 0, 1, 1, 0, 1, 0, 0, 0, 1, 0, 1, 0, 0, 0, 1, 0, 1, 0,\n",
       "        1, 1, 0, 1, 1, 1, 0, 0, 0, 0, 1, 1, 0, 0, 0, 0, 0, 1, 0, 0, 1, 1, 0, 1, 0, 1, 0, 0, 1, 1, 0, 1, 0,\n",
       "        1, 0, 0, 1, 0, 1, 0, 1, 1, 1, 1, 1, 0, 1, 0, 0, 0, 0, 0, 0, 0, 1, 1, 0, 1, 0, 1, 0, 0, 0, 1, 1, 1,\n",
       "        1, 0, 0, 1, 1, 1, 1, 0, 0, 0, 1, 1, 1, 0, 1, 0, 1, 1, 0, 1, 0, 0, 0, 0, 0, 0, 1, 1, 0, 1, 0, 0, 0,\n",
       "        0, 1, 0, 0, 1, 0, 0, 1, 1, 0, 1, 1, 1, 1, 0, 0, 1, 0, 0, 0, 0, 1, 0, 0, 1, 1, 1, 0, 0, 1, 0, 0, 0,\n",
       "        0, 1, 1, 1, 1, 0, 0, 1, 1, 1, 0, 0, 0, 0, 0, 1, 0, 0, 1, 1, 1, 0, 0, 1, 0, 0, 1, 0, 0, 1, 1, 0, 0,\n",
       "        0, 0, 1, 1, 1, 1, 1, 1, 1, 0, 1, 1, 1, 1, 1, 0, 0, 1, 1, 0, 0, 0, 0, 0, 1, 0, 0, 0, 0, 0, 1, 1, 0,\n",
       "        1, 1, 0, 1, 0, 0, 1, 1, 0, 1, 1, 0]])"
      ]
     },
     "execution_count": 71,
     "metadata": {},
     "output_type": "execute_result"
    }
   ],
   "source": [
    "val_y"
   ]
  },
  {
   "cell_type": "code",
   "execution_count": 72,
   "metadata": {},
   "outputs": [
    {
     "data": {
      "text/plain": [
       "<1300x30870 sparse matrix of type '<class 'numpy.float64'>'\n",
       "\twith 273716 stored elements in Compressed Sparse Row format>"
      ]
     },
     "execution_count": 72,
     "metadata": {},
     "output_type": "execute_result"
    }
   ],
   "source": [
    "x = trn_doc.sign()\n",
    "x"
   ]
  },
  {
   "cell_type": "code",
   "execution_count": 73,
   "metadata": {},
   "outputs": [
    {
     "data": {
      "text/plain": [
       "<276x30870 sparse matrix of type '<class 'numpy.float64'>'\n",
       "\twith 50709 stored elements in Compressed Sparse Row format>"
      ]
     },
     "execution_count": 73,
     "metadata": {},
     "output_type": "execute_result"
    }
   ],
   "source": [
    "val_x = val_doc.sign()\n",
    "val_x"
   ]
  },
  {
   "cell_type": "code",
   "execution_count": 74,
   "metadata": {},
   "outputs": [],
   "source": [
    "p = x[y==1].sum(0)+1\n",
    "q = x[y==0].sum(0)+1\n",
    "r = np.log((p/p.sum())/(q/q.sum()))\n",
    "b = np.log(len(p)/len(q))"
   ]
  },
  {
   "cell_type": "code",
   "execution_count": 75,
   "metadata": {},
   "outputs": [
    {
     "data": {
      "text/plain": [
       "0.855072463768116"
      ]
     },
     "execution_count": 75,
     "metadata": {},
     "output_type": "execute_result"
    }
   ],
   "source": [
    "pre_preds = val_x @ r.T + b\n",
    "preds = pre_preds.T>0\n",
    "(preds==val_y).mean()"
   ]
  },
  {
   "cell_type": "code",
   "execution_count": 76,
   "metadata": {},
   "outputs": [
    {
     "data": {
      "text/plain": [
       "0.8804347826086957"
      ]
     },
     "execution_count": 76,
     "metadata": {},
     "output_type": "execute_result"
    }
   ],
   "source": [
    "m = LogisticRegression(C=0.1, dual=True)\n",
    "m.fit(x,y)\n",
    "preds = m.predict(val_x)\n",
    "(preds==val_y).mean()"
   ]
  },
  {
   "cell_type": "code",
   "execution_count": 77,
   "metadata": {},
   "outputs": [
    {
     "data": {
      "text/plain": [
       "(1, 30870)"
      ]
     },
     "execution_count": 77,
     "metadata": {},
     "output_type": "execute_result"
    }
   ],
   "source": [
    "r.shape"
   ]
  },
  {
   "cell_type": "code",
   "execution_count": 78,
   "metadata": {},
   "outputs": [
    {
     "data": {
      "text/plain": [
       "matrix([[ 0.59113,  0.87881,  0.87881, ..., -1.89378, -2.11692, -2.11692]])"
      ]
     },
     "execution_count": 78,
     "metadata": {},
     "output_type": "execute_result"
    }
   ],
   "source": [
    "r"
   ]
  },
  {
   "cell_type": "code",
   "execution_count": 79,
   "metadata": {},
   "outputs": [
    {
     "data": {
      "text/plain": [
       "matrix([[1.80603, 2.40804, 2.40804, ..., 0.1505 , 0.1204 , 0.1204 ]])"
      ]
     },
     "execution_count": 79,
     "metadata": {},
     "output_type": "execute_result"
    }
   ],
   "source": [
    "np.exp(r)"
   ]
  },
  {
   "cell_type": "code",
   "execution_count": 80,
   "metadata": {},
   "outputs": [
    {
     "data": {
      "text/plain": [
       "0.8985507246376812"
      ]
     },
     "execution_count": 80,
     "metadata": {},
     "output_type": "execute_result"
    }
   ],
   "source": [
    "x_nb = x.multiply(r)\n",
    "m = LogisticRegression(C=0.1, dual=True)\n",
    "m.fit(x_nb,y)\n",
    "\n",
    "val_x_nb = val_x.multiply(r)\n",
    "preds = m.predict(val_x_nb)\n",
    "(preds==val_y).mean()"
   ]
  },
  {
   "cell_type": "code",
   "execution_count": null,
   "metadata": {},
   "outputs": [],
   "source": []
  }
 ],
 "metadata": {
  "kernelspec": {
   "display_name": "Python 3",
   "language": "python",
   "name": "python3"
  },
  "language_info": {
   "codemirror_mode": {
    "name": "ipython",
    "version": 3
   },
   "file_extension": ".py",
   "mimetype": "text/x-python",
   "name": "python",
   "nbconvert_exporter": "python",
   "pygments_lexer": "ipython3",
   "version": "3.6.8"
  }
 },
 "nbformat": 4,
 "nbformat_minor": 2
}
